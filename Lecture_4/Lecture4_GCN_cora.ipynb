{
  "nbformat": 4,
  "nbformat_minor": 0,
  "metadata": {
    "colab": {
      "provenance": []
    },
    "kernelspec": {
      "name": "python3",
      "display_name": "Python 3"
    },
    "language_info": {
      "name": "python"
    }
  },
  "cells": [
    {
      "cell_type": "markdown",
      "source": [
        "The code in the following sections comes mainly from [this repository](https://github.com/tkipf/pygcn) and it is inspired by the paper [Semi-Supervised Classification with Graph Convolutional Networks](https://arxiv.org/abs/1609.02907), where Thomas Kipf presents the Graph Convolutional Networks in PyTorch."
      ],
      "metadata": {
        "id": "QMOuHH0LoHE_"
      }
    },
    {
      "cell_type": "code",
      "source": [
        "import pandas\n",
        "import numpy as np\n",
        "import scipy.sparse as sp\n",
        "import torch\n"
      ],
      "metadata": {
        "id": "hXUL6Otzo_-M"
      },
      "execution_count": 1,
      "outputs": []
    },
    {
      "cell_type": "markdown",
      "source": [
        "#The Cora Dataset"
      ],
      "metadata": {
        "id": "1YnbOtIwoOJB"
      }
    },
    {
      "cell_type": "markdown",
      "source": [
        "##Datset format"
      ],
      "metadata": {
        "id": "TgGUTNm4pRlL"
      }
    },
    {
      "cell_type": "markdown",
      "source": [
        "The `cora.content` contains the description of each node. For each line it contains:\n",
        " - The id of the node.\n",
        " - The [bag-of-words](https://en.wikipedia.org/wiki/Bag-of-words_model) text representation.\n",
        " - The label of that node."
      ],
      "metadata": {
        "id": "hxZx1no_ooyc"
      }
    },
    {
      "cell_type": "code",
      "execution_count": 2,
      "metadata": {
        "colab": {
          "base_uri": "https://localhost:8080/",
          "height": 255
        },
        "id": "iCNvqnR9n691",
        "outputId": "68dc844a-91a9-4898-a08e-d83dbc15240a"
      },
      "outputs": [
        {
          "output_type": "execute_result",
          "data": {
            "text/plain": [
              "   PaperID  word0  word1  word2  word3  word4  word5  word6  word7  word8  \\\n",
              "0    31336      0      0      0      0      0      0      0      0      0   \n",
              "1  1061127      0      0      0      0      0      0      0      0      0   \n",
              "2  1106406      0      0      0      0      0      0      0      0      0   \n",
              "3    13195      0      0      0      0      0      0      0      0      0   \n",
              "4    37879      0      0      0      0      0      0      0      0      0   \n",
              "\n",
              "   ...  word1424  word1425  word1426  word1427  word1428  word1429  word1430  \\\n",
              "0  ...       0.0       0.0       1.0       0.0       0.0       0.0       0.0   \n",
              "1  ...       0.0       1.0       0.0       0.0       0.0       0.0       0.0   \n",
              "2  ...       0.0       0.0       0.0       0.0       0.0       0.0       0.0   \n",
              "3  ...       0.0       0.0       0.0       0.0       0.0       0.0       0.0   \n",
              "4  ...       0.0       0.0       0.0       0.0       0.0       0.0       0.0   \n",
              "\n",
              "   word1431  word1432                   label  \n",
              "0       0.0       0.0         Neural_Networks  \n",
              "1       0.0       0.0           Rule_Learning  \n",
              "2       0.0       0.0  Reinforcement_Learning  \n",
              "3       0.0       0.0  Reinforcement_Learning  \n",
              "4       0.0       0.0   Probabilistic_Methods  \n",
              "\n",
              "[5 rows x 1435 columns]"
            ],
            "text/html": [
              "\n",
              "  <div id=\"df-771d654e-5576-401a-b498-73ef09a27905\" class=\"colab-df-container\">\n",
              "    <div>\n",
              "<style scoped>\n",
              "    .dataframe tbody tr th:only-of-type {\n",
              "        vertical-align: middle;\n",
              "    }\n",
              "\n",
              "    .dataframe tbody tr th {\n",
              "        vertical-align: top;\n",
              "    }\n",
              "\n",
              "    .dataframe thead th {\n",
              "        text-align: right;\n",
              "    }\n",
              "</style>\n",
              "<table border=\"1\" class=\"dataframe\">\n",
              "  <thead>\n",
              "    <tr style=\"text-align: right;\">\n",
              "      <th></th>\n",
              "      <th>PaperID</th>\n",
              "      <th>word0</th>\n",
              "      <th>word1</th>\n",
              "      <th>word2</th>\n",
              "      <th>word3</th>\n",
              "      <th>word4</th>\n",
              "      <th>word5</th>\n",
              "      <th>word6</th>\n",
              "      <th>word7</th>\n",
              "      <th>word8</th>\n",
              "      <th>...</th>\n",
              "      <th>word1424</th>\n",
              "      <th>word1425</th>\n",
              "      <th>word1426</th>\n",
              "      <th>word1427</th>\n",
              "      <th>word1428</th>\n",
              "      <th>word1429</th>\n",
              "      <th>word1430</th>\n",
              "      <th>word1431</th>\n",
              "      <th>word1432</th>\n",
              "      <th>label</th>\n",
              "    </tr>\n",
              "  </thead>\n",
              "  <tbody>\n",
              "    <tr>\n",
              "      <th>0</th>\n",
              "      <td>31336</td>\n",
              "      <td>0</td>\n",
              "      <td>0</td>\n",
              "      <td>0</td>\n",
              "      <td>0</td>\n",
              "      <td>0</td>\n",
              "      <td>0</td>\n",
              "      <td>0</td>\n",
              "      <td>0</td>\n",
              "      <td>0</td>\n",
              "      <td>...</td>\n",
              "      <td>0.0</td>\n",
              "      <td>0.0</td>\n",
              "      <td>1.0</td>\n",
              "      <td>0.0</td>\n",
              "      <td>0.0</td>\n",
              "      <td>0.0</td>\n",
              "      <td>0.0</td>\n",
              "      <td>0.0</td>\n",
              "      <td>0.0</td>\n",
              "      <td>Neural_Networks</td>\n",
              "    </tr>\n",
              "    <tr>\n",
              "      <th>1</th>\n",
              "      <td>1061127</td>\n",
              "      <td>0</td>\n",
              "      <td>0</td>\n",
              "      <td>0</td>\n",
              "      <td>0</td>\n",
              "      <td>0</td>\n",
              "      <td>0</td>\n",
              "      <td>0</td>\n",
              "      <td>0</td>\n",
              "      <td>0</td>\n",
              "      <td>...</td>\n",
              "      <td>0.0</td>\n",
              "      <td>1.0</td>\n",
              "      <td>0.0</td>\n",
              "      <td>0.0</td>\n",
              "      <td>0.0</td>\n",
              "      <td>0.0</td>\n",
              "      <td>0.0</td>\n",
              "      <td>0.0</td>\n",
              "      <td>0.0</td>\n",
              "      <td>Rule_Learning</td>\n",
              "    </tr>\n",
              "    <tr>\n",
              "      <th>2</th>\n",
              "      <td>1106406</td>\n",
              "      <td>0</td>\n",
              "      <td>0</td>\n",
              "      <td>0</td>\n",
              "      <td>0</td>\n",
              "      <td>0</td>\n",
              "      <td>0</td>\n",
              "      <td>0</td>\n",
              "      <td>0</td>\n",
              "      <td>0</td>\n",
              "      <td>...</td>\n",
              "      <td>0.0</td>\n",
              "      <td>0.0</td>\n",
              "      <td>0.0</td>\n",
              "      <td>0.0</td>\n",
              "      <td>0.0</td>\n",
              "      <td>0.0</td>\n",
              "      <td>0.0</td>\n",
              "      <td>0.0</td>\n",
              "      <td>0.0</td>\n",
              "      <td>Reinforcement_Learning</td>\n",
              "    </tr>\n",
              "    <tr>\n",
              "      <th>3</th>\n",
              "      <td>13195</td>\n",
              "      <td>0</td>\n",
              "      <td>0</td>\n",
              "      <td>0</td>\n",
              "      <td>0</td>\n",
              "      <td>0</td>\n",
              "      <td>0</td>\n",
              "      <td>0</td>\n",
              "      <td>0</td>\n",
              "      <td>0</td>\n",
              "      <td>...</td>\n",
              "      <td>0.0</td>\n",
              "      <td>0.0</td>\n",
              "      <td>0.0</td>\n",
              "      <td>0.0</td>\n",
              "      <td>0.0</td>\n",
              "      <td>0.0</td>\n",
              "      <td>0.0</td>\n",
              "      <td>0.0</td>\n",
              "      <td>0.0</td>\n",
              "      <td>Reinforcement_Learning</td>\n",
              "    </tr>\n",
              "    <tr>\n",
              "      <th>4</th>\n",
              "      <td>37879</td>\n",
              "      <td>0</td>\n",
              "      <td>0</td>\n",
              "      <td>0</td>\n",
              "      <td>0</td>\n",
              "      <td>0</td>\n",
              "      <td>0</td>\n",
              "      <td>0</td>\n",
              "      <td>0</td>\n",
              "      <td>0</td>\n",
              "      <td>...</td>\n",
              "      <td>0.0</td>\n",
              "      <td>0.0</td>\n",
              "      <td>0.0</td>\n",
              "      <td>0.0</td>\n",
              "      <td>0.0</td>\n",
              "      <td>0.0</td>\n",
              "      <td>0.0</td>\n",
              "      <td>0.0</td>\n",
              "      <td>0.0</td>\n",
              "      <td>Probabilistic_Methods</td>\n",
              "    </tr>\n",
              "  </tbody>\n",
              "</table>\n",
              "<p>5 rows × 1435 columns</p>\n",
              "</div>\n",
              "    <div class=\"colab-df-buttons\">\n",
              "\n",
              "  <div class=\"colab-df-container\">\n",
              "    <button class=\"colab-df-convert\" onclick=\"convertToInteractive('df-771d654e-5576-401a-b498-73ef09a27905')\"\n",
              "            title=\"Convert this dataframe to an interactive table.\"\n",
              "            style=\"display:none;\">\n",
              "\n",
              "  <svg xmlns=\"http://www.w3.org/2000/svg\" height=\"24px\" viewBox=\"0 -960 960 960\">\n",
              "    <path d=\"M120-120v-720h720v720H120Zm60-500h600v-160H180v160Zm220 220h160v-160H400v160Zm0 220h160v-160H400v160ZM180-400h160v-160H180v160Zm440 0h160v-160H620v160ZM180-180h160v-160H180v160Zm440 0h160v-160H620v160Z\"/>\n",
              "  </svg>\n",
              "    </button>\n",
              "\n",
              "  <style>\n",
              "    .colab-df-container {\n",
              "      display:flex;\n",
              "      gap: 12px;\n",
              "    }\n",
              "\n",
              "    .colab-df-convert {\n",
              "      background-color: #E8F0FE;\n",
              "      border: none;\n",
              "      border-radius: 50%;\n",
              "      cursor: pointer;\n",
              "      display: none;\n",
              "      fill: #1967D2;\n",
              "      height: 32px;\n",
              "      padding: 0 0 0 0;\n",
              "      width: 32px;\n",
              "    }\n",
              "\n",
              "    .colab-df-convert:hover {\n",
              "      background-color: #E2EBFA;\n",
              "      box-shadow: 0px 1px 2px rgba(60, 64, 67, 0.3), 0px 1px 3px 1px rgba(60, 64, 67, 0.15);\n",
              "      fill: #174EA6;\n",
              "    }\n",
              "\n",
              "    .colab-df-buttons div {\n",
              "      margin-bottom: 4px;\n",
              "    }\n",
              "\n",
              "    [theme=dark] .colab-df-convert {\n",
              "      background-color: #3B4455;\n",
              "      fill: #D2E3FC;\n",
              "    }\n",
              "\n",
              "    [theme=dark] .colab-df-convert:hover {\n",
              "      background-color: #434B5C;\n",
              "      box-shadow: 0px 1px 3px 1px rgba(0, 0, 0, 0.15);\n",
              "      filter: drop-shadow(0px 1px 2px rgba(0, 0, 0, 0.3));\n",
              "      fill: #FFFFFF;\n",
              "    }\n",
              "  </style>\n",
              "\n",
              "    <script>\n",
              "      const buttonEl =\n",
              "        document.querySelector('#df-771d654e-5576-401a-b498-73ef09a27905 button.colab-df-convert');\n",
              "      buttonEl.style.display =\n",
              "        google.colab.kernel.accessAllowed ? 'block' : 'none';\n",
              "\n",
              "      async function convertToInteractive(key) {\n",
              "        const element = document.querySelector('#df-771d654e-5576-401a-b498-73ef09a27905');\n",
              "        const dataTable =\n",
              "          await google.colab.kernel.invokeFunction('convertToInteractive',\n",
              "                                                    [key], {});\n",
              "        if (!dataTable) return;\n",
              "\n",
              "        const docLinkHtml = 'Like what you see? Visit the ' +\n",
              "          '<a target=\"_blank\" href=https://colab.research.google.com/notebooks/data_table.ipynb>data table notebook</a>'\n",
              "          + ' to learn more about interactive tables.';\n",
              "        element.innerHTML = '';\n",
              "        dataTable['output_type'] = 'display_data';\n",
              "        await google.colab.output.renderOutput(dataTable, element);\n",
              "        const docLink = document.createElement('div');\n",
              "        docLink.innerHTML = docLinkHtml;\n",
              "        element.appendChild(docLink);\n",
              "      }\n",
              "    </script>\n",
              "  </div>\n",
              "\n",
              "\n",
              "    <div id=\"df-cffd8374-8505-4ad5-be73-75d76cf66b0d\">\n",
              "      <button class=\"colab-df-quickchart\" onclick=\"quickchart('df-cffd8374-8505-4ad5-be73-75d76cf66b0d')\"\n",
              "                title=\"Suggest charts\"\n",
              "                style=\"display:none;\">\n",
              "\n",
              "<svg xmlns=\"http://www.w3.org/2000/svg\" height=\"24px\"viewBox=\"0 0 24 24\"\n",
              "     width=\"24px\">\n",
              "    <g>\n",
              "        <path d=\"M19 3H5c-1.1 0-2 .9-2 2v14c0 1.1.9 2 2 2h14c1.1 0 2-.9 2-2V5c0-1.1-.9-2-2-2zM9 17H7v-7h2v7zm4 0h-2V7h2v10zm4 0h-2v-4h2v4z\"/>\n",
              "    </g>\n",
              "</svg>\n",
              "      </button>\n",
              "\n",
              "<style>\n",
              "  .colab-df-quickchart {\n",
              "      --bg-color: #E8F0FE;\n",
              "      --fill-color: #1967D2;\n",
              "      --hover-bg-color: #E2EBFA;\n",
              "      --hover-fill-color: #174EA6;\n",
              "      --disabled-fill-color: #AAA;\n",
              "      --disabled-bg-color: #DDD;\n",
              "  }\n",
              "\n",
              "  [theme=dark] .colab-df-quickchart {\n",
              "      --bg-color: #3B4455;\n",
              "      --fill-color: #D2E3FC;\n",
              "      --hover-bg-color: #434B5C;\n",
              "      --hover-fill-color: #FFFFFF;\n",
              "      --disabled-bg-color: #3B4455;\n",
              "      --disabled-fill-color: #666;\n",
              "  }\n",
              "\n",
              "  .colab-df-quickchart {\n",
              "    background-color: var(--bg-color);\n",
              "    border: none;\n",
              "    border-radius: 50%;\n",
              "    cursor: pointer;\n",
              "    display: none;\n",
              "    fill: var(--fill-color);\n",
              "    height: 32px;\n",
              "    padding: 0;\n",
              "    width: 32px;\n",
              "  }\n",
              "\n",
              "  .colab-df-quickchart:hover {\n",
              "    background-color: var(--hover-bg-color);\n",
              "    box-shadow: 0 1px 2px rgba(60, 64, 67, 0.3), 0 1px 3px 1px rgba(60, 64, 67, 0.15);\n",
              "    fill: var(--button-hover-fill-color);\n",
              "  }\n",
              "\n",
              "  .colab-df-quickchart-complete:disabled,\n",
              "  .colab-df-quickchart-complete:disabled:hover {\n",
              "    background-color: var(--disabled-bg-color);\n",
              "    fill: var(--disabled-fill-color);\n",
              "    box-shadow: none;\n",
              "  }\n",
              "\n",
              "  .colab-df-spinner {\n",
              "    border: 2px solid var(--fill-color);\n",
              "    border-color: transparent;\n",
              "    border-bottom-color: var(--fill-color);\n",
              "    animation:\n",
              "      spin 1s steps(1) infinite;\n",
              "  }\n",
              "\n",
              "  @keyframes spin {\n",
              "    0% {\n",
              "      border-color: transparent;\n",
              "      border-bottom-color: var(--fill-color);\n",
              "      border-left-color: var(--fill-color);\n",
              "    }\n",
              "    20% {\n",
              "      border-color: transparent;\n",
              "      border-left-color: var(--fill-color);\n",
              "      border-top-color: var(--fill-color);\n",
              "    }\n",
              "    30% {\n",
              "      border-color: transparent;\n",
              "      border-left-color: var(--fill-color);\n",
              "      border-top-color: var(--fill-color);\n",
              "      border-right-color: var(--fill-color);\n",
              "    }\n",
              "    40% {\n",
              "      border-color: transparent;\n",
              "      border-right-color: var(--fill-color);\n",
              "      border-top-color: var(--fill-color);\n",
              "    }\n",
              "    60% {\n",
              "      border-color: transparent;\n",
              "      border-right-color: var(--fill-color);\n",
              "    }\n",
              "    80% {\n",
              "      border-color: transparent;\n",
              "      border-right-color: var(--fill-color);\n",
              "      border-bottom-color: var(--fill-color);\n",
              "    }\n",
              "    90% {\n",
              "      border-color: transparent;\n",
              "      border-bottom-color: var(--fill-color);\n",
              "    }\n",
              "  }\n",
              "</style>\n",
              "\n",
              "      <script>\n",
              "        async function quickchart(key) {\n",
              "          const quickchartButtonEl =\n",
              "            document.querySelector('#' + key + ' button');\n",
              "          quickchartButtonEl.disabled = true;  // To prevent multiple clicks.\n",
              "          quickchartButtonEl.classList.add('colab-df-spinner');\n",
              "          try {\n",
              "            const charts = await google.colab.kernel.invokeFunction(\n",
              "                'suggestCharts', [key], {});\n",
              "          } catch (error) {\n",
              "            console.error('Error during call to suggestCharts:', error);\n",
              "          }\n",
              "          quickchartButtonEl.classList.remove('colab-df-spinner');\n",
              "          quickchartButtonEl.classList.add('colab-df-quickchart-complete');\n",
              "        }\n",
              "        (() => {\n",
              "          let quickchartButtonEl =\n",
              "            document.querySelector('#df-cffd8374-8505-4ad5-be73-75d76cf66b0d button');\n",
              "          quickchartButtonEl.style.display =\n",
              "            google.colab.kernel.accessAllowed ? 'block' : 'none';\n",
              "        })();\n",
              "      </script>\n",
              "    </div>\n",
              "\n",
              "    </div>\n",
              "  </div>\n"
            ],
            "application/vnd.google.colaboratory.intrinsic+json": {
              "type": "dataframe",
              "variable_name": "cora_content"
            }
          },
          "metadata": {},
          "execution_count": 2
        }
      ],
      "source": [
        "headers = ['PaperID'] + [f'word{i}' for i in range(1433)] + ['label']\n",
        "cora_content=pandas.read_csv('cora.content', sep=\"\\t\", names=headers)\n",
        "cora_content.head()"
      ]
    },
    {
      "cell_type": "markdown",
      "source": [
        "The `cora.cites` contains the relationships between nodes. For each line it contains:\n",
        "\n",
        "- The first entry is id of the cited paper\n",
        "- The second entry id of the citing paper\n",
        "\n",
        "That is, the direction of the entry is right to left."
      ],
      "metadata": {
        "id": "SPjzysEcorVE"
      }
    },
    {
      "cell_type": "code",
      "source": [
        "headers = ['Cited PaperID', 'Citing PaperID']\n",
        "cora_cites=pandas.read_csv('cora.cites', sep=\"\\t\", names=headers)\n",
        "cora_cites.head()"
      ],
      "metadata": {
        "colab": {
          "base_uri": "https://localhost:8080/",
          "height": 206
        },
        "id": "3RU0oHKIoqkk",
        "outputId": "1f719e35-3d1b-49f6-a0f3-1f6af27eeb9c"
      },
      "execution_count": 3,
      "outputs": [
        {
          "output_type": "execute_result",
          "data": {
            "text/plain": [
              "   Cited PaperID  Citing PaperID\n",
              "0             35            1033\n",
              "1             35          103482\n",
              "2             35          103515\n",
              "3             35         1050679\n",
              "4             35         1103960"
            ],
            "text/html": [
              "\n",
              "  <div id=\"df-f336cca7-b4e2-4ed2-84a9-a0b16363fb5c\" class=\"colab-df-container\">\n",
              "    <div>\n",
              "<style scoped>\n",
              "    .dataframe tbody tr th:only-of-type {\n",
              "        vertical-align: middle;\n",
              "    }\n",
              "\n",
              "    .dataframe tbody tr th {\n",
              "        vertical-align: top;\n",
              "    }\n",
              "\n",
              "    .dataframe thead th {\n",
              "        text-align: right;\n",
              "    }\n",
              "</style>\n",
              "<table border=\"1\" class=\"dataframe\">\n",
              "  <thead>\n",
              "    <tr style=\"text-align: right;\">\n",
              "      <th></th>\n",
              "      <th>Cited PaperID</th>\n",
              "      <th>Citing PaperID</th>\n",
              "    </tr>\n",
              "  </thead>\n",
              "  <tbody>\n",
              "    <tr>\n",
              "      <th>0</th>\n",
              "      <td>35</td>\n",
              "      <td>1033</td>\n",
              "    </tr>\n",
              "    <tr>\n",
              "      <th>1</th>\n",
              "      <td>35</td>\n",
              "      <td>103482</td>\n",
              "    </tr>\n",
              "    <tr>\n",
              "      <th>2</th>\n",
              "      <td>35</td>\n",
              "      <td>103515</td>\n",
              "    </tr>\n",
              "    <tr>\n",
              "      <th>3</th>\n",
              "      <td>35</td>\n",
              "      <td>1050679</td>\n",
              "    </tr>\n",
              "    <tr>\n",
              "      <th>4</th>\n",
              "      <td>35</td>\n",
              "      <td>1103960</td>\n",
              "    </tr>\n",
              "  </tbody>\n",
              "</table>\n",
              "</div>\n",
              "    <div class=\"colab-df-buttons\">\n",
              "\n",
              "  <div class=\"colab-df-container\">\n",
              "    <button class=\"colab-df-convert\" onclick=\"convertToInteractive('df-f336cca7-b4e2-4ed2-84a9-a0b16363fb5c')\"\n",
              "            title=\"Convert this dataframe to an interactive table.\"\n",
              "            style=\"display:none;\">\n",
              "\n",
              "  <svg xmlns=\"http://www.w3.org/2000/svg\" height=\"24px\" viewBox=\"0 -960 960 960\">\n",
              "    <path d=\"M120-120v-720h720v720H120Zm60-500h600v-160H180v160Zm220 220h160v-160H400v160Zm0 220h160v-160H400v160ZM180-400h160v-160H180v160Zm440 0h160v-160H620v160ZM180-180h160v-160H180v160Zm440 0h160v-160H620v160Z\"/>\n",
              "  </svg>\n",
              "    </button>\n",
              "\n",
              "  <style>\n",
              "    .colab-df-container {\n",
              "      display:flex;\n",
              "      gap: 12px;\n",
              "    }\n",
              "\n",
              "    .colab-df-convert {\n",
              "      background-color: #E8F0FE;\n",
              "      border: none;\n",
              "      border-radius: 50%;\n",
              "      cursor: pointer;\n",
              "      display: none;\n",
              "      fill: #1967D2;\n",
              "      height: 32px;\n",
              "      padding: 0 0 0 0;\n",
              "      width: 32px;\n",
              "    }\n",
              "\n",
              "    .colab-df-convert:hover {\n",
              "      background-color: #E2EBFA;\n",
              "      box-shadow: 0px 1px 2px rgba(60, 64, 67, 0.3), 0px 1px 3px 1px rgba(60, 64, 67, 0.15);\n",
              "      fill: #174EA6;\n",
              "    }\n",
              "\n",
              "    .colab-df-buttons div {\n",
              "      margin-bottom: 4px;\n",
              "    }\n",
              "\n",
              "    [theme=dark] .colab-df-convert {\n",
              "      background-color: #3B4455;\n",
              "      fill: #D2E3FC;\n",
              "    }\n",
              "\n",
              "    [theme=dark] .colab-df-convert:hover {\n",
              "      background-color: #434B5C;\n",
              "      box-shadow: 0px 1px 3px 1px rgba(0, 0, 0, 0.15);\n",
              "      filter: drop-shadow(0px 1px 2px rgba(0, 0, 0, 0.3));\n",
              "      fill: #FFFFFF;\n",
              "    }\n",
              "  </style>\n",
              "\n",
              "    <script>\n",
              "      const buttonEl =\n",
              "        document.querySelector('#df-f336cca7-b4e2-4ed2-84a9-a0b16363fb5c button.colab-df-convert');\n",
              "      buttonEl.style.display =\n",
              "        google.colab.kernel.accessAllowed ? 'block' : 'none';\n",
              "\n",
              "      async function convertToInteractive(key) {\n",
              "        const element = document.querySelector('#df-f336cca7-b4e2-4ed2-84a9-a0b16363fb5c');\n",
              "        const dataTable =\n",
              "          await google.colab.kernel.invokeFunction('convertToInteractive',\n",
              "                                                    [key], {});\n",
              "        if (!dataTable) return;\n",
              "\n",
              "        const docLinkHtml = 'Like what you see? Visit the ' +\n",
              "          '<a target=\"_blank\" href=https://colab.research.google.com/notebooks/data_table.ipynb>data table notebook</a>'\n",
              "          + ' to learn more about interactive tables.';\n",
              "        element.innerHTML = '';\n",
              "        dataTable['output_type'] = 'display_data';\n",
              "        await google.colab.output.renderOutput(dataTable, element);\n",
              "        const docLink = document.createElement('div');\n",
              "        docLink.innerHTML = docLinkHtml;\n",
              "        element.appendChild(docLink);\n",
              "      }\n",
              "    </script>\n",
              "  </div>\n",
              "\n",
              "\n",
              "    <div id=\"df-f0b5506f-05b0-47f6-af15-1f35abcce500\">\n",
              "      <button class=\"colab-df-quickchart\" onclick=\"quickchart('df-f0b5506f-05b0-47f6-af15-1f35abcce500')\"\n",
              "                title=\"Suggest charts\"\n",
              "                style=\"display:none;\">\n",
              "\n",
              "<svg xmlns=\"http://www.w3.org/2000/svg\" height=\"24px\"viewBox=\"0 0 24 24\"\n",
              "     width=\"24px\">\n",
              "    <g>\n",
              "        <path d=\"M19 3H5c-1.1 0-2 .9-2 2v14c0 1.1.9 2 2 2h14c1.1 0 2-.9 2-2V5c0-1.1-.9-2-2-2zM9 17H7v-7h2v7zm4 0h-2V7h2v10zm4 0h-2v-4h2v4z\"/>\n",
              "    </g>\n",
              "</svg>\n",
              "      </button>\n",
              "\n",
              "<style>\n",
              "  .colab-df-quickchart {\n",
              "      --bg-color: #E8F0FE;\n",
              "      --fill-color: #1967D2;\n",
              "      --hover-bg-color: #E2EBFA;\n",
              "      --hover-fill-color: #174EA6;\n",
              "      --disabled-fill-color: #AAA;\n",
              "      --disabled-bg-color: #DDD;\n",
              "  }\n",
              "\n",
              "  [theme=dark] .colab-df-quickchart {\n",
              "      --bg-color: #3B4455;\n",
              "      --fill-color: #D2E3FC;\n",
              "      --hover-bg-color: #434B5C;\n",
              "      --hover-fill-color: #FFFFFF;\n",
              "      --disabled-bg-color: #3B4455;\n",
              "      --disabled-fill-color: #666;\n",
              "  }\n",
              "\n",
              "  .colab-df-quickchart {\n",
              "    background-color: var(--bg-color);\n",
              "    border: none;\n",
              "    border-radius: 50%;\n",
              "    cursor: pointer;\n",
              "    display: none;\n",
              "    fill: var(--fill-color);\n",
              "    height: 32px;\n",
              "    padding: 0;\n",
              "    width: 32px;\n",
              "  }\n",
              "\n",
              "  .colab-df-quickchart:hover {\n",
              "    background-color: var(--hover-bg-color);\n",
              "    box-shadow: 0 1px 2px rgba(60, 64, 67, 0.3), 0 1px 3px 1px rgba(60, 64, 67, 0.15);\n",
              "    fill: var(--button-hover-fill-color);\n",
              "  }\n",
              "\n",
              "  .colab-df-quickchart-complete:disabled,\n",
              "  .colab-df-quickchart-complete:disabled:hover {\n",
              "    background-color: var(--disabled-bg-color);\n",
              "    fill: var(--disabled-fill-color);\n",
              "    box-shadow: none;\n",
              "  }\n",
              "\n",
              "  .colab-df-spinner {\n",
              "    border: 2px solid var(--fill-color);\n",
              "    border-color: transparent;\n",
              "    border-bottom-color: var(--fill-color);\n",
              "    animation:\n",
              "      spin 1s steps(1) infinite;\n",
              "  }\n",
              "\n",
              "  @keyframes spin {\n",
              "    0% {\n",
              "      border-color: transparent;\n",
              "      border-bottom-color: var(--fill-color);\n",
              "      border-left-color: var(--fill-color);\n",
              "    }\n",
              "    20% {\n",
              "      border-color: transparent;\n",
              "      border-left-color: var(--fill-color);\n",
              "      border-top-color: var(--fill-color);\n",
              "    }\n",
              "    30% {\n",
              "      border-color: transparent;\n",
              "      border-left-color: var(--fill-color);\n",
              "      border-top-color: var(--fill-color);\n",
              "      border-right-color: var(--fill-color);\n",
              "    }\n",
              "    40% {\n",
              "      border-color: transparent;\n",
              "      border-right-color: var(--fill-color);\n",
              "      border-top-color: var(--fill-color);\n",
              "    }\n",
              "    60% {\n",
              "      border-color: transparent;\n",
              "      border-right-color: var(--fill-color);\n",
              "    }\n",
              "    80% {\n",
              "      border-color: transparent;\n",
              "      border-right-color: var(--fill-color);\n",
              "      border-bottom-color: var(--fill-color);\n",
              "    }\n",
              "    90% {\n",
              "      border-color: transparent;\n",
              "      border-bottom-color: var(--fill-color);\n",
              "    }\n",
              "  }\n",
              "</style>\n",
              "\n",
              "      <script>\n",
              "        async function quickchart(key) {\n",
              "          const quickchartButtonEl =\n",
              "            document.querySelector('#' + key + ' button');\n",
              "          quickchartButtonEl.disabled = true;  // To prevent multiple clicks.\n",
              "          quickchartButtonEl.classList.add('colab-df-spinner');\n",
              "          try {\n",
              "            const charts = await google.colab.kernel.invokeFunction(\n",
              "                'suggestCharts', [key], {});\n",
              "          } catch (error) {\n",
              "            console.error('Error during call to suggestCharts:', error);\n",
              "          }\n",
              "          quickchartButtonEl.classList.remove('colab-df-spinner');\n",
              "          quickchartButtonEl.classList.add('colab-df-quickchart-complete');\n",
              "        }\n",
              "        (() => {\n",
              "          let quickchartButtonEl =\n",
              "            document.querySelector('#df-f0b5506f-05b0-47f6-af15-1f35abcce500 button');\n",
              "          quickchartButtonEl.style.display =\n",
              "            google.colab.kernel.accessAllowed ? 'block' : 'none';\n",
              "        })();\n",
              "      </script>\n",
              "    </div>\n",
              "\n",
              "    </div>\n",
              "  </div>\n"
            ],
            "application/vnd.google.colaboratory.intrinsic+json": {
              "type": "dataframe",
              "variable_name": "cora_cites",
              "summary": "{\n  \"name\": \"cora_cites\",\n  \"rows\": 5429,\n  \"fields\": [\n    {\n      \"column\": \"Cited PaperID\",\n      \"properties\": {\n        \"dtype\": \"number\",\n        \"std\": 188229,\n        \"min\": 35,\n        \"max\": 954315,\n        \"num_unique_values\": 1565,\n        \"samples\": [\n          45052,\n          16008,\n          617575\n        ],\n        \"semantic_type\": \"\",\n        \"description\": \"\"\n      }\n    },\n    {\n      \"column\": \"Citing PaperID\",\n      \"properties\": {\n        \"dtype\": \"number\",\n        \"std\": 471047,\n        \"min\": 35,\n        \"max\": 1155073,\n        \"num_unique_values\": 2222,\n        \"samples\": [\n          387795,\n          1136110,\n          1109185\n        ],\n        \"semantic_type\": \"\",\n        \"description\": \"\"\n      }\n    }\n  ]\n}"
            }
          },
          "metadata": {},
          "execution_count": 3
        }
      ]
    },
    {
      "cell_type": "code",
      "source": [
        "classes = [\n",
        "    'Case_Based',\n",
        "    'Genetic_Algorithms',\n",
        "    'Neural_Networks',\n",
        "    'Probabilistic_Methods',\n",
        "    'Reinforcement_Learning',\n",
        "    'Rule_Learning',\n",
        "    'Theory',\n",
        "]"
      ],
      "metadata": {
        "id": "6PARcUqepL6S"
      },
      "execution_count": 4,
      "outputs": []
    },
    {
      "cell_type": "markdown",
      "source": [],
      "metadata": {
        "id": "hPLmuVS_on1b"
      }
    },
    {
      "cell_type": "markdown",
      "source": [
        "## Dataset Loading"
      ],
      "metadata": {
        "id": "MgssktZWpVFk"
      }
    },
    {
      "cell_type": "markdown",
      "source": [
        "Until now we have seen building graphs in networkx. However in Pytorch, we need the data in the form of tensors. For this, we need some pre-processing"
      ],
      "metadata": {
        "id": "-ILfq1wgpc8l"
      }
    },
    {
      "cell_type": "code",
      "source": [
        "def encode_onehot(labels):\n",
        "    \"\"\" Converts categorical labels into a one-hot encoded format\"\"\"\n",
        "    classes = set(labels)\n",
        "    classes_dict = {c: np.identity(len(classes))[i, :] for i, c in\n",
        "                    enumerate(classes)}\n",
        "    labels_onehot = np.array(list(map(classes_dict.get, labels)),\n",
        "                             dtype=np.int32)\n",
        "    return labels_onehot"
      ],
      "metadata": {
        "id": "s7lcdgxYrt4h"
      },
      "execution_count": 5,
      "outputs": []
    },
    {
      "cell_type": "code",
      "source": [
        "def normalize(mx):\n",
        "    \"\"\"Row-normalize sparse matrix\"\"\"\n",
        "    rowsum = np.array(mx.sum(1))\n",
        "    r_inv = np.power(rowsum, -1).flatten()\n",
        "    r_inv[np.isinf(r_inv)] = 0.\n",
        "    r_mat_inv = sp.diags(r_inv)\n",
        "    mx = r_mat_inv.dot(mx)\n",
        "    return mx\n",
        "\n",
        "#Row-normalizes a sparse matrix.\n",
        "#To ensure that the sum of weights for edges originating from a node is 1."
      ],
      "metadata": {
        "id": "aw9WtOtLryav"
      },
      "execution_count": 6,
      "outputs": []
    },
    {
      "cell_type": "code",
      "source": [
        "def sparse_mx_to_torch_sparse_tensor(sparse_mx):\n",
        "    \"\"\"Convert a scipy sparse matrix to a torch sparse tensor.\"\"\"\n",
        "    sparse_mx = sparse_mx.tocoo().astype(np.float32)\n",
        "    indices = torch.from_numpy(\n",
        "        np.vstack((sparse_mx.row, sparse_mx.col)).astype(np.int64))\n",
        "    values = torch.from_numpy(sparse_mx.data)\n",
        "    shape = torch.Size(sparse_mx.shape)\n",
        "    return torch.sparse_coo_tensor(indices, values, shape)"
      ],
      "metadata": {
        "id": "6KrCU1SBr10d"
      },
      "execution_count": null,
      "outputs": []
    },
    {
      "cell_type": "code",
      "source": [
        "def load_data(cora_cites, cora_content):\n",
        "    \"\"\"Load citation network dataset from pandas DataFrames.\"\"\"\n",
        "    print('Loading dataset from DataFrames...')\n",
        "\n",
        "    # Extract data from cora_content DataFrame\n",
        "    idx_features_labels = cora_content.values\n",
        "    features = sp.csr_matrix(idx_features_labels[:, 1:-1], dtype=np.float32)\n",
        "    labels = encode_onehot(idx_features_labels[:, -1])\n",
        "\n",
        "    # build graph\n",
        "    idx = np.array(idx_features_labels[:, 0], dtype=np.int32)\n",
        "    idx_map = {j: i for i, j in enumerate(idx)}\n",
        "\n",
        "    # Extract data from cora_cites DataFrame and build edges\n",
        "    edges_unordered = cora_cites.values\n",
        "    edges = np.array(list(map(idx_map.get, edges_unordered.flatten())),\n",
        "                     dtype=np.int32).reshape(edges_unordered.shape)\n",
        "    adj = sp.coo_matrix((np.ones(edges.shape[0]), (edges[:, 0], edges[:, 1])),\n",
        "                        shape=(labels.shape[0], labels.shape[0]),\n",
        "                        dtype=np.float32)\n",
        "\n",
        "    # build symmetric adjacency matrix\n",
        "    adj = adj + adj.T.multiply(adj.T > adj) - adj.multiply(adj.T > adj)\n",
        "\n",
        "    features = normalize(features)\n",
        "    adj = normalize(adj + sp.eye(adj.shape[0]))\n",
        "\n",
        "    idx_train = range(140)\n",
        "    idx_val = range(200, 500)\n",
        "    idx_test = range(500, 1500)\n",
        "\n",
        "    features = torch.FloatTensor(np.array(features.todense()))\n",
        "    labels = torch.LongTensor(np.where(labels)[1])\n",
        "    adj = sparse_mx_to_torch_sparse_tensor(adj)\n",
        "\n",
        "    idx_train = torch.LongTensor(idx_train)\n",
        "    idx_val = torch.LongTensor(idx_val)\n",
        "    idx_test = torch.LongTensor(idx_test)\n",
        "\n",
        "    return adj, features, labels, idx_train, idx_val, idx_test\n",
        "\n",
        "# Now you can call the function with your existing dataframes:\n",
        "# adj, features, labels, idx_train, idx_val, idx_test = load_data(cora_cites, cora_content)"
      ],
      "metadata": {
        "id": "C7q5j4rzqZYK"
      },
      "execution_count": null,
      "outputs": []
    },
    {
      "cell_type": "code",
      "source": [
        "adj, features, labels, idx_train, idx_val, idx_test = load_data(cora_cites, cora_content)"
      ],
      "metadata": {
        "colab": {
          "base_uri": "https://localhost:8080/"
        },
        "id": "A7qct-ZarO5A",
        "outputId": "8199e058-eed1-40ec-88b3-74a034788f54"
      },
      "execution_count": null,
      "outputs": [
        {
          "output_type": "stream",
          "name": "stdout",
          "text": [
            "Loading dataset from DataFrames...\n"
          ]
        }
      ]
    },
    {
      "cell_type": "code",
      "source": [
        "# As expected its shape is num_paper*num_paper\n",
        "adj.shape"
      ],
      "metadata": {
        "colab": {
          "base_uri": "https://localhost:8080/"
        },
        "id": "ewFY30wQsDtS",
        "outputId": "b598bfb4-0946-458a-e5c7-c2d723dd81d8"
      },
      "execution_count": null,
      "outputs": [
        {
          "output_type": "execute_result",
          "data": {
            "text/plain": [
              "torch.Size([2708, 2708])"
            ]
          },
          "metadata": {},
          "execution_count": 10
        }
      ]
    },
    {
      "cell_type": "code",
      "source": [
        "print(torch.sum(adj.to_dense(), 0)) #summing across the rows, calculating, sum of each column\n",
        "print(torch.sum(adj.to_dense(), 1)) #summing across the column, calculating sum of each row"
      ],
      "metadata": {
        "colab": {
          "base_uri": "https://localhost:8080/"
        },
        "id": "a7_iO8qjsJKc",
        "outputId": "16db10ea-b5ca-48e7-fecc-aa340cb6ed45"
      },
      "execution_count": null,
      "outputs": [
        {
          "output_type": "stream",
          "name": "stdout",
          "text": [
            "tensor([0.8333, 0.5312, 0.5276,  ..., 1.1444, 1.1524, 1.2000])\n",
            "tensor([1., 1., 1.,  ..., 1., 1., 1.])\n"
          ]
        }
      ]
    },
    {
      "cell_type": "markdown",
      "source": [
        "The row normalization makes the \"outgoing\" weights from each node sum to 1, but it doesn't force the \"incoming\" weights (represented by column sums) to also sum to 1."
      ],
      "metadata": {
        "id": "QU2w1Ky4u3P_"
      }
    },
    {
      "cell_type": "code",
      "source": [
        "# Each paper has 1433 features. The BOW representation of its text\n",
        "features.shape"
      ],
      "metadata": {
        "colab": {
          "base_uri": "https://localhost:8080/"
        },
        "id": "OLvAErwvuBjX",
        "outputId": "15b1f71e-c7aa-4f7e-ac36-169627e5a364"
      },
      "execution_count": null,
      "outputs": [
        {
          "output_type": "execute_result",
          "data": {
            "text/plain": [
              "torch.Size([2708, 1433])"
            ]
          },
          "metadata": {},
          "execution_count": 12
        }
      ]
    },
    {
      "cell_type": "markdown",
      "source": [
        "## Graph Convolution\n"
      ],
      "metadata": {
        "id": "KQkdmvJdw4c8"
      }
    },
    {
      "cell_type": "markdown",
      "source": [
        "###Graph Convolution Layer\n",
        "\n",
        "\n",
        "- `GraphConvolution(Module)`: Defines a custom PyTorch module for the graph convolution operation.\n",
        "  - `__init__`: Initializes the layer with input and output feature sizes. It defines two `nn.Parameter`s: `weight` and `bias`. These are the learnable parameters of the layer.\n",
        "  - `reset_parameters`: Initializes the weight and bias parameters using a uniform distribution, a standard practice.\n",
        "  - `forward(input, adj)`: Performs the graph convolution:\n",
        "    - `support = torch.mm(input, self.weight)`: Multiplies the input features by the weight matrix.\n",
        "    - `output = torch.spmm(adj, support)`: Performs sparse matrix multiplication between the adjacency matrix and the `support` matrix. This is the core of the graph convolution, aggregating information from neighboring nodes based on the graph structure.\n",
        "    - `return output + self.bias`: Adds the bias term to the aggregated features."
      ],
      "metadata": {
        "id": "s4KTsd4L55Fn"
      }
    },
    {
      "cell_type": "code",
      "source": [
        "from torch import nn\n",
        "import torch.nn.functional as F # Also import F for ReLU\n",
        "from torch.nn import Parameter, Module\n",
        "\n",
        "import math\n",
        "class GraphConvolution(Module):\n",
        "\n",
        "    def __init__(self, in_features, out_features):\n",
        "        super(GraphConvolution, self).__init__() #super() provides a way to access the methods of the parent class (torch.nn.Module).\n",
        "        \"\"\"Initializes the layer with input and output feature sizes\"\"\"\n",
        "\n",
        "        # A nn.Parameter is a normal tensor\n",
        "        # that is automatically registered as a model parameter\n",
        "        # so that it is inclued in `model.parameters()`.\n",
        "        self.weight = Parameter(torch.FloatTensor(in_features, out_features))\n",
        "        self.bias = Parameter(torch.FloatTensor(out_features))\n",
        "        self.reset_parameters()\n",
        "\n",
        "    def reset_parameters(self):\n",
        "        #Initializes the weight and bias parameters using a uniform distribution\n",
        "        stdv = 1. / math.sqrt(self.weight.size(1))\n",
        "        self.weight.data.uniform_(-stdv, stdv)\n",
        "        self.bias.data.uniform_(-stdv, stdv)\n",
        "\n",
        "    def forward(self, input, adj):\n",
        "        support = torch.mm(input, self.weight) #multiplies input features by weight matrix\n",
        "        output = torch.spmm(adj, support)  # sparse matrix multiplication between the adjacency matrix and the support matrix.\n",
        "        # This aggregaties information from neighboring nodes based on the graph structure.\n",
        "        return output + self.bias  #Adds the bias term to the aggregated features."
      ],
      "metadata": {
        "id": "QAXn0u5fw20c"
      },
      "execution_count": null,
      "outputs": []
    },
    {
      "cell_type": "markdown",
      "source": [
        "**Graph Convolutional Network (GCN) Model:**\n",
        "- `GCN(nn.Module)`: Defines the overall GCN model.\n",
        "  - `__init__`: Initializes the model with the number of input features (`nfeat`), hidden layer size (`nhid`), number of output classes (`nclass`), and dropout rate. It instantiates two `GraphConvolution` layers.\n",
        "  - `forward(x, adj)`: Defines the forward pass of the GCN:\n",
        "    - `x = F.relu(self.gc1(x, adj))`: Applies the first graph convolution layer and then the ReLU activation function.\n",
        "    - `x = self.gc2(x, adj)`: Applies the second graph convolution layer. The output of this layer is the final prediction scores for each node across the different classes."
      ],
      "metadata": {
        "id": "stzVKizn9YmW"
      }
    },
    {
      "cell_type": "code",
      "source": [
        "class GCN(nn.Module):\n",
        "    def __init__(self, nfeat, nhid, nclass,dropout):\n",
        "        super(GCN, self).__init__()\n",
        "        self.gc1 = GraphConvolution(nfeat, nhid)\n",
        "        self.gc2 = GraphConvolution(nhid, nclass)\n",
        "        self.dropout=dropout\n",
        "\n",
        "    def forward(self, x, adj):\n",
        "        h = F.relu(self.gc1(x, adj))\n",
        "        #x is the input node feature tensor.\n",
        "        #Its shape is typically (number_of_nodes, number_of_input_features)\n",
        "        #ad is adjacency matrix in sparse tensor\n",
        "        z = self.gc2(h, adj)\n",
        "        return z"
      ],
      "metadata": {
        "id": "b9cQcbN_vq2X"
      },
      "execution_count": null,
      "outputs": []
    },
    {
      "cell_type": "code",
      "source": [
        "#gcn = GCN(1433, 50, 7)\n",
        "\n",
        "dropout_rate = 0.5\n",
        "gcn = GCN(nfeat=features.shape[1], nhid=50, nclass=labels.max().item() + 1, dropout=dropout_rate)\n"
      ],
      "metadata": {
        "id": "TWXS9W-pwa1L"
      },
      "execution_count": null,
      "outputs": []
    },
    {
      "cell_type": "code",
      "source": [
        "\n",
        "def compute_accuracy(model, features, adj, labels, indices):\n",
        "    \"\"\"\n",
        "    Computes the accuracy of the model on the data specified by indices.\n",
        "    \"\"\"\n",
        "    model.eval() # Set the model to evaluation mode\n",
        "    with torch.no_grad(): # Disable gradient computation\n",
        "        output = model(features, adj)\n",
        "        sliced_output = output[indices]\n",
        "        sliced_labels = labels[indices]\n",
        "        preds = sliced_output.max(1)[1].type_as(sliced_labels)\n",
        "        correct = preds.eq(sliced_labels).double()\n",
        "        correct = correct.sum()\n",
        "        acc = correct / len(sliced_labels)\n",
        "    return acc\n",
        "\n"
      ],
      "metadata": {
        "id": "sytTpmLg1nVs"
      },
      "execution_count": null,
      "outputs": []
    },
    {
      "cell_type": "code",
      "source": [
        "import torch.optim as optim # Import the optim module\n",
        "from tqdm import trange\n",
        "import torch.nn.functional as F # Make sure F is imported\n",
        "\n",
        "\n",
        "# Initialize the optimizer with weight decay\n",
        "# Choose a weight decay value, e.g., 5e-4\n",
        "weight_decay_value = 5e-4\n",
        "opt = optim.Adam(gcn.parameters(), lr=0.01, weight_decay=weight_decay_value) # Add weight_decay\n",
        "\n",
        "losses = []\n",
        "train_accuracies = []\n",
        "val_accuracies = []\n",
        "test_accuracies = []\n",
        "\n",
        "# Add lists to store best validation accuracy and corresponding test accuracy for early stopping\n",
        "best_val_acc = 0\n",
        "best_test_acc = 0\n",
        "epochs_no_improve = 0\n",
        "patience = 100 # Number of epochs to wait for improvement before stopping\n",
        "\n",
        "for epoch in trange(1000):\n",
        "    gcn.train() # Set model to training mode\n",
        "    opt.zero_grad()\n",
        "    output = gcn(features, adj)\n",
        "    loss = F.cross_entropy(output[idx_train], labels[idx_train])\n",
        "\n",
        "    loss.backward()\n",
        "    opt.step()\n",
        "\n",
        "    losses.append(loss.item())\n",
        "\n",
        "    # Calculate accuracies\n",
        "    train_acc = compute_accuracy(gcn, features, adj, labels, idx_train)\n",
        "    val_acc = compute_accuracy(gcn, features, adj, labels, idx_val)\n",
        "    test_acc = compute_accuracy(gcn, features, adj, labels, idx_test)\n",
        "\n",
        "\n",
        "    train_accuracies.append(train_acc.item())\n",
        "    val_accuracies.append(val_acc.item())\n",
        "    test_accuracies.append(test_acc.item())\n",
        "\n",
        "    # Check for early stopping\n",
        "    if val_acc > best_val_acc:\n",
        "        best_val_acc = val_acc\n",
        "        best_test_acc = test_acc # Store the test accuracy when validation accuracy improves\n",
        "        epochs_no_improve = 0\n",
        "    else:\n",
        "        epochs_no_improve += 1\n",
        "        if epochs_no_improve == patience:\n",
        "            print(f\"Early stopping at epoch {epoch+1}\")\n",
        "            break\n",
        "\n",
        "    # Print loss and accuracies for the current epoch\n",
        "    print(f\"Epoch {epoch+1}, Loss: {loss.item():.4f}, Train Acc: {train_acc:.4f}, Val Acc: {val_acc:.4f}, Test Acc: {test_acc:.4f}\")\n",
        "\n",
        "\n",
        "# After the training loop, you can access the lists and the best test accuracy\n",
        "print(f\"Best Validation Accuracy: {best_val_acc:.4f}\")\n",
        "print(f\"Test Accuracy at Best Validation: {best_test_acc:.4f}\")\n",
        "\n"
      ],
      "metadata": {
        "colab": {
          "base_uri": "https://localhost:8080/"
        },
        "id": "vh8ub07B2mvX",
        "outputId": "bf7cbf13-2483-4881-98da-1cb4e300c1d9"
      },
      "execution_count": null,
      "outputs": [
        {
          "output_type": "stream",
          "name": "stderr",
          "text": [
            "  0%|          | 2/1000 [00:00<01:14, 13.40it/s]"
          ]
        },
        {
          "output_type": "stream",
          "name": "stdout",
          "text": [
            "Epoch 1, Loss: 1.9794, Train Acc: 0.1214, Val Acc: 0.1133, Test Acc: 0.1470\n",
            "Epoch 2, Loss: 1.9436, Train Acc: 0.1214, Val Acc: 0.1133, Test Acc: 0.1470\n",
            "Epoch 3, Loss: 1.9110, Train Acc: 0.1214, Val Acc: 0.1133, Test Acc: 0.1470\n"
          ]
        },
        {
          "output_type": "stream",
          "name": "stderr",
          "text": [
            "  1%|          | 6/1000 [00:00<01:12, 13.79it/s]"
          ]
        },
        {
          "output_type": "stream",
          "name": "stdout",
          "text": [
            "Epoch 4, Loss: 1.8808, Train Acc: 0.2071, Val Acc: 0.1267, Test Acc: 0.1630\n",
            "Epoch 5, Loss: 1.8517, Train Acc: 0.5286, Val Acc: 0.4400, Test Acc: 0.3440\n",
            "Epoch 6, Loss: 1.8229, Train Acc: 0.5214, Val Acc: 0.4667, Test Acc: 0.4070\n"
          ]
        },
        {
          "output_type": "stream",
          "name": "stderr",
          "text": [
            "\r  1%|          | 8/1000 [00:00<01:11, 13.86it/s]"
          ]
        },
        {
          "output_type": "stream",
          "name": "stdout",
          "text": [
            "Epoch 7, Loss: 1.7953, Train Acc: 0.4643, Val Acc: 0.4300, Test Acc: 0.3620\n",
            "Epoch 8, Loss: 1.7686, Train Acc: 0.4357, Val Acc: 0.3967, Test Acc: 0.3440\n",
            "Epoch 9, Loss: 1.7422, Train Acc: 0.4286, Val Acc: 0.3700, Test Acc: 0.3320\n"
          ]
        },
        {
          "output_type": "stream",
          "name": "stderr",
          "text": [
            "  1%|          | 12/1000 [00:00<01:12, 13.70it/s]"
          ]
        },
        {
          "output_type": "stream",
          "name": "stdout",
          "text": [
            "Epoch 10, Loss: 1.7164, Train Acc: 0.4000, Val Acc: 0.3633, Test Acc: 0.3210\n",
            "Epoch 11, Loss: 1.6911, Train Acc: 0.3571, Val Acc: 0.3567, Test Acc: 0.3180\n",
            "Epoch 12, Loss: 1.6662, Train Acc: 0.3571, Val Acc: 0.3533, Test Acc: 0.3150\n"
          ]
        },
        {
          "output_type": "stream",
          "name": "stderr",
          "text": [
            "\r  1%|▏         | 14/1000 [00:01<01:11, 13.78it/s]"
          ]
        },
        {
          "output_type": "stream",
          "name": "stdout",
          "text": [
            "Epoch 13, Loss: 1.6416, Train Acc: 0.3500, Val Acc: 0.3500, Test Acc: 0.3140\n",
            "Epoch 14, Loss: 1.6173, Train Acc: 0.3500, Val Acc: 0.3500, Test Acc: 0.3140\n",
            "Epoch 15, Loss: 1.5930, Train Acc: 0.3643, Val Acc: 0.3533, Test Acc: 0.3160\n"
          ]
        },
        {
          "output_type": "stream",
          "name": "stderr",
          "text": [
            "  2%|▏         | 18/1000 [00:01<01:10, 13.87it/s]"
          ]
        },
        {
          "output_type": "stream",
          "name": "stdout",
          "text": [
            "Epoch 16, Loss: 1.5683, Train Acc: 0.3714, Val Acc: 0.3567, Test Acc: 0.3190\n",
            "Epoch 17, Loss: 1.5427, Train Acc: 0.4071, Val Acc: 0.3600, Test Acc: 0.3210\n",
            "Epoch 18, Loss: 1.5156, Train Acc: 0.4357, Val Acc: 0.3667, Test Acc: 0.3270\n"
          ]
        },
        {
          "output_type": "stream",
          "name": "stderr",
          "text": [
            "\r  2%|▏         | 20/1000 [00:01<01:10, 13.87it/s]"
          ]
        },
        {
          "output_type": "stream",
          "name": "stdout",
          "text": [
            "Epoch 19, Loss: 1.4871, Train Acc: 0.4500, Val Acc: 0.3733, Test Acc: 0.3340\n",
            "Epoch 20, Loss: 1.4573, Train Acc: 0.4643, Val Acc: 0.3933, Test Acc: 0.3420\n",
            "Epoch 21, Loss: 1.4264, Train Acc: 0.4786, Val Acc: 0.4333, Test Acc: 0.3580\n"
          ]
        },
        {
          "output_type": "stream",
          "name": "stderr",
          "text": [
            "  2%|▏         | 24/1000 [00:01<01:10, 13.75it/s]"
          ]
        },
        {
          "output_type": "stream",
          "name": "stdout",
          "text": [
            "Epoch 22, Loss: 1.3949, Train Acc: 0.5286, Val Acc: 0.4767, Test Acc: 0.3740\n",
            "Epoch 23, Loss: 1.3630, Train Acc: 0.5786, Val Acc: 0.4967, Test Acc: 0.3910\n",
            "Epoch 24, Loss: 1.3308, Train Acc: 0.6214, Val Acc: 0.5233, Test Acc: 0.4080\n"
          ]
        },
        {
          "output_type": "stream",
          "name": "stderr",
          "text": [
            "\r  3%|▎         | 26/1000 [00:01<01:12, 13.38it/s]"
          ]
        },
        {
          "output_type": "stream",
          "name": "stdout",
          "text": [
            "Epoch 25, Loss: 1.2984, Train Acc: 0.6643, Val Acc: 0.5667, Test Acc: 0.4250\n",
            "Epoch 26, Loss: 1.2656, Train Acc: 0.7000, Val Acc: 0.5967, Test Acc: 0.4400\n",
            "Epoch 27, Loss: 1.2324, Train Acc: 0.7143, Val Acc: 0.6233, Test Acc: 0.4640\n"
          ]
        },
        {
          "output_type": "stream",
          "name": "stderr",
          "text": [
            "  3%|▎         | 30/1000 [00:02<01:11, 13.58it/s]"
          ]
        },
        {
          "output_type": "stream",
          "name": "stdout",
          "text": [
            "Epoch 28, Loss: 1.1988, Train Acc: 0.7429, Val Acc: 0.6300, Test Acc: 0.4770\n",
            "Epoch 29, Loss: 1.1649, Train Acc: 0.7786, Val Acc: 0.6367, Test Acc: 0.4880\n",
            "Epoch 30, Loss: 1.1309, Train Acc: 0.7786, Val Acc: 0.6400, Test Acc: 0.4970\n"
          ]
        },
        {
          "output_type": "stream",
          "name": "stderr",
          "text": [
            "\r  3%|▎         | 32/1000 [00:02<01:10, 13.67it/s]"
          ]
        },
        {
          "output_type": "stream",
          "name": "stdout",
          "text": [
            "Epoch 31, Loss: 1.0971, Train Acc: 0.7857, Val Acc: 0.6633, Test Acc: 0.5070\n",
            "Epoch 32, Loss: 1.0638, Train Acc: 0.7857, Val Acc: 0.6800, Test Acc: 0.5210\n",
            "Epoch 33, Loss: 1.0310, Train Acc: 0.8143, Val Acc: 0.6900, Test Acc: 0.5410\n"
          ]
        },
        {
          "output_type": "stream",
          "name": "stderr",
          "text": [
            "  4%|▎         | 36/1000 [00:02<01:10, 13.75it/s]"
          ]
        },
        {
          "output_type": "stream",
          "name": "stdout",
          "text": [
            "Epoch 34, Loss: 0.9986, Train Acc: 0.8286, Val Acc: 0.7033, Test Acc: 0.5690\n",
            "Epoch 35, Loss: 0.9666, Train Acc: 0.8357, Val Acc: 0.7167, Test Acc: 0.5970\n",
            "Epoch 36, Loss: 0.9351, Train Acc: 0.8429, Val Acc: 0.7400, Test Acc: 0.6350\n"
          ]
        },
        {
          "output_type": "stream",
          "name": "stderr",
          "text": [
            "\r  4%|▍         | 38/1000 [00:02<01:09, 13.81it/s]"
          ]
        },
        {
          "output_type": "stream",
          "name": "stdout",
          "text": [
            "Epoch 37, Loss: 0.9043, Train Acc: 0.8500, Val Acc: 0.7533, Test Acc: 0.6670\n",
            "Epoch 38, Loss: 0.8744, Train Acc: 0.8786, Val Acc: 0.7767, Test Acc: 0.6920\n",
            "Epoch 39, Loss: 0.8455, Train Acc: 0.9000, Val Acc: 0.7833, Test Acc: 0.7070\n"
          ]
        },
        {
          "output_type": "stream",
          "name": "stderr",
          "text": [
            "  4%|▍         | 42/1000 [00:03<01:09, 13.75it/s]"
          ]
        },
        {
          "output_type": "stream",
          "name": "stdout",
          "text": [
            "Epoch 40, Loss: 0.8175, Train Acc: 0.9071, Val Acc: 0.7833, Test Acc: 0.7210\n",
            "Epoch 41, Loss: 0.7906, Train Acc: 0.9214, Val Acc: 0.8000, Test Acc: 0.7340\n",
            "Epoch 42, Loss: 0.7645, Train Acc: 0.9214, Val Acc: 0.8067, Test Acc: 0.7370\n"
          ]
        },
        {
          "output_type": "stream",
          "name": "stderr",
          "text": [
            "\r  4%|▍         | 44/1000 [00:03<01:09, 13.82it/s]"
          ]
        },
        {
          "output_type": "stream",
          "name": "stdout",
          "text": [
            "Epoch 43, Loss: 0.7396, Train Acc: 0.9286, Val Acc: 0.8100, Test Acc: 0.7410\n",
            "Epoch 44, Loss: 0.7157, Train Acc: 0.9357, Val Acc: 0.8167, Test Acc: 0.7470\n",
            "Epoch 45, Loss: 0.6930, Train Acc: 0.9357, Val Acc: 0.8167, Test Acc: 0.7550\n"
          ]
        },
        {
          "output_type": "stream",
          "name": "stderr",
          "text": [
            "  5%|▍         | 48/1000 [00:03<01:08, 13.83it/s]"
          ]
        },
        {
          "output_type": "stream",
          "name": "stdout",
          "text": [
            "Epoch 46, Loss: 0.6712, Train Acc: 0.9357, Val Acc: 0.8067, Test Acc: 0.7640\n",
            "Epoch 47, Loss: 0.6505, Train Acc: 0.9357, Val Acc: 0.8133, Test Acc: 0.7720\n",
            "Epoch 48, Loss: 0.6308, Train Acc: 0.9429, Val Acc: 0.8133, Test Acc: 0.7780\n"
          ]
        },
        {
          "output_type": "stream",
          "name": "stderr",
          "text": [
            "\r  5%|▌         | 50/1000 [00:03<01:08, 13.82it/s]"
          ]
        },
        {
          "output_type": "stream",
          "name": "stdout",
          "text": [
            "Epoch 49, Loss: 0.6122, Train Acc: 0.9500, Val Acc: 0.8167, Test Acc: 0.7800\n",
            "Epoch 50, Loss: 0.5946, Train Acc: 0.9500, Val Acc: 0.8167, Test Acc: 0.7870\n",
            "Epoch 51, Loss: 0.5779, Train Acc: 0.9571, Val Acc: 0.8167, Test Acc: 0.7940\n"
          ]
        },
        {
          "output_type": "stream",
          "name": "stderr",
          "text": [
            "  5%|▌         | 54/1000 [00:03<01:09, 13.70it/s]"
          ]
        },
        {
          "output_type": "stream",
          "name": "stdout",
          "text": [
            "Epoch 52, Loss: 0.5620, Train Acc: 0.9571, Val Acc: 0.8200, Test Acc: 0.7960\n",
            "Epoch 53, Loss: 0.5470, Train Acc: 0.9571, Val Acc: 0.8200, Test Acc: 0.7970\n",
            "Epoch 54, Loss: 0.5328, Train Acc: 0.9571, Val Acc: 0.8200, Test Acc: 0.8020\n"
          ]
        },
        {
          "output_type": "stream",
          "name": "stderr",
          "text": [
            "\r  6%|▌         | 56/1000 [00:04<01:07, 13.91it/s]"
          ]
        },
        {
          "output_type": "stream",
          "name": "stdout",
          "text": [
            "Epoch 55, Loss: 0.5194, Train Acc: 0.9571, Val Acc: 0.8233, Test Acc: 0.8000\n",
            "Epoch 56, Loss: 0.5067, Train Acc: 0.9571, Val Acc: 0.8200, Test Acc: 0.8080\n",
            "Epoch 57, Loss: 0.4947, Train Acc: 0.9571, Val Acc: 0.8200, Test Acc: 0.8120\n"
          ]
        },
        {
          "output_type": "stream",
          "name": "stderr",
          "text": [
            "  6%|▌         | 60/1000 [00:04<01:06, 14.07it/s]"
          ]
        },
        {
          "output_type": "stream",
          "name": "stdout",
          "text": [
            "Epoch 58, Loss: 0.4834, Train Acc: 0.9571, Val Acc: 0.8167, Test Acc: 0.8130\n",
            "Epoch 59, Loss: 0.4727, Train Acc: 0.9571, Val Acc: 0.8167, Test Acc: 0.8160\n",
            "Epoch 60, Loss: 0.4626, Train Acc: 0.9571, Val Acc: 0.8167, Test Acc: 0.8160\n"
          ]
        },
        {
          "output_type": "stream",
          "name": "stderr",
          "text": [
            "\r  6%|▌         | 62/1000 [00:04<01:07, 13.92it/s]"
          ]
        },
        {
          "output_type": "stream",
          "name": "stdout",
          "text": [
            "Epoch 61, Loss: 0.4529, Train Acc: 0.9643, Val Acc: 0.8167, Test Acc: 0.8180\n",
            "Epoch 62, Loss: 0.4438, Train Acc: 0.9643, Val Acc: 0.8167, Test Acc: 0.8210\n",
            "Epoch 63, Loss: 0.4351, Train Acc: 0.9643, Val Acc: 0.8133, Test Acc: 0.8210\n"
          ]
        },
        {
          "output_type": "stream",
          "name": "stderr",
          "text": [
            "  7%|▋         | 66/1000 [00:04<01:06, 14.01it/s]"
          ]
        },
        {
          "output_type": "stream",
          "name": "stdout",
          "text": [
            "Epoch 64, Loss: 0.4268, Train Acc: 0.9643, Val Acc: 0.8133, Test Acc: 0.8240\n",
            "Epoch 65, Loss: 0.4189, Train Acc: 0.9643, Val Acc: 0.8167, Test Acc: 0.8230\n",
            "Epoch 66, Loss: 0.4114, Train Acc: 0.9643, Val Acc: 0.8167, Test Acc: 0.8240\n"
          ]
        },
        {
          "output_type": "stream",
          "name": "stderr",
          "text": [
            "\r  7%|▋         | 68/1000 [00:04<01:08, 13.58it/s]"
          ]
        },
        {
          "output_type": "stream",
          "name": "stdout",
          "text": [
            "Epoch 67, Loss: 0.4042, Train Acc: 0.9643, Val Acc: 0.8167, Test Acc: 0.8250\n",
            "Epoch 68, Loss: 0.3974, Train Acc: 0.9643, Val Acc: 0.8167, Test Acc: 0.8280\n",
            "Epoch 69, Loss: 0.3908, Train Acc: 0.9643, Val Acc: 0.8200, Test Acc: 0.8290\n"
          ]
        },
        {
          "output_type": "stream",
          "name": "stderr",
          "text": [
            "  7%|▋         | 72/1000 [00:05<01:07, 13.75it/s]"
          ]
        },
        {
          "output_type": "stream",
          "name": "stdout",
          "text": [
            "Epoch 70, Loss: 0.3845, Train Acc: 0.9714, Val Acc: 0.8167, Test Acc: 0.8290\n",
            "Epoch 71, Loss: 0.3785, Train Acc: 0.9714, Val Acc: 0.8167, Test Acc: 0.8280\n",
            "Epoch 72, Loss: 0.3727, Train Acc: 0.9714, Val Acc: 0.8167, Test Acc: 0.8290\n"
          ]
        },
        {
          "output_type": "stream",
          "name": "stderr",
          "text": [
            "\r  7%|▋         | 74/1000 [00:05<01:06, 13.85it/s]"
          ]
        },
        {
          "output_type": "stream",
          "name": "stdout",
          "text": [
            "Epoch 73, Loss: 0.3672, Train Acc: 0.9714, Val Acc: 0.8200, Test Acc: 0.8290\n",
            "Epoch 74, Loss: 0.3619, Train Acc: 0.9714, Val Acc: 0.8167, Test Acc: 0.8290\n",
            "Epoch 75, Loss: 0.3568, Train Acc: 0.9714, Val Acc: 0.8167, Test Acc: 0.8290\n"
          ]
        },
        {
          "output_type": "stream",
          "name": "stderr",
          "text": [
            "  8%|▊         | 78/1000 [00:05<01:06, 13.88it/s]"
          ]
        },
        {
          "output_type": "stream",
          "name": "stdout",
          "text": [
            "Epoch 76, Loss: 0.3519, Train Acc: 0.9714, Val Acc: 0.8167, Test Acc: 0.8300\n",
            "Epoch 77, Loss: 0.3471, Train Acc: 0.9714, Val Acc: 0.8167, Test Acc: 0.8290\n",
            "Epoch 78, Loss: 0.3426, Train Acc: 0.9714, Val Acc: 0.8167, Test Acc: 0.8280\n"
          ]
        },
        {
          "output_type": "stream",
          "name": "stderr",
          "text": [
            "\r  8%|▊         | 80/1000 [00:05<01:05, 13.94it/s]"
          ]
        },
        {
          "output_type": "stream",
          "name": "stdout",
          "text": [
            "Epoch 79, Loss: 0.3382, Train Acc: 0.9714, Val Acc: 0.8167, Test Acc: 0.8280\n",
            "Epoch 80, Loss: 0.3340, Train Acc: 0.9714, Val Acc: 0.8167, Test Acc: 0.8300\n",
            "Epoch 81, Loss: 0.3299, Train Acc: 0.9714, Val Acc: 0.8200, Test Acc: 0.8310\n"
          ]
        },
        {
          "output_type": "stream",
          "name": "stderr",
          "text": [
            "  8%|▊         | 84/1000 [00:06<01:06, 13.68it/s]"
          ]
        },
        {
          "output_type": "stream",
          "name": "stdout",
          "text": [
            "Epoch 82, Loss: 0.3259, Train Acc: 0.9714, Val Acc: 0.8200, Test Acc: 0.8320\n",
            "Epoch 83, Loss: 0.3221, Train Acc: 0.9714, Val Acc: 0.8200, Test Acc: 0.8300\n",
            "Epoch 84, Loss: 0.3184, Train Acc: 0.9714, Val Acc: 0.8200, Test Acc: 0.8300\n"
          ]
        },
        {
          "output_type": "stream",
          "name": "stderr",
          "text": [
            "\r  9%|▊         | 86/1000 [00:06<01:06, 13.74it/s]"
          ]
        },
        {
          "output_type": "stream",
          "name": "stdout",
          "text": [
            "Epoch 85, Loss: 0.3148, Train Acc: 0.9714, Val Acc: 0.8200, Test Acc: 0.8290\n",
            "Epoch 86, Loss: 0.3114, Train Acc: 0.9714, Val Acc: 0.8200, Test Acc: 0.8300\n",
            "Epoch 87, Loss: 0.3080, Train Acc: 0.9714, Val Acc: 0.8200, Test Acc: 0.8300\n"
          ]
        },
        {
          "output_type": "stream",
          "name": "stderr",
          "text": [
            "\r  9%|▉         | 88/1000 [00:06<01:10, 12.91it/s]"
          ]
        },
        {
          "output_type": "stream",
          "name": "stdout",
          "text": [
            "Epoch 88, Loss: 0.3047, Train Acc: 0.9714, Val Acc: 0.8200, Test Acc: 0.8310\n",
            "Epoch 89, Loss: 0.3016, Train Acc: 0.9714, Val Acc: 0.8200, Test Acc: 0.8320\n"
          ]
        },
        {
          "output_type": "stream",
          "name": "stderr",
          "text": [
            "\r  9%|▉         | 90/1000 [00:06<01:18, 11.65it/s]"
          ]
        },
        {
          "output_type": "stream",
          "name": "stdout",
          "text": [
            "Epoch 90, Loss: 0.2985, Train Acc: 0.9714, Val Acc: 0.8200, Test Acc: 0.8320\n",
            "Epoch 91, Loss: 0.2954, Train Acc: 0.9786, Val Acc: 0.8167, Test Acc: 0.8310\n"
          ]
        },
        {
          "output_type": "stream",
          "name": "stderr",
          "text": [
            "\r  9%|▉         | 92/1000 [00:06<01:23, 10.91it/s]"
          ]
        },
        {
          "output_type": "stream",
          "name": "stdout",
          "text": [
            "Epoch 92, Loss: 0.2925, Train Acc: 0.9786, Val Acc: 0.8167, Test Acc: 0.8310\n",
            "Epoch 93, Loss: 0.2896, Train Acc: 0.9786, Val Acc: 0.8167, Test Acc: 0.8310\n"
          ]
        },
        {
          "output_type": "stream",
          "name": "stderr",
          "text": [
            "\r  9%|▉         | 94/1000 [00:07<01:27, 10.33it/s]"
          ]
        },
        {
          "output_type": "stream",
          "name": "stdout",
          "text": [
            "Epoch 94, Loss: 0.2868, Train Acc: 0.9786, Val Acc: 0.8167, Test Acc: 0.8310\n",
            "Epoch 95, Loss: 0.2841, Train Acc: 0.9786, Val Acc: 0.8200, Test Acc: 0.8330\n"
          ]
        },
        {
          "output_type": "stream",
          "name": "stderr",
          "text": [
            "\r 10%|▉         | 96/1000 [00:07<01:30,  9.99it/s]"
          ]
        },
        {
          "output_type": "stream",
          "name": "stdout",
          "text": [
            "Epoch 96, Loss: 0.2814, Train Acc: 0.9786, Val Acc: 0.8200, Test Acc: 0.8330\n",
            "Epoch 97, Loss: 0.2788, Train Acc: 0.9786, Val Acc: 0.8200, Test Acc: 0.8330\n"
          ]
        },
        {
          "output_type": "stream",
          "name": "stderr",
          "text": [
            " 10%|▉         | 99/1000 [00:07<01:33,  9.67it/s]"
          ]
        },
        {
          "output_type": "stream",
          "name": "stdout",
          "text": [
            "Epoch 98, Loss: 0.2762, Train Acc: 0.9786, Val Acc: 0.8200, Test Acc: 0.8330\n",
            "Epoch 99, Loss: 0.2737, Train Acc: 0.9786, Val Acc: 0.8200, Test Acc: 0.8320\n"
          ]
        },
        {
          "output_type": "stream",
          "name": "stderr",
          "text": [
            " 10%|█         | 101/1000 [00:07<01:34,  9.49it/s]"
          ]
        },
        {
          "output_type": "stream",
          "name": "stdout",
          "text": [
            "Epoch 100, Loss: 0.2713, Train Acc: 0.9786, Val Acc: 0.8200, Test Acc: 0.8320\n",
            "Epoch 101, Loss: 0.2689, Train Acc: 0.9786, Val Acc: 0.8133, Test Acc: 0.8300\n"
          ]
        },
        {
          "output_type": "stream",
          "name": "stderr",
          "text": [
            " 10%|█         | 103/1000 [00:08<01:37,  9.23it/s]"
          ]
        },
        {
          "output_type": "stream",
          "name": "stdout",
          "text": [
            "Epoch 102, Loss: 0.2665, Train Acc: 0.9786, Val Acc: 0.8133, Test Acc: 0.8290\n",
            "Epoch 103, Loss: 0.2642, Train Acc: 0.9786, Val Acc: 0.8133, Test Acc: 0.8290\n"
          ]
        },
        {
          "output_type": "stream",
          "name": "stderr",
          "text": [
            " 10%|█         | 105/1000 [00:08<01:40,  8.94it/s]"
          ]
        },
        {
          "output_type": "stream",
          "name": "stdout",
          "text": [
            "Epoch 104, Loss: 0.2619, Train Acc: 0.9786, Val Acc: 0.8133, Test Acc: 0.8290\n",
            "Epoch 105, Loss: 0.2597, Train Acc: 0.9786, Val Acc: 0.8133, Test Acc: 0.8290\n"
          ]
        },
        {
          "output_type": "stream",
          "name": "stderr",
          "text": [
            " 11%|█         | 107/1000 [00:08<01:42,  8.72it/s]"
          ]
        },
        {
          "output_type": "stream",
          "name": "stdout",
          "text": [
            "Epoch 106, Loss: 0.2575, Train Acc: 0.9786, Val Acc: 0.8133, Test Acc: 0.8290\n",
            "Epoch 107, Loss: 0.2554, Train Acc: 0.9786, Val Acc: 0.8133, Test Acc: 0.8270\n"
          ]
        },
        {
          "output_type": "stream",
          "name": "stderr",
          "text": [
            " 11%|█         | 109/1000 [00:08<01:40,  8.90it/s]"
          ]
        },
        {
          "output_type": "stream",
          "name": "stdout",
          "text": [
            "Epoch 108, Loss: 0.2533, Train Acc: 0.9786, Val Acc: 0.8133, Test Acc: 0.8280\n",
            "Epoch 109, Loss: 0.2512, Train Acc: 0.9786, Val Acc: 0.8133, Test Acc: 0.8290\n"
          ]
        },
        {
          "output_type": "stream",
          "name": "stderr",
          "text": [
            " 11%|█         | 111/1000 [00:08<01:38,  8.99it/s]"
          ]
        },
        {
          "output_type": "stream",
          "name": "stdout",
          "text": [
            "Epoch 110, Loss: 0.2492, Train Acc: 0.9786, Val Acc: 0.8133, Test Acc: 0.8290\n",
            "Epoch 111, Loss: 0.2472, Train Acc: 0.9786, Val Acc: 0.8133, Test Acc: 0.8280\n"
          ]
        },
        {
          "output_type": "stream",
          "name": "stderr",
          "text": [
            " 11%|█▏        | 113/1000 [00:09<01:39,  8.93it/s]"
          ]
        },
        {
          "output_type": "stream",
          "name": "stdout",
          "text": [
            "Epoch 112, Loss: 0.2453, Train Acc: 0.9786, Val Acc: 0.8133, Test Acc: 0.8300\n",
            "Epoch 113, Loss: 0.2434, Train Acc: 0.9786, Val Acc: 0.8133, Test Acc: 0.8300\n"
          ]
        },
        {
          "output_type": "stream",
          "name": "stderr",
          "text": [
            "\r 12%|█▏        | 115/1000 [00:09<01:26, 10.21it/s]"
          ]
        },
        {
          "output_type": "stream",
          "name": "stdout",
          "text": [
            "Epoch 114, Loss: 0.2415, Train Acc: 0.9786, Val Acc: 0.8133, Test Acc: 0.8310\n",
            "Epoch 115, Loss: 0.2397, Train Acc: 0.9857, Val Acc: 0.8133, Test Acc: 0.8300\n",
            "Epoch 116, Loss: 0.2379, Train Acc: 0.9857, Val Acc: 0.8133, Test Acc: 0.8300\n"
          ]
        },
        {
          "output_type": "stream",
          "name": "stderr",
          "text": [
            " 12%|█▏        | 119/1000 [00:09<01:11, 12.28it/s]"
          ]
        },
        {
          "output_type": "stream",
          "name": "stdout",
          "text": [
            "Epoch 117, Loss: 0.2361, Train Acc: 0.9857, Val Acc: 0.8100, Test Acc: 0.8300\n",
            "Epoch 118, Loss: 0.2344, Train Acc: 0.9857, Val Acc: 0.8133, Test Acc: 0.8300\n",
            "Epoch 119, Loss: 0.2327, Train Acc: 0.9857, Val Acc: 0.8133, Test Acc: 0.8300\n"
          ]
        },
        {
          "output_type": "stream",
          "name": "stderr",
          "text": [
            "\r 12%|█▏        | 121/1000 [00:09<01:08, 12.86it/s]"
          ]
        },
        {
          "output_type": "stream",
          "name": "stdout",
          "text": [
            "Epoch 120, Loss: 0.2310, Train Acc: 0.9857, Val Acc: 0.8100, Test Acc: 0.8290\n",
            "Epoch 121, Loss: 0.2294, Train Acc: 0.9857, Val Acc: 0.8100, Test Acc: 0.8300\n",
            "Epoch 122, Loss: 0.2278, Train Acc: 0.9857, Val Acc: 0.8100, Test Acc: 0.8320\n"
          ]
        },
        {
          "output_type": "stream",
          "name": "stderr",
          "text": [
            " 12%|█▎        | 125/1000 [00:10<01:03, 13.67it/s]"
          ]
        },
        {
          "output_type": "stream",
          "name": "stdout",
          "text": [
            "Epoch 123, Loss: 0.2262, Train Acc: 0.9857, Val Acc: 0.8100, Test Acc: 0.8310\n",
            "Epoch 124, Loss: 0.2247, Train Acc: 0.9857, Val Acc: 0.8100, Test Acc: 0.8310\n",
            "Epoch 125, Loss: 0.2231, Train Acc: 0.9857, Val Acc: 0.8100, Test Acc: 0.8310\n"
          ]
        },
        {
          "output_type": "stream",
          "name": "stderr",
          "text": [
            "\r 13%|█▎        | 127/1000 [00:10<01:02, 13.88it/s]"
          ]
        },
        {
          "output_type": "stream",
          "name": "stdout",
          "text": [
            "Epoch 126, Loss: 0.2216, Train Acc: 0.9857, Val Acc: 0.8100, Test Acc: 0.8310\n",
            "Epoch 127, Loss: 0.2201, Train Acc: 0.9857, Val Acc: 0.8100, Test Acc: 0.8310\n",
            "Epoch 128, Loss: 0.2187, Train Acc: 0.9857, Val Acc: 0.8100, Test Acc: 0.8310\n"
          ]
        },
        {
          "output_type": "stream",
          "name": "stderr",
          "text": [
            " 13%|█▎        | 131/1000 [00:10<01:03, 13.64it/s]"
          ]
        },
        {
          "output_type": "stream",
          "name": "stdout",
          "text": [
            "Epoch 129, Loss: 0.2173, Train Acc: 0.9857, Val Acc: 0.8100, Test Acc: 0.8310\n",
            "Epoch 130, Loss: 0.2159, Train Acc: 0.9857, Val Acc: 0.8100, Test Acc: 0.8310\n",
            "Epoch 131, Loss: 0.2145, Train Acc: 0.9857, Val Acc: 0.8033, Test Acc: 0.8310\n"
          ]
        },
        {
          "output_type": "stream",
          "name": "stderr",
          "text": [
            "\r 13%|█▎        | 133/1000 [00:10<01:03, 13.70it/s]"
          ]
        },
        {
          "output_type": "stream",
          "name": "stdout",
          "text": [
            "Epoch 132, Loss: 0.2131, Train Acc: 0.9857, Val Acc: 0.8033, Test Acc: 0.8310\n",
            "Epoch 133, Loss: 0.2118, Train Acc: 0.9857, Val Acc: 0.8033, Test Acc: 0.8310\n",
            "Epoch 134, Loss: 0.2105, Train Acc: 0.9857, Val Acc: 0.8033, Test Acc: 0.8310\n"
          ]
        },
        {
          "output_type": "stream",
          "name": "stderr",
          "text": [
            " 14%|█▎        | 137/1000 [00:10<01:01, 13.93it/s]"
          ]
        },
        {
          "output_type": "stream",
          "name": "stdout",
          "text": [
            "Epoch 135, Loss: 0.2092, Train Acc: 0.9857, Val Acc: 0.8033, Test Acc: 0.8300\n",
            "Epoch 136, Loss: 0.2080, Train Acc: 0.9857, Val Acc: 0.8033, Test Acc: 0.8310\n",
            "Epoch 137, Loss: 0.2067, Train Acc: 0.9857, Val Acc: 0.8033, Test Acc: 0.8300\n"
          ]
        },
        {
          "output_type": "stream",
          "name": "stderr",
          "text": [
            "\r 14%|█▍        | 139/1000 [00:11<01:05, 13.21it/s]"
          ]
        },
        {
          "output_type": "stream",
          "name": "stdout",
          "text": [
            "Epoch 138, Loss: 0.2055, Train Acc: 0.9857, Val Acc: 0.8033, Test Acc: 0.8300\n",
            "Epoch 139, Loss: 0.2043, Train Acc: 0.9857, Val Acc: 0.8033, Test Acc: 0.8300\n",
            "Epoch 140, Loss: 0.2032, Train Acc: 0.9929, Val Acc: 0.8067, Test Acc: 0.8300\n"
          ]
        },
        {
          "output_type": "stream",
          "name": "stderr",
          "text": [
            " 14%|█▍        | 143/1000 [00:11<01:04, 13.32it/s]"
          ]
        },
        {
          "output_type": "stream",
          "name": "stdout",
          "text": [
            "Epoch 141, Loss: 0.2020, Train Acc: 0.9857, Val Acc: 0.8067, Test Acc: 0.8300\n",
            "Epoch 142, Loss: 0.2009, Train Acc: 0.9929, Val Acc: 0.8033, Test Acc: 0.8310\n",
            "Epoch 143, Loss: 0.1998, Train Acc: 0.9929, Val Acc: 0.8067, Test Acc: 0.8300\n"
          ]
        },
        {
          "output_type": "stream",
          "name": "stderr",
          "text": [
            "\r 14%|█▍        | 145/1000 [00:11<01:04, 13.31it/s]"
          ]
        },
        {
          "output_type": "stream",
          "name": "stdout",
          "text": [
            "Epoch 144, Loss: 0.1987, Train Acc: 0.9929, Val Acc: 0.8067, Test Acc: 0.8310\n",
            "Epoch 145, Loss: 0.1976, Train Acc: 0.9929, Val Acc: 0.8067, Test Acc: 0.8320\n",
            "Epoch 146, Loss: 0.1966, Train Acc: 0.9929, Val Acc: 0.8067, Test Acc: 0.8320\n"
          ]
        },
        {
          "output_type": "stream",
          "name": "stderr",
          "text": [
            " 15%|█▍        | 149/1000 [00:11<01:02, 13.71it/s]"
          ]
        },
        {
          "output_type": "stream",
          "name": "stdout",
          "text": [
            "Epoch 147, Loss: 0.1955, Train Acc: 0.9929, Val Acc: 0.8067, Test Acc: 0.8340\n",
            "Epoch 148, Loss: 0.1945, Train Acc: 0.9929, Val Acc: 0.8067, Test Acc: 0.8320\n",
            "Epoch 149, Loss: 0.1935, Train Acc: 0.9929, Val Acc: 0.8067, Test Acc: 0.8330\n"
          ]
        },
        {
          "output_type": "stream",
          "name": "stderr",
          "text": [
            "\r 15%|█▌        | 151/1000 [00:11<01:01, 13.78it/s]"
          ]
        },
        {
          "output_type": "stream",
          "name": "stdout",
          "text": [
            "Epoch 150, Loss: 0.1925, Train Acc: 0.9929, Val Acc: 0.8067, Test Acc: 0.8320\n",
            "Epoch 151, Loss: 0.1916, Train Acc: 0.9929, Val Acc: 0.8067, Test Acc: 0.8350\n",
            "Epoch 152, Loss: 0.1906, Train Acc: 0.9929, Val Acc: 0.8067, Test Acc: 0.8340\n"
          ]
        },
        {
          "output_type": "stream",
          "name": "stderr",
          "text": [
            " 15%|█▌        | 154/1000 [00:12<01:07, 12.59it/s]"
          ]
        },
        {
          "output_type": "stream",
          "name": "stdout",
          "text": [
            "Epoch 153, Loss: 0.1897, Train Acc: 0.9929, Val Acc: 0.8067, Test Acc: 0.8320\n",
            "Epoch 154, Loss: 0.1888, Train Acc: 0.9929, Val Acc: 0.8067, Test Acc: 0.8350\n",
            "Early stopping at epoch 155\n",
            "Best Validation Accuracy: 0.8233\n",
            "Test Accuracy at Best Validation: 0.8000\n"
          ]
        },
        {
          "output_type": "stream",
          "name": "stderr",
          "text": [
            "\n"
          ]
        }
      ]
    },
    {
      "cell_type": "code",
      "source": [],
      "metadata": {
        "id": "Yh3tpW9lwa84"
      },
      "execution_count": null,
      "outputs": []
    },
    {
      "cell_type": "code",
      "source": [
        "def num_params(model):\n",
        "    return sum(p.numel() for p in model.parameters() if p.requires_grad)\n",
        "\n",
        "print('Number of parameters GCN: ', num_params(gcn))"
      ],
      "metadata": {
        "colab": {
          "base_uri": "https://localhost:8080/"
        },
        "id": "MlhfajCywa_e",
        "outputId": "cbbcfab4-a87f-46fd-b799-1e1ad54e5156"
      },
      "execution_count": null,
      "outputs": [
        {
          "output_type": "stream",
          "name": "stdout",
          "text": [
            "Number of parameters GCN:  72057\n"
          ]
        }
      ]
    },
    {
      "cell_type": "code",
      "source": [
        "# prompt: add some visulaization of the losses, accuracies\n",
        "\n",
        "import matplotlib.pyplot as plt\n",
        "\n",
        "# Plot the loss\n",
        "plt.figure(figsize=(10, 6))\n",
        "plt.plot(losses)\n",
        "plt.title('Training Loss over Epochs')\n",
        "plt.xlabel('Epoch')\n",
        "plt.ylabel('Loss')\n",
        "plt.grid(True)\n",
        "plt.show()\n",
        "\n",
        "# Plot the accuracies\n",
        "plt.figure(figsize=(10, 6))\n",
        "plt.plot(train_accuracies, label='Train Accuracy')\n",
        "plt.plot(val_accuracies, label='Validation Accuracy')\n",
        "plt.plot(test_accuracies, label='Test Accuracy')\n",
        "plt.title('Accuracies over Epochs')\n",
        "plt.xlabel('Epoch')\n",
        "plt.ylabel('Accuracy')\n",
        "plt.legend()\n",
        "plt.grid(True)\n",
        "plt.show()\n"
      ],
      "metadata": {
        "colab": {
          "base_uri": "https://localhost:8080/",
          "height": 1000
        },
        "id": "wqvuRyzV3SqZ",
        "outputId": "672f2bed-8e2c-4b3b-cfe5-2a30b2324b0e"
      },
      "execution_count": null,
      "outputs": [
        {
          "output_type": "display_data",
          "data": {
            "text/plain": [
              "<Figure size 1000x600 with 1 Axes>"
            ],
            "image/png": "[encoded data removed]"
          },
          "metadata": {}
        },
        {
          "output_type": "display_data",
          "data": {
            "text/plain": [
              "<Figure size 1000x600 with 1 Axes>"
            ],
            "image/png": "[encoded data removed]"
          },
          "metadata": {}
        }
      ]
    },
    {
      "cell_type": "code",
      "source": [
        "# prompt: show some correct classification on the test data\n",
        "\n",
        "gcn.eval()\n",
        "output = gcn(features, adj)\n",
        "test_output = output[idx_test]\n",
        "test_labels = labels[idx_test]\n",
        "\n",
        "predicted_labels = test_output.max(1)[1].type_as(test_labels)\n",
        "\n",
        "correctly_classified_indices = (predicted_labels == test_labels).nonzero(as_tuple=True)[0]\n",
        "incorrectly_classified_indices = (predicted_labels != test_labels).nonzero(as_tuple=True)[0]\n",
        "\n",
        "print(\"Examples of correct classifications on the test data:\")\n",
        "for i in correctly_classified_indices[:10]: # Display up to 10 examples\n",
        "    node_index_in_test_set = i.item()\n",
        "    actual_node_index = idx_test[node_index_in_test_set].item()\n",
        "\n",
        "    predicted_class_index = predicted_labels[i].item()\n",
        "    actual_class_index = test_labels[i].item()\n",
        "\n",
        "    predicted_class_name = classes[predicted_class_index]\n",
        "    actual_class_name = classes[actual_class_index]\n",
        "\n",
        "    print(f\"Node Index (in original dataset): {actual_node_index}, Predicted Class: {predicted_class_name}, Actual Class: {actual_class_name}\")\n"
      ],
      "metadata": {
        "colab": {
          "base_uri": "https://localhost:8080/"
        },
        "id": "PrzOHnP-3qXu",
        "outputId": "08e7ab2c-fbfa-4069-e5f6-009382aec502"
      },
      "execution_count": null,
      "outputs": [
        {
          "output_type": "stream",
          "name": "stdout",
          "text": [
            "Examples of correct classifications on the test data:\n",
            "Node Index (in original dataset): 500, Predicted Class: Reinforcement_Learning, Actual Class: Reinforcement_Learning\n",
            "Node Index (in original dataset): 501, Predicted Class: Case_Based, Actual Class: Case_Based\n",
            "Node Index (in original dataset): 502, Predicted Class: Reinforcement_Learning, Actual Class: Reinforcement_Learning\n",
            "Node Index (in original dataset): 503, Predicted Class: Case_Based, Actual Class: Case_Based\n",
            "Node Index (in original dataset): 504, Predicted Class: Case_Based, Actual Class: Case_Based\n",
            "Node Index (in original dataset): 505, Predicted Class: Case_Based, Actual Class: Case_Based\n",
            "Node Index (in original dataset): 507, Predicted Class: Rule_Learning, Actual Class: Rule_Learning\n",
            "Node Index (in original dataset): 508, Predicted Class: Rule_Learning, Actual Class: Rule_Learning\n",
            "Node Index (in original dataset): 512, Predicted Class: Case_Based, Actual Class: Case_Based\n",
            "Node Index (in original dataset): 513, Predicted Class: Genetic_Algorithms, Actual Class: Genetic_Algorithms\n"
          ]
        }
      ]
    },
    {
      "cell_type": "code",
      "source": [
        "\n",
        "print(\"\\nExamples of incorrect classifications on the test data:\")\n",
        "for i in incorrectly_classified_indices[:10]: # Display up to 10 examples\n",
        "    node_index_in_test_set = i.item()\n",
        "    actual_node_index = idx_test[node_index_in_test_set].item()\n",
        "\n",
        "    predicted_class_index = predicted_labels[i].item()\n",
        "    actual_class_index = test_labels[i].item()\n",
        "\n",
        "    predicted_class_name = classes[predicted_class_index]\n",
        "    actual_class_name = classes[actual_class_index]\n",
        "\n",
        "    print(f\"Node Index (in original dataset): {actual_node_index}, Predicted Class: {predicted_class_name}, Actual Class: {actual_class_name}\")\n",
        "\n"
      ],
      "metadata": {
        "colab": {
          "base_uri": "https://localhost:8080/"
        },
        "id": "EzuqgRA1Cdgp",
        "outputId": "6b91a1ab-b851-4213-d59a-4070c6cdcf79"
      },
      "execution_count": null,
      "outputs": [
        {
          "output_type": "stream",
          "name": "stdout",
          "text": [
            "\n",
            "Examples of incorrect classifications on the test data:\n",
            "Node Index (in original dataset): 506, Predicted Class: Rule_Learning, Actual Class: Reinforcement_Learning\n",
            "Node Index (in original dataset): 509, Predicted Class: Rule_Learning, Actual Class: Probabilistic_Methods\n",
            "Node Index (in original dataset): 510, Predicted Class: Case_Based, Actual Class: Genetic_Algorithms\n",
            "Node Index (in original dataset): 511, Predicted Class: Case_Based, Actual Class: Genetic_Algorithms\n",
            "Node Index (in original dataset): 518, Predicted Class: Genetic_Algorithms, Actual Class: Rule_Learning\n",
            "Node Index (in original dataset): 520, Predicted Class: Rule_Learning, Actual Class: Case_Based\n",
            "Node Index (in original dataset): 522, Predicted Class: Genetic_Algorithms, Actual Class: Rule_Learning\n",
            "Node Index (in original dataset): 523, Predicted Class: Reinforcement_Learning, Actual Class: Theory\n",
            "Node Index (in original dataset): 524, Predicted Class: Rule_Learning, Actual Class: Case_Based\n",
            "Node Index (in original dataset): 525, Predicted Class: Genetic_Algorithms, Actual Class: Rule_Learning\n"
          ]
        }
      ]
    },
    {
      "cell_type": "code",
      "source": [
        "# Visualization of classification results\n",
        "correct_count = len(correctly_classified_indices)\n",
        "incorrect_count = len(incorrectly_classified_indices)\n",
        "total_test_samples = len(test_labels)\n",
        "\n",
        "print(f\"\\nTotal test samples: {total_test_samples}\")\n",
        "print(f\"Correctly classified: {correct_count}\")\n",
        "print(f\"Incorrectly classified: {incorrect_count}\")"
      ],
      "metadata": {
        "colab": {
          "base_uri": "https://localhost:8080/"
        },
        "id": "R1QKo3RjCooD",
        "outputId": "b06da64f-ea9e-43a9-98a0-80627570e3be"
      },
      "execution_count": null,
      "outputs": [
        {
          "output_type": "stream",
          "name": "stdout",
          "text": [
            "\n",
            "Total test samples: 1000\n",
            "Correctly classified: 834\n",
            "Incorrectly classified: 166\n"
          ]
        }
      ]
    },
    {
      "cell_type": "code",
      "source": [],
      "metadata": {
        "id": "cxDJzWnDDKlz"
      },
      "execution_count": null,
      "outputs": []
    },
    {
      "cell_type": "markdown",
      "source": [
        "#GraphSage"
      ],
      "metadata": {
        "id": "g3Q0yHG5DSST"
      }
    },
    {
      "cell_type": "code",
      "source": [
        "def gcn_accuracy(model):\n",
        "    \"\"\"\n",
        "    Perfom a forward pass `y_pred = model(x)` and computes the accuracy\n",
        "    between `y_pred` and `y_true`.\n",
        "\n",
        "    It is particuarly tricky to perform batching in GCN.\n",
        "    As you can see, here the forward pass is performed on the whole graph\n",
        "    \"\"\"\n",
        "    model.eval()\n",
        "    y_pred = model(features, adj)\n",
        "    output= y_pred[idx_test]\n",
        "    # Rename the sliced labels to a local variable name\n",
        "    local_labels = labels[idx_test]\n",
        "    preds= output.max(1)[1].type_as(local_labels) # Use the local variable here\n",
        "    correct = preds.eq(local_labels).double()    # Use the local variable here\n",
        "    correct=correct.sum()\n",
        "    acc = correct / len(local_labels)           # Use the local variable here\n",
        "    print(f\"Accuracy: {acc:.5}\")\n",
        "    return acc"
      ],
      "metadata": {
        "id": "p3Z-upAhwaxw"
      },
      "execution_count": null,
      "outputs": []
    }
  ]
}