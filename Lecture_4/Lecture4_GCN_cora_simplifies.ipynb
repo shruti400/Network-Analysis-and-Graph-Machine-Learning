{
  "nbformat": 4,
  "nbformat_minor": 0,
  "metadata": {
    "colab": {
      "provenance": []
    },
    "kernelspec": {
      "name": "python3",
      "display_name": "Python 3"
    },
    "language_info": {
      "name": "python"
    }
  },
  "cells": [
    {
      "cell_type": "markdown",
      "source": [
        "The code in the following sections comes mainly from [this repository](https://github.com/tkipf/pygcn) and it is inspired by the paper [Semi-Supervised Classification with Graph Convolutional Networks](https://arxiv.org/abs/1609.02907), where Thomas Kipf presents the Graph Convolutional Networks in PyTorch."
      ],
      "metadata": {
        "id": "QMOuHH0LoHE_"
      }
    },
    {
      "cell_type": "code",
      "source": [
        "import pandas\n",
        "import numpy as np\n",
        "import scipy.sparse as sp\n",
        "import torch\n"
      ],
      "metadata": {
        "id": "hXUL6Otzo_-M"
      },
      "execution_count": 29,
      "outputs": []
    },
    {
      "cell_type": "markdown",
      "source": [
        "#The Cora Dataset"
      ],
      "metadata": {
        "id": "1YnbOtIwoOJB"
      }
    },
    {
      "cell_type": "markdown",
      "source": [
        "##Datset format"
      ],
      "metadata": {
        "id": "TgGUTNm4pRlL"
      }
    },
    {
      "cell_type": "markdown",
      "source": [
        "The `cora.content` contains the description of each node. For each line it contains:\n",
        " - The id of the node.\n",
        " - The [bag-of-words](https://en.wikipedia.org/wiki/Bag-of-words_model) text representation.\n",
        " - The label of that node."
      ],
      "metadata": {
        "id": "hxZx1no_ooyc"
      }
    },
    {
      "cell_type": "code",
      "execution_count": 30,
      "metadata": {
        "colab": {
          "base_uri": "https://localhost:8080/",
          "height": 255
        },
        "id": "iCNvqnR9n691",
        "outputId": "64370797-dad4-4ec1-f634-685ea8880c72"
      },
      "outputs": [
        {
          "output_type": "execute_result",
          "data": {
            "text/plain": [
              "   PaperID  word0  word1  word2  word3  word4  word5  word6  word7  word8  \\\n",
              "0    31336      0      0      0      0      0      0      0      0      0   \n",
              "1  1061127      0      0      0      0      0      0      0      0      0   \n",
              "2  1106406      0      0      0      0      0      0      0      0      0   \n",
              "3    13195      0      0      0      0      0      0      0      0      0   \n",
              "4    37879      0      0      0      0      0      0      0      0      0   \n",
              "\n",
              "   ...  word1424  word1425  word1426  word1427  word1428  word1429  word1430  \\\n",
              "0  ...         0         0         1         0         0         0         0   \n",
              "1  ...         0         1         0         0         0         0         0   \n",
              "2  ...         0         0         0         0         0         0         0   \n",
              "3  ...         0         0         0         0         0         0         0   \n",
              "4  ...         0         0         0         0         0         0         0   \n",
              "\n",
              "   word1431  word1432                   label  \n",
              "0         0         0         Neural_Networks  \n",
              "1         0         0           Rule_Learning  \n",
              "2         0         0  Reinforcement_Learning  \n",
              "3         0         0  Reinforcement_Learning  \n",
              "4         0         0   Probabilistic_Methods  \n",
              "\n",
              "[5 rows x 1435 columns]"
            ],
            "text/html": [
              "\n",
              "  <div id=\"df-636c6d97-839c-4519-b579-93d5a98166c4\" class=\"colab-df-container\">\n",
              "    <div>\n",
              "<style scoped>\n",
              "    .dataframe tbody tr th:only-of-type {\n",
              "        vertical-align: middle;\n",
              "    }\n",
              "\n",
              "    .dataframe tbody tr th {\n",
              "        vertical-align: top;\n",
              "    }\n",
              "\n",
              "    .dataframe thead th {\n",
              "        text-align: right;\n",
              "    }\n",
              "</style>\n",
              "<table border=\"1\" class=\"dataframe\">\n",
              "  <thead>\n",
              "    <tr style=\"text-align: right;\">\n",
              "      <th></th>\n",
              "      <th>PaperID</th>\n",
              "      <th>word0</th>\n",
              "      <th>word1</th>\n",
              "      <th>word2</th>\n",
              "      <th>word3</th>\n",
              "      <th>word4</th>\n",
              "      <th>word5</th>\n",
              "      <th>word6</th>\n",
              "      <th>word7</th>\n",
              "      <th>word8</th>\n",
              "      <th>...</th>\n",
              "      <th>word1424</th>\n",
              "      <th>word1425</th>\n",
              "      <th>word1426</th>\n",
              "      <th>word1427</th>\n",
              "      <th>word1428</th>\n",
              "      <th>word1429</th>\n",
              "      <th>word1430</th>\n",
              "      <th>word1431</th>\n",
              "      <th>word1432</th>\n",
              "      <th>label</th>\n",
              "    </tr>\n",
              "  </thead>\n",
              "  <tbody>\n",
              "    <tr>\n",
              "      <th>0</th>\n",
              "      <td>31336</td>\n",
              "      <td>0</td>\n",
              "      <td>0</td>\n",
              "      <td>0</td>\n",
              "      <td>0</td>\n",
              "      <td>0</td>\n",
              "      <td>0</td>\n",
              "      <td>0</td>\n",
              "      <td>0</td>\n",
              "      <td>0</td>\n",
              "      <td>...</td>\n",
              "      <td>0</td>\n",
              "      <td>0</td>\n",
              "      <td>1</td>\n",
              "      <td>0</td>\n",
              "      <td>0</td>\n",
              "      <td>0</td>\n",
              "      <td>0</td>\n",
              "      <td>0</td>\n",
              "      <td>0</td>\n",
              "      <td>Neural_Networks</td>\n",
              "    </tr>\n",
              "    <tr>\n",
              "      <th>1</th>\n",
              "      <td>1061127</td>\n",
              "      <td>0</td>\n",
              "      <td>0</td>\n",
              "      <td>0</td>\n",
              "      <td>0</td>\n",
              "      <td>0</td>\n",
              "      <td>0</td>\n",
              "      <td>0</td>\n",
              "      <td>0</td>\n",
              "      <td>0</td>\n",
              "      <td>...</td>\n",
              "      <td>0</td>\n",
              "      <td>1</td>\n",
              "      <td>0</td>\n",
              "      <td>0</td>\n",
              "      <td>0</td>\n",
              "      <td>0</td>\n",
              "      <td>0</td>\n",
              "      <td>0</td>\n",
              "      <td>0</td>\n",
              "      <td>Rule_Learning</td>\n",
              "    </tr>\n",
              "    <tr>\n",
              "      <th>2</th>\n",
              "      <td>1106406</td>\n",
              "      <td>0</td>\n",
              "      <td>0</td>\n",
              "      <td>0</td>\n",
              "      <td>0</td>\n",
              "      <td>0</td>\n",
              "      <td>0</td>\n",
              "      <td>0</td>\n",
              "      <td>0</td>\n",
              "      <td>0</td>\n",
              "      <td>...</td>\n",
              "      <td>0</td>\n",
              "      <td>0</td>\n",
              "      <td>0</td>\n",
              "      <td>0</td>\n",
              "      <td>0</td>\n",
              "      <td>0</td>\n",
              "      <td>0</td>\n",
              "      <td>0</td>\n",
              "      <td>0</td>\n",
              "      <td>Reinforcement_Learning</td>\n",
              "    </tr>\n",
              "    <tr>\n",
              "      <th>3</th>\n",
              "      <td>13195</td>\n",
              "      <td>0</td>\n",
              "      <td>0</td>\n",
              "      <td>0</td>\n",
              "      <td>0</td>\n",
              "      <td>0</td>\n",
              "      <td>0</td>\n",
              "      <td>0</td>\n",
              "      <td>0</td>\n",
              "      <td>0</td>\n",
              "      <td>...</td>\n",
              "      <td>0</td>\n",
              "      <td>0</td>\n",
              "      <td>0</td>\n",
              "      <td>0</td>\n",
              "      <td>0</td>\n",
              "      <td>0</td>\n",
              "      <td>0</td>\n",
              "      <td>0</td>\n",
              "      <td>0</td>\n",
              "      <td>Reinforcement_Learning</td>\n",
              "    </tr>\n",
              "    <tr>\n",
              "      <th>4</th>\n",
              "      <td>37879</td>\n",
              "      <td>0</td>\n",
              "      <td>0</td>\n",
              "      <td>0</td>\n",
              "      <td>0</td>\n",
              "      <td>0</td>\n",
              "      <td>0</td>\n",
              "      <td>0</td>\n",
              "      <td>0</td>\n",
              "      <td>0</td>\n",
              "      <td>...</td>\n",
              "      <td>0</td>\n",
              "      <td>0</td>\n",
              "      <td>0</td>\n",
              "      <td>0</td>\n",
              "      <td>0</td>\n",
              "      <td>0</td>\n",
              "      <td>0</td>\n",
              "      <td>0</td>\n",
              "      <td>0</td>\n",
              "      <td>Probabilistic_Methods</td>\n",
              "    </tr>\n",
              "  </tbody>\n",
              "</table>\n",
              "<p>5 rows × 1435 columns</p>\n",
              "</div>\n",
              "    <div class=\"colab-df-buttons\">\n",
              "      \n",
              "  <div class=\"colab-df-container\">\n",
              "    <button class=\"colab-df-convert\" onclick=\"convertToInteractive('df-636c6d97-839c-4519-b579-93d5a98166c4')\"\n",
              "            title=\"Convert this dataframe to an interactive table.\"\n",
              "            style=\"display:none;\">\n",
              "      \n",
              "  <svg xmlns=\"http://www.w3.org/2000/svg\" height=\"24px\" viewBox=\"0 -960 960 960\">\n",
              "    <path d=\"M120-120v-720h720v720H120Zm60-500h600v-160H180v160Zm220 220h160v-160H400v160Zm0 220h160v-160H400v160ZM180-400h160v-160H180v160Zm440 0h160v-160H620v160ZM180-180h160v-160H180v160Zm440 0h160v-160H620v160Z\"/>\n",
              "  </svg>\n",
              "    </button>\n",
              "    \n",
              "  <style>\n",
              "    .colab-df-container {\n",
              "      display:flex;\n",
              "      gap: 12px;\n",
              "    }\n",
              "\n",
              "    .colab-df-convert {\n",
              "      background-color: #E8F0FE;\n",
              "      border: none;\n",
              "      border-radius: 50%;\n",
              "      cursor: pointer;\n",
              "      display: none;\n",
              "      fill: #1967D2;\n",
              "      height: 32px;\n",
              "      padding: 0 0 0 0;\n",
              "      width: 32px;\n",
              "    }\n",
              "\n",
              "    .colab-df-convert:hover {\n",
              "      background-color: #E2EBFA;\n",
              "      box-shadow: 0px 1px 2px rgba(60, 64, 67, 0.3), 0px 1px 3px 1px rgba(60, 64, 67, 0.15);\n",
              "      fill: #174EA6;\n",
              "    }\n",
              "\n",
              "    .colab-df-buttons div {\n",
              "      margin-bottom: 4px;\n",
              "    }\n",
              "\n",
              "    [theme=dark] .colab-df-convert {\n",
              "      background-color: #3B4455;\n",
              "      fill: #D2E3FC;\n",
              "    }\n",
              "\n",
              "    [theme=dark] .colab-df-convert:hover {\n",
              "      background-color: #434B5C;\n",
              "      box-shadow: 0px 1px 3px 1px rgba(0, 0, 0, 0.15);\n",
              "      filter: drop-shadow(0px 1px 2px rgba(0, 0, 0, 0.3));\n",
              "      fill: #FFFFFF;\n",
              "    }\n",
              "  </style>\n",
              "\n",
              "    <script>\n",
              "      const buttonEl =\n",
              "        document.querySelector('#df-636c6d97-839c-4519-b579-93d5a98166c4 button.colab-df-convert');\n",
              "      buttonEl.style.display =\n",
              "        google.colab.kernel.accessAllowed ? 'block' : 'none';\n",
              "\n",
              "      async function convertToInteractive(key) {\n",
              "        const element = document.querySelector('#df-636c6d97-839c-4519-b579-93d5a98166c4');\n",
              "        const dataTable =\n",
              "          await google.colab.kernel.invokeFunction('convertToInteractive',\n",
              "                                                    [key], {});\n",
              "        if (!dataTable) return;\n",
              "\n",
              "        const docLinkHtml = 'Like what you see? Visit the ' +\n",
              "          '<a target=\"_blank\" href=https://colab.research.google.com/notebooks/data_table.ipynb>data table notebook</a>'\n",
              "          + ' to learn more about interactive tables.';\n",
              "        element.innerHTML = '';\n",
              "        dataTable['output_type'] = 'display_data';\n",
              "        await google.colab.output.renderOutput(dataTable, element);\n",
              "        const docLink = document.createElement('div');\n",
              "        docLink.innerHTML = docLinkHtml;\n",
              "        element.appendChild(docLink);\n",
              "      }\n",
              "    </script>\n",
              "  </div>\n",
              "  \n",
              "    </div>\n",
              "  </div>\n",
              "  "
            ]
          },
          "metadata": {},
          "execution_count": 30
        }
      ],
      "source": [
        "headers = ['PaperID'] + [f'word{i}' for i in range(1433)] + ['label']\n",
        "cora_content=pandas.read_csv('cora.content', sep=\"\\t\", names=headers)\n",
        "cora_content.head()"
      ]
    },
    {
      "cell_type": "markdown",
      "source": [
        "The `cora.cites` contains the relationships between nodes. For each line it contains:\n",
        "\n",
        "- The first entry is id of the cited paper\n",
        "- The second entry id of the citing paper\n",
        "\n",
        "That is, the direction of the entry is right to left."
      ],
      "metadata": {
        "id": "SPjzysEcorVE"
      }
    },
    {
      "cell_type": "code",
      "source": [
        "headers = ['Cited PaperID', 'Citing PaperID']\n",
        "cora_cites=pandas.read_csv('cora.cites', sep=\"\\t\", names=headers)\n",
        "cora_cites.head()"
      ],
      "metadata": {
        "colab": {
          "base_uri": "https://localhost:8080/",
          "height": 206
        },
        "id": "3RU0oHKIoqkk",
        "outputId": "5b0402f0-1a55-4e22-f7a6-65a5d529a68d"
      },
      "execution_count": 31,
      "outputs": [
        {
          "output_type": "execute_result",
          "data": {
            "text/plain": [
              "   Cited PaperID  Citing PaperID\n",
              "0             35            1033\n",
              "1             35          103482\n",
              "2             35          103515\n",
              "3             35         1050679\n",
              "4             35         1103960"
            ],
            "text/html": [
              "\n",
              "  <div id=\"df-9bba3eb9-fbd5-4f4e-8801-12ee5daf94e9\" class=\"colab-df-container\">\n",
              "    <div>\n",
              "<style scoped>\n",
              "    .dataframe tbody tr th:only-of-type {\n",
              "        vertical-align: middle;\n",
              "    }\n",
              "\n",
              "    .dataframe tbody tr th {\n",
              "        vertical-align: top;\n",
              "    }\n",
              "\n",
              "    .dataframe thead th {\n",
              "        text-align: right;\n",
              "    }\n",
              "</style>\n",
              "<table border=\"1\" class=\"dataframe\">\n",
              "  <thead>\n",
              "    <tr style=\"text-align: right;\">\n",
              "      <th></th>\n",
              "      <th>Cited PaperID</th>\n",
              "      <th>Citing PaperID</th>\n",
              "    </tr>\n",
              "  </thead>\n",
              "  <tbody>\n",
              "    <tr>\n",
              "      <th>0</th>\n",
              "      <td>35</td>\n",
              "      <td>1033</td>\n",
              "    </tr>\n",
              "    <tr>\n",
              "      <th>1</th>\n",
              "      <td>35</td>\n",
              "      <td>103482</td>\n",
              "    </tr>\n",
              "    <tr>\n",
              "      <th>2</th>\n",
              "      <td>35</td>\n",
              "      <td>103515</td>\n",
              "    </tr>\n",
              "    <tr>\n",
              "      <th>3</th>\n",
              "      <td>35</td>\n",
              "      <td>1050679</td>\n",
              "    </tr>\n",
              "    <tr>\n",
              "      <th>4</th>\n",
              "      <td>35</td>\n",
              "      <td>1103960</td>\n",
              "    </tr>\n",
              "  </tbody>\n",
              "</table>\n",
              "</div>\n",
              "    <div class=\"colab-df-buttons\">\n",
              "      \n",
              "  <div class=\"colab-df-container\">\n",
              "    <button class=\"colab-df-convert\" onclick=\"convertToInteractive('df-9bba3eb9-fbd5-4f4e-8801-12ee5daf94e9')\"\n",
              "            title=\"Convert this dataframe to an interactive table.\"\n",
              "            style=\"display:none;\">\n",
              "      \n",
              "  <svg xmlns=\"http://www.w3.org/2000/svg\" height=\"24px\" viewBox=\"0 -960 960 960\">\n",
              "    <path d=\"M120-120v-720h720v720H120Zm60-500h600v-160H180v160Zm220 220h160v-160H400v160Zm0 220h160v-160H400v160ZM180-400h160v-160H180v160Zm440 0h160v-160H620v160ZM180-180h160v-160H180v160Zm440 0h160v-160H620v160Z\"/>\n",
              "  </svg>\n",
              "    </button>\n",
              "    \n",
              "  <style>\n",
              "    .colab-df-container {\n",
              "      display:flex;\n",
              "      gap: 12px;\n",
              "    }\n",
              "\n",
              "    .colab-df-convert {\n",
              "      background-color: #E8F0FE;\n",
              "      border: none;\n",
              "      border-radius: 50%;\n",
              "      cursor: pointer;\n",
              "      display: none;\n",
              "      fill: #1967D2;\n",
              "      height: 32px;\n",
              "      padding: 0 0 0 0;\n",
              "      width: 32px;\n",
              "    }\n",
              "\n",
              "    .colab-df-convert:hover {\n",
              "      background-color: #E2EBFA;\n",
              "      box-shadow: 0px 1px 2px rgba(60, 64, 67, 0.3), 0px 1px 3px 1px rgba(60, 64, 67, 0.15);\n",
              "      fill: #174EA6;\n",
              "    }\n",
              "\n",
              "    .colab-df-buttons div {\n",
              "      margin-bottom: 4px;\n",
              "    }\n",
              "\n",
              "    [theme=dark] .colab-df-convert {\n",
              "      background-color: #3B4455;\n",
              "      fill: #D2E3FC;\n",
              "    }\n",
              "\n",
              "    [theme=dark] .colab-df-convert:hover {\n",
              "      background-color: #434B5C;\n",
              "      box-shadow: 0px 1px 3px 1px rgba(0, 0, 0, 0.15);\n",
              "      filter: drop-shadow(0px 1px 2px rgba(0, 0, 0, 0.3));\n",
              "      fill: #FFFFFF;\n",
              "    }\n",
              "  </style>\n",
              "\n",
              "    <script>\n",
              "      const buttonEl =\n",
              "        document.querySelector('#df-9bba3eb9-fbd5-4f4e-8801-12ee5daf94e9 button.colab-df-convert');\n",
              "      buttonEl.style.display =\n",
              "        google.colab.kernel.accessAllowed ? 'block' : 'none';\n",
              "\n",
              "      async function convertToInteractive(key) {\n",
              "        const element = document.querySelector('#df-9bba3eb9-fbd5-4f4e-8801-12ee5daf94e9');\n",
              "        const dataTable =\n",
              "          await google.colab.kernel.invokeFunction('convertToInteractive',\n",
              "                                                    [key], {});\n",
              "        if (!dataTable) return;\n",
              "\n",
              "        const docLinkHtml = 'Like what you see? Visit the ' +\n",
              "          '<a target=\"_blank\" href=https://colab.research.google.com/notebooks/data_table.ipynb>data table notebook</a>'\n",
              "          + ' to learn more about interactive tables.';\n",
              "        element.innerHTML = '';\n",
              "        dataTable['output_type'] = 'display_data';\n",
              "        await google.colab.output.renderOutput(dataTable, element);\n",
              "        const docLink = document.createElement('div');\n",
              "        docLink.innerHTML = docLinkHtml;\n",
              "        element.appendChild(docLink);\n",
              "      }\n",
              "    </script>\n",
              "  </div>\n",
              "  \n",
              "    </div>\n",
              "  </div>\n",
              "  "
            ]
          },
          "metadata": {},
          "execution_count": 31
        }
      ]
    },
    {
      "cell_type": "code",
      "source": [
        "classes = [\n",
        "    'Case_Based',\n",
        "    'Genetic_Algorithms',\n",
        "    'Neural_Networks',\n",
        "    'Probabilistic_Methods',\n",
        "    'Reinforcement_Learning',\n",
        "    'Rule_Learning',\n",
        "    'Theory',\n",
        "]"
      ],
      "metadata": {
        "id": "6PARcUqepL6S"
      },
      "execution_count": 32,
      "outputs": []
    },
    {
      "cell_type": "markdown",
      "source": [],
      "metadata": {
        "id": "hPLmuVS_on1b"
      }
    },
    {
      "cell_type": "markdown",
      "source": [
        "## Dataset Loading"
      ],
      "metadata": {
        "id": "MgssktZWpVFk"
      }
    },
    {
      "cell_type": "markdown",
      "source": [
        "Until now we have seen building graphs in networkx. However in Pytorch, we need the data in the form of tensors. For this, we need some pre-processing"
      ],
      "metadata": {
        "id": "-ILfq1wgpc8l"
      }
    },
    {
      "cell_type": "code",
      "source": [
        "def encode_onehot(labels):\n",
        "    \"\"\" Converts categorical labels into a one-hot encoded format\"\"\"\n",
        "    classes = set(labels)\n",
        "    classes_dict = {c: np.identity(len(classes))[i, :] for i, c in\n",
        "                    enumerate(classes)}\n",
        "    labels_onehot = np.array(list(map(classes_dict.get, labels)),\n",
        "                             dtype=np.int32)\n",
        "    return labels_onehot"
      ],
      "metadata": {
        "id": "s7lcdgxYrt4h"
      },
      "execution_count": 33,
      "outputs": []
    },
    {
      "cell_type": "code",
      "source": [
        "ef normalize(mx):\n",
        "    \"\"\"Row-normalize sparse matrix\"\"\"\n",
        "    rowsum = np.array(mx.sum(1)) # 1. Calculate the sum of each row\n",
        "    r_inv = np.power(rowsum, -1).flatten() # 2. Calculate the inverse of each row sum\n",
        "    r_inv[np.isinf(r_inv)] = 0. # 3. Handle cases where the row sum was zero\n",
        "    r_mat_inv = sp.diags(r_inv) # 4. Create a diagonal sparse matrix with the inverse row sums\n",
        "    mx = r_mat_inv.dot(mx) # 5. Multiply the inverse diagonal matrix by the original sparse matrix\n",
        "    return mx # 6. Return the row-normalized sparse matrix\n",
        "\n",
        "#Row-normalizes a sparse matrix.\n",
        "#To ensure that the sum of weights for edges originating from a node is 1."
      ],
      "metadata": {
        "id": "aw9WtOtLryav"
      },
      "execution_count": 34,
      "outputs": []
    },
    {
      "cell_type": "code",
      "source": [
        "def sparse_mx_to_torch_sparse_tensor(sparse_mx):\n",
        "    \"\"\"Convert a scipy sparse matrix to a torch sparse tensor.\"\"\"\n",
        "    sparse_mx = sparse_mx.tocoo().astype(np.float32)\n",
        "    indices = torch.from_numpy(\n",
        "        np.vstack((sparse_mx.row, sparse_mx.col)).astype(np.int64))\n",
        "    values = torch.from_numpy(sparse_mx.data)\n",
        "    shape = torch.Size(sparse_mx.shape)\n",
        "    return torch.sparse_coo_tensor(indices, values, shape)"
      ],
      "metadata": {
        "id": "6KrCU1SBr10d"
      },
      "execution_count": 35,
      "outputs": []
    },
    {
      "cell_type": "code",
      "source": [
        "def load_data(cora_cites, cora_content):\n",
        "    \"\"\"Load citation network dataset from pandas DataFrames.\"\"\"\n",
        "    print('Loading dataset from DataFrames...')\n",
        "\n",
        "    # Extract data from cora_content DataFrame\n",
        "    idx_features_labels = cora_content.values\n",
        "    features = sp.csr_matrix(idx_features_labels[:, 1:-1], dtype=np.float32)\n",
        "    labels = encode_onehot(idx_features_labels[:, -1])\n",
        "\n",
        "    # build graph\n",
        "    idx = np.array(idx_features_labels[:, 0], dtype=np.int32)\n",
        "    idx_map = {j: i for i, j in enumerate(idx)}\n",
        "\n",
        "    # Extract data from cora_cites DataFrame and build edges\n",
        "    edges_unordered = cora_cites.values\n",
        "    edges = np.array(list(map(idx_map.get, edges_unordered.flatten())),\n",
        "                     dtype=np.int32).reshape(edges_unordered.shape)\n",
        "    adj = sp.coo_matrix((np.ones(edges.shape[0]), (edges[:, 0], edges[:, 1])),\n",
        "                        shape=(labels.shape[0], labels.shape[0]),\n",
        "                        dtype=np.float32)\n",
        "\n",
        "    # build symmetric adjacency matrix\n",
        "    adj = adj + adj.T.multiply(adj.T > adj) - adj.multiply(adj.T > adj)\n",
        "\n",
        "    features = normalize(features)\n",
        "    adj = normalize(adj + sp.eye(adj.shape[0]))\n",
        "\n",
        "    idx_train = range(140)\n",
        "    idx_val = range(200, 500)\n",
        "    idx_test = range(500, 1500)\n",
        "\n",
        "    features = torch.FloatTensor(np.array(features.todense()))\n",
        "    labels = torch.LongTensor(np.where(labels)[1])\n",
        "    adj = sparse_mx_to_torch_sparse_tensor(adj)\n",
        "\n",
        "    idx_train = torch.LongTensor(idx_train)\n",
        "    idx_val = torch.LongTensor(idx_val)\n",
        "    idx_test = torch.LongTensor(idx_test)\n",
        "\n",
        "    return adj, features, labels, idx_train, idx_val, idx_test\n",
        "\n",
        "# Now you can call the function with your existing dataframes:\n",
        "# adj, features, labels, idx_train, idx_val, idx_test = load_data(cora_cites, cora_content)"
      ],
      "metadata": {
        "id": "C7q5j4rzqZYK"
      },
      "execution_count": 36,
      "outputs": []
    },
    {
      "cell_type": "code",
      "source": [
        "adj, features, labels, idx_train, idx_val, idx_test = load_data(cora_cites, cora_content)"
      ],
      "metadata": {
        "colab": {
          "base_uri": "https://localhost:8080/"
        },
        "id": "A7qct-ZarO5A",
        "outputId": "55fadbf5-38b0-4993-cc60-16ef3ef8fed5"
      },
      "execution_count": 37,
      "outputs": [
        {
          "output_type": "stream",
          "name": "stdout",
          "text": [
            "Loading dataset from DataFrames...\n"
          ]
        }
      ]
    },
    {
      "cell_type": "code",
      "source": [
        "# As expected its shape is num_paper*num_paper\n",
        "adj.shape"
      ],
      "metadata": {
        "colab": {
          "base_uri": "https://localhost:8080/"
        },
        "id": "ewFY30wQsDtS",
        "outputId": "44ee96b7-f130-4dbd-a68d-4ec169f6c569"
      },
      "execution_count": 38,
      "outputs": [
        {
          "output_type": "execute_result",
          "data": {
            "text/plain": [
              "torch.Size([2708, 2708])"
            ]
          },
          "metadata": {},
          "execution_count": 38
        }
      ]
    },
    {
      "cell_type": "code",
      "source": [
        "print(torch.sum(adj.to_dense(), 0)) #summing across the rows, calculating, sum of each column\n",
        "print(torch.sum(adj.to_dense(), 1)) #summing across the column, calculating sum of each row"
      ],
      "metadata": {
        "colab": {
          "base_uri": "https://localhost:8080/"
        },
        "id": "a7_iO8qjsJKc",
        "outputId": "8e64d6a0-1e32-435a-a97b-58512afdb830"
      },
      "execution_count": 39,
      "outputs": [
        {
          "output_type": "stream",
          "name": "stdout",
          "text": [
            "tensor([0.8333, 0.5312, 0.5276,  ..., 1.1444, 1.1524, 1.2000])\n",
            "tensor([1., 1., 1.,  ..., 1., 1., 1.])\n"
          ]
        }
      ]
    },
    {
      "cell_type": "markdown",
      "source": [
        "The row normalization makes the \"outgoing\" weights from each node sum to 1, but it doesn't force the \"incoming\" weights (represented by column sums) to also sum to 1."
      ],
      "metadata": {
        "id": "QU2w1Ky4u3P_"
      }
    },
    {
      "cell_type": "code",
      "source": [
        "# Each paper has 1433 features. The BOW representation of its text\n",
        "features.shape"
      ],
      "metadata": {
        "colab": {
          "base_uri": "https://localhost:8080/"
        },
        "id": "OLvAErwvuBjX",
        "outputId": "edf6a95c-e6ff-47f9-8777-3ec65097de8a"
      },
      "execution_count": 40,
      "outputs": [
        {
          "output_type": "execute_result",
          "data": {
            "text/plain": [
              "torch.Size([2708, 1433])"
            ]
          },
          "metadata": {},
          "execution_count": 40
        }
      ]
    },
    {
      "cell_type": "markdown",
      "source": [
        "## Graph Convolution\n"
      ],
      "metadata": {
        "id": "KQkdmvJdw4c8"
      }
    },
    {
      "cell_type": "code",
      "source": [
        "!pip install torch-geometric\n"
      ],
      "metadata": {
        "colab": {
          "base_uri": "https://localhost:8080/"
        },
        "id": "zPzmmjK0I9rW",
        "outputId": "473fde46-1f34-4314-b541-68ae803879d8"
      },
      "execution_count": 50,
      "outputs": [
        {
          "output_type": "stream",
          "name": "stdout",
          "text": [
            "Collecting torch-geometric\n",
            "  Downloading torch_geometric-2.6.1-py3-none-any.whl.metadata (63 kB)\n",
            "\u001b[?25l     \u001b[90m━━━━━━━━━━━━━━━━━━━━━━━━━━━━━━━━━━━━━━━━\u001b[0m \u001b[32m0.0/63.1 kB\u001b[0m \u001b[31m?\u001b[0m eta \u001b[36m-:--:--\u001b[0m\r\u001b[2K     \u001b[90m━━━━━━━━━━━━━━━━━━━━━━━━━━━━━━━━━━━━━━━━\u001b[0m \u001b[32m63.1/63.1 kB\u001b[0m \u001b[31m2.3 MB/s\u001b[0m eta \u001b[36m0:00:00\u001b[0m\n",
            "\u001b[?25hRequirement already satisfied: aiohttp in /usr/local/lib/python3.11/dist-packages (from torch-geometric) (3.11.15)\n",
            "Requirement already satisfied: fsspec in /usr/local/lib/python3.11/dist-packages (from torch-geometric) (2025.3.2)\n",
            "Requirement already satisfied: jinja2 in /usr/local/lib/python3.11/dist-packages (from torch-geometric) (3.1.6)\n",
            "Requirement already satisfied: numpy in /usr/local/lib/python3.11/dist-packages (from torch-geometric) (2.0.2)\n",
            "Requirement already satisfied: psutil>=5.8.0 in /usr/local/lib/python3.11/dist-packages (from torch-geometric) (5.9.5)\n",
            "Requirement already satisfied: pyparsing in /usr/local/lib/python3.11/dist-packages (from torch-geometric) (3.2.3)\n",
            "Requirement already satisfied: requests in /usr/local/lib/python3.11/dist-packages (from torch-geometric) (2.32.3)\n",
            "Requirement already satisfied: tqdm in /usr/local/lib/python3.11/dist-packages (from torch-geometric) (4.67.1)\n",
            "Requirement already satisfied: aiohappyeyeballs>=2.3.0 in /usr/local/lib/python3.11/dist-packages (from aiohttp->torch-geometric) (2.6.1)\n",
            "Requirement already satisfied: aiosignal>=1.1.2 in /usr/local/lib/python3.11/dist-packages (from aiohttp->torch-geometric) (1.3.2)\n",
            "Requirement already satisfied: attrs>=17.3.0 in /usr/local/lib/python3.11/dist-packages (from aiohttp->torch-geometric) (25.3.0)\n",
            "Requirement already satisfied: frozenlist>=1.1.1 in /usr/local/lib/python3.11/dist-packages (from aiohttp->torch-geometric) (1.6.0)\n",
            "Requirement already satisfied: multidict<7.0,>=4.5 in /usr/local/lib/python3.11/dist-packages (from aiohttp->torch-geometric) (6.4.3)\n",
            "Requirement already satisfied: propcache>=0.2.0 in /usr/local/lib/python3.11/dist-packages (from aiohttp->torch-geometric) (0.3.1)\n",
            "Requirement already satisfied: yarl<2.0,>=1.17.0 in /usr/local/lib/python3.11/dist-packages (from aiohttp->torch-geometric) (1.20.0)\n",
            "Requirement already satisfied: MarkupSafe>=2.0 in /usr/local/lib/python3.11/dist-packages (from jinja2->torch-geometric) (3.0.2)\n",
            "Requirement already satisfied: charset-normalizer<4,>=2 in /usr/local/lib/python3.11/dist-packages (from requests->torch-geometric) (3.4.2)\n",
            "Requirement already satisfied: idna<4,>=2.5 in /usr/local/lib/python3.11/dist-packages (from requests->torch-geometric) (3.10)\n",
            "Requirement already satisfied: urllib3<3,>=1.21.1 in /usr/local/lib/python3.11/dist-packages (from requests->torch-geometric) (2.4.0)\n",
            "Requirement already satisfied: certifi>=2017.4.17 in /usr/local/lib/python3.11/dist-packages (from requests->torch-geometric) (2025.4.26)\n",
            "Downloading torch_geometric-2.6.1-py3-none-any.whl (1.1 MB)\n",
            "\u001b[2K   \u001b[90m━━━━━━━━━━━━━━━━━━━━━━━━━━━━━━━━━━━━━━━━\u001b[0m \u001b[32m1.1/1.1 MB\u001b[0m \u001b[31m21.2 MB/s\u001b[0m eta \u001b[36m0:00:00\u001b[0m\n",
            "\u001b[?25hInstalling collected packages: torch-geometric\n",
            "Successfully installed torch-geometric-2.6.1\n"
          ]
        }
      ]
    },
    {
      "cell_type": "code",
      "source": [
        "from torch import nn\n",
        "import torch.nn.functional as F # Also import F for ReLU\n",
        "from torch.nn import Parameter, Module\n",
        "from torch.nn import Linear\n",
        "from torch_geometric.nn import GCNConv\n",
        "\n",
        "class GCN(torch.nn.Module):\n",
        "    def __init__(self, nfeat, nhid, nclass,dropout):\n",
        "        super().__init__()\n",
        "        self.gcn = GCNConv(nfeat, nhid)\n",
        "        self.out = Linear(nhid, nclass)\n",
        "\n",
        "    def forward(self, x, adj):\n",
        "        h = self.gcn(x, adj).relu()\n",
        "        z = self.out(h)\n",
        "        return z\n"
      ],
      "metadata": {
        "id": "b9cQcbN_vq2X"
      },
      "execution_count": 51,
      "outputs": []
    },
    {
      "cell_type": "code",
      "source": [
        "#gcn = GCN(1433, 50, 7)\n",
        "\n",
        "dropout_rate = 0.5\n",
        "gcn = GCN(nfeat=features.shape[1], nhid=50, nclass=labels.max().item() + 1, dropout=dropout_rate)\n"
      ],
      "metadata": {
        "id": "TWXS9W-pwa1L"
      },
      "execution_count": 52,
      "outputs": []
    },
    {
      "cell_type": "code",
      "source": [
        "\n",
        "def compute_accuracy(model, features, adj, labels, indices):\n",
        "    \"\"\"\n",
        "    Computes the accuracy of the model on the data specified by indices.\n",
        "    \"\"\"\n",
        "    model.eval() # Set the model to evaluation mode\n",
        "    with torch.no_grad(): # Disable gradient computation\n",
        "        output = model(features, adj)\n",
        "        sliced_output = output[indices]\n",
        "        sliced_labels = labels[indices]\n",
        "        preds = sliced_output.max(1)[1].type_as(sliced_labels)\n",
        "        correct = preds.eq(sliced_labels).double()\n",
        "        correct = correct.sum()\n",
        "        acc = correct / len(sliced_labels)\n",
        "    return acc\n",
        "\n"
      ],
      "metadata": {
        "id": "sytTpmLg1nVs"
      },
      "execution_count": 53,
      "outputs": []
    },
    {
      "cell_type": "code",
      "source": [
        "import torch.optim as optim # Import the optim module\n",
        "from tqdm import trange\n",
        "import torch.nn.functional as F # Make sure F is imported\n",
        "\n",
        "\n",
        "# Initialize the optimizer with weight decay\n",
        "# Choose a weight decay value, e.g., 5e-4\n",
        "weight_decay_value = 5e-4\n",
        "opt = optim.Adam(gcn.parameters(), lr=0.01, weight_decay=weight_decay_value) # Add weight_decay\n",
        "\n",
        "losses = []\n",
        "train_accuracies = []\n",
        "val_accuracies = []\n",
        "test_accuracies = []\n",
        "\n",
        "# Add lists to store best validation accuracy and corresponding test accuracy for early stopping\n",
        "best_val_acc = 0\n",
        "best_test_acc = 0\n",
        "epochs_no_improve = 0\n",
        "patience = 100 # Number of epochs to wait for improvement before stopping\n",
        "\n",
        "for epoch in trange(1000):\n",
        "    gcn.train() # Set model to training mode\n",
        "    opt.zero_grad()\n",
        "    output = gcn(features, adj)\n",
        "    loss = F.cross_entropy(output[idx_train], labels[idx_train])\n",
        "\n",
        "    loss.backward()\n",
        "    opt.step()\n",
        "\n",
        "    losses.append(loss.item())\n",
        "\n",
        "    # Calculate accuracies\n",
        "    train_acc = compute_accuracy(gcn, features, adj, labels, idx_train)\n",
        "    val_acc = compute_accuracy(gcn, features, adj, labels, idx_val)\n",
        "    test_acc = compute_accuracy(gcn, features, adj, labels, idx_test)\n",
        "\n",
        "\n",
        "    train_accuracies.append(train_acc.item())\n",
        "    val_accuracies.append(val_acc.item())\n",
        "    test_accuracies.append(test_acc.item())\n",
        "\n",
        "    # Check for early stopping\n",
        "    if val_acc > best_val_acc:\n",
        "        best_val_acc = val_acc\n",
        "        best_test_acc = test_acc # Store the test accuracy when validation accuracy improves\n",
        "        epochs_no_improve = 0\n",
        "    else:\n",
        "        epochs_no_improve += 1\n",
        "        if epochs_no_improve == patience:\n",
        "            print(f\"Early stopping at epoch {epoch+1}\")\n",
        "            break\n",
        "\n",
        "    # Print loss and accuracies for the current epoch\n",
        "    print(f\"Epoch {epoch+1}, Loss: {loss.item():.4f}, Train Acc: {train_acc:.4f}, Val Acc: {val_acc:.4f}, Test Acc: {test_acc:.4f}\")\n",
        "\n",
        "\n",
        "# After the training loop, you can access the lists and the best test accuracy\n",
        "print(f\"Best Validation Accuracy: {best_val_acc:.4f}\")\n",
        "print(f\"Test Accuracy at Best Validation: {best_test_acc:.4f}\")\n",
        "\n"
      ],
      "metadata": {
        "colab": {
          "base_uri": "https://localhost:8080/"
        },
        "id": "vh8ub07B2mvX",
        "outputId": "447bacfa-74dc-415b-dfae-78c0bd5ba21b"
      },
      "execution_count": 54,
      "outputs": [
        {
          "output_type": "stream",
          "name": "stderr",
          "text": [
            "  0%|          | 0/1000 [00:00<?, ?it/s]/usr/local/lib/python3.11/dist-packages/torch_geometric/utils/_spmm.py:66: UserWarning: Converting sparse tensor to CSR format for more efficient processing. Consider converting your sparse tensor to CSR format beforehand to avoid repeated conversion (got 'torch.sparse_coo')\n",
            "  warnings.warn(f\"Converting sparse tensor to CSR format for more \"\n",
            "/usr/local/lib/python3.11/dist-packages/torch_geometric/utils/_spmm.py:70: UserWarning: Sparse CSR tensor support is in beta state. If you miss a functionality in the sparse tensor support, please submit a feature request to https://github.com/pytorch/pytorch/issues. (Triggered internally at /pytorch/aten/src/ATen/SparseCsrTensorImpl.cpp:53.)\n",
            "  src = src.to_sparse_csr()\n",
            "  0%|          | 3/1000 [00:00<01:26, 11.51it/s]"
          ]
        },
        {
          "output_type": "stream",
          "name": "stdout",
          "text": [
            "Epoch 1, Loss: 1.9496, Train Acc: 0.1000, Val Acc: 0.1033, Test Acc: 0.1180\n",
            "Epoch 2, Loss: 1.9368, Train Acc: 0.2571, Val Acc: 0.1667, Test Acc: 0.1480\n",
            "Epoch 3, Loss: 1.9210, Train Acc: 0.2286, Val Acc: 0.1600, Test Acc: 0.1390\n"
          ]
        },
        {
          "output_type": "stream",
          "name": "stderr",
          "text": [
            "\r  0%|          | 5/1000 [00:00<01:20, 12.41it/s]"
          ]
        },
        {
          "output_type": "stream",
          "name": "stdout",
          "text": [
            "Epoch 4, Loss: 1.9010, Train Acc: 0.4071, Val Acc: 0.2300, Test Acc: 0.1880\n",
            "Epoch 5, Loss: 1.8779, Train Acc: 0.5000, Val Acc: 0.4033, Test Acc: 0.3450\n",
            "Epoch 6, Loss: 1.8516, Train Acc: 0.5071, Val Acc: 0.4600, Test Acc: 0.3870\n"
          ]
        },
        {
          "output_type": "stream",
          "name": "stderr",
          "text": [
            "  1%|          | 9/1000 [00:00<01:16, 13.00it/s]"
          ]
        },
        {
          "output_type": "stream",
          "name": "stdout",
          "text": [
            "Epoch 7, Loss: 1.8224, Train Acc: 0.4714, Val Acc: 0.4367, Test Acc: 0.3610\n",
            "Epoch 8, Loss: 1.7906, Train Acc: 0.4643, Val Acc: 0.3967, Test Acc: 0.3400\n",
            "Epoch 9, Loss: 1.7566, Train Acc: 0.4429, Val Acc: 0.3733, Test Acc: 0.3290\n"
          ]
        },
        {
          "output_type": "stream",
          "name": "stderr",
          "text": [
            "\r  1%|          | 11/1000 [00:00<01:16, 12.86it/s]"
          ]
        },
        {
          "output_type": "stream",
          "name": "stdout",
          "text": [
            "Epoch 10, Loss: 1.7211, Train Acc: 0.4286, Val Acc: 0.3633, Test Acc: 0.3230\n",
            "Epoch 11, Loss: 1.6847, Train Acc: 0.4286, Val Acc: 0.3567, Test Acc: 0.3200\n",
            "Epoch 12, Loss: 1.6483, Train Acc: 0.4214, Val Acc: 0.3533, Test Acc: 0.3190\n"
          ]
        },
        {
          "output_type": "stream",
          "name": "stderr",
          "text": [
            "  2%|▏         | 15/1000 [00:01<01:16, 12.86it/s]"
          ]
        },
        {
          "output_type": "stream",
          "name": "stdout",
          "text": [
            "Epoch 13, Loss: 1.6126, Train Acc: 0.4143, Val Acc: 0.3533, Test Acc: 0.3180\n",
            "Epoch 14, Loss: 1.5776, Train Acc: 0.4071, Val Acc: 0.3533, Test Acc: 0.3180\n",
            "Epoch 15, Loss: 1.5430, Train Acc: 0.4286, Val Acc: 0.3533, Test Acc: 0.3190\n"
          ]
        },
        {
          "output_type": "stream",
          "name": "stderr",
          "text": [
            "\r  2%|▏         | 17/1000 [00:01<01:15, 12.95it/s]"
          ]
        },
        {
          "output_type": "stream",
          "name": "stdout",
          "text": [
            "Epoch 16, Loss: 1.5079, Train Acc: 0.4429, Val Acc: 0.3567, Test Acc: 0.3200\n",
            "Epoch 17, Loss: 1.4710, Train Acc: 0.4500, Val Acc: 0.3600, Test Acc: 0.3220\n",
            "Epoch 18, Loss: 1.4316, Train Acc: 0.4714, Val Acc: 0.3733, Test Acc: 0.3270\n"
          ]
        },
        {
          "output_type": "stream",
          "name": "stderr",
          "text": [
            "  2%|▏         | 21/1000 [00:01<01:14, 13.17it/s]"
          ]
        },
        {
          "output_type": "stream",
          "name": "stdout",
          "text": [
            "Epoch 19, Loss: 1.3894, Train Acc: 0.5071, Val Acc: 0.3867, Test Acc: 0.3390\n",
            "Epoch 20, Loss: 1.3450, Train Acc: 0.5500, Val Acc: 0.4167, Test Acc: 0.3490\n",
            "Epoch 21, Loss: 1.2994, Train Acc: 0.6143, Val Acc: 0.4500, Test Acc: 0.3680\n"
          ]
        },
        {
          "output_type": "stream",
          "name": "stderr",
          "text": [
            "\r  2%|▏         | 23/1000 [00:01<01:14, 13.10it/s]"
          ]
        },
        {
          "output_type": "stream",
          "name": "stdout",
          "text": [
            "Epoch 22, Loss: 1.2531, Train Acc: 0.7071, Val Acc: 0.4933, Test Acc: 0.3840\n",
            "Epoch 23, Loss: 1.2070, Train Acc: 0.7714, Val Acc: 0.5233, Test Acc: 0.4150\n",
            "Epoch 24, Loss: 1.1615, Train Acc: 0.8429, Val Acc: 0.5767, Test Acc: 0.4320\n"
          ]
        },
        {
          "output_type": "stream",
          "name": "stderr",
          "text": [
            "  3%|▎         | 27/1000 [00:02<01:15, 12.88it/s]"
          ]
        },
        {
          "output_type": "stream",
          "name": "stdout",
          "text": [
            "Epoch 25, Loss: 1.1166, Train Acc: 0.8714, Val Acc: 0.5933, Test Acc: 0.4420\n",
            "Epoch 26, Loss: 1.0717, Train Acc: 0.8786, Val Acc: 0.6033, Test Acc: 0.4550\n",
            "Epoch 27, Loss: 1.0270, Train Acc: 0.8929, Val Acc: 0.6067, Test Acc: 0.4690\n"
          ]
        },
        {
          "output_type": "stream",
          "name": "stderr",
          "text": [
            "\r  3%|▎         | 29/1000 [00:02<01:14, 12.98it/s]"
          ]
        },
        {
          "output_type": "stream",
          "name": "stdout",
          "text": [
            "Epoch 28, Loss: 0.9825, Train Acc: 0.8929, Val Acc: 0.6067, Test Acc: 0.4780\n",
            "Epoch 29, Loss: 0.9387, Train Acc: 0.8929, Val Acc: 0.6033, Test Acc: 0.4800\n",
            "Epoch 30, Loss: 0.8960, Train Acc: 0.8929, Val Acc: 0.6100, Test Acc: 0.4830\n"
          ]
        },
        {
          "output_type": "stream",
          "name": "stderr",
          "text": [
            "  3%|▎         | 33/1000 [00:02<01:13, 13.12it/s]"
          ]
        },
        {
          "output_type": "stream",
          "name": "stdout",
          "text": [
            "Epoch 31, Loss: 0.8545, Train Acc: 0.9071, Val Acc: 0.6167, Test Acc: 0.4870\n",
            "Epoch 32, Loss: 0.8144, Train Acc: 0.9143, Val Acc: 0.6233, Test Acc: 0.4960\n",
            "Epoch 33, Loss: 0.7754, Train Acc: 0.9286, Val Acc: 0.6267, Test Acc: 0.5160\n"
          ]
        },
        {
          "output_type": "stream",
          "name": "stderr",
          "text": [
            "\r  4%|▎         | 35/1000 [00:02<01:15, 12.84it/s]"
          ]
        },
        {
          "output_type": "stream",
          "name": "stdout",
          "text": [
            "Epoch 34, Loss: 0.7375, Train Acc: 0.9286, Val Acc: 0.6533, Test Acc: 0.5360\n",
            "Epoch 35, Loss: 0.7009, Train Acc: 0.9286, Val Acc: 0.6633, Test Acc: 0.5600\n",
            "Epoch 36, Loss: 0.6657, Train Acc: 0.9357, Val Acc: 0.6800, Test Acc: 0.5870\n"
          ]
        },
        {
          "output_type": "stream",
          "name": "stderr",
          "text": [
            "  4%|▍         | 39/1000 [00:03<01:15, 12.74it/s]"
          ]
        },
        {
          "output_type": "stream",
          "name": "stdout",
          "text": [
            "Epoch 37, Loss: 0.6322, Train Acc: 0.9357, Val Acc: 0.6833, Test Acc: 0.6040\n",
            "Epoch 38, Loss: 0.6006, Train Acc: 0.9429, Val Acc: 0.7000, Test Acc: 0.6180\n",
            "Epoch 39, Loss: 0.5708, Train Acc: 0.9500, Val Acc: 0.7133, Test Acc: 0.6250\n"
          ]
        },
        {
          "output_type": "stream",
          "name": "stderr",
          "text": [
            "\r  4%|▍         | 41/1000 [00:03<01:15, 12.71it/s]"
          ]
        },
        {
          "output_type": "stream",
          "name": "stdout",
          "text": [
            "Epoch 40, Loss: 0.5429, Train Acc: 0.9571, Val Acc: 0.7133, Test Acc: 0.6380\n",
            "Epoch 41, Loss: 0.5168, Train Acc: 0.9643, Val Acc: 0.7133, Test Acc: 0.6420\n",
            "Epoch 42, Loss: 0.4925, Train Acc: 0.9786, Val Acc: 0.7167, Test Acc: 0.6440\n"
          ]
        },
        {
          "output_type": "stream",
          "name": "stderr",
          "text": [
            "  4%|▍         | 45/1000 [00:03<01:13, 13.01it/s]"
          ]
        },
        {
          "output_type": "stream",
          "name": "stdout",
          "text": [
            "Epoch 43, Loss: 0.4700, Train Acc: 0.9786, Val Acc: 0.7233, Test Acc: 0.6470\n",
            "Epoch 44, Loss: 0.4489, Train Acc: 0.9786, Val Acc: 0.7267, Test Acc: 0.6540\n",
            "Epoch 45, Loss: 0.4293, Train Acc: 0.9929, Val Acc: 0.7300, Test Acc: 0.6610\n"
          ]
        },
        {
          "output_type": "stream",
          "name": "stderr",
          "text": [
            "\r  5%|▍         | 47/1000 [00:03<01:12, 13.10it/s]"
          ]
        },
        {
          "output_type": "stream",
          "name": "stdout",
          "text": [
            "Epoch 46, Loss: 0.4111, Train Acc: 0.9929, Val Acc: 0.7333, Test Acc: 0.6640\n",
            "Epoch 47, Loss: 0.3942, Train Acc: 1.0000, Val Acc: 0.7433, Test Acc: 0.6700\n",
            "Epoch 48, Loss: 0.3787, Train Acc: 1.0000, Val Acc: 0.7467, Test Acc: 0.6780\n"
          ]
        },
        {
          "output_type": "stream",
          "name": "stderr",
          "text": [
            "  5%|▌         | 51/1000 [00:03<01:11, 13.21it/s]"
          ]
        },
        {
          "output_type": "stream",
          "name": "stdout",
          "text": [
            "Epoch 49, Loss: 0.3642, Train Acc: 1.0000, Val Acc: 0.7500, Test Acc: 0.6820\n",
            "Epoch 50, Loss: 0.3508, Train Acc: 1.0000, Val Acc: 0.7500, Test Acc: 0.6830\n",
            "Epoch 51, Loss: 0.3384, Train Acc: 1.0000, Val Acc: 0.7467, Test Acc: 0.6870\n"
          ]
        },
        {
          "output_type": "stream",
          "name": "stderr",
          "text": [
            "\r  5%|▌         | 53/1000 [00:04<01:14, 12.78it/s]"
          ]
        },
        {
          "output_type": "stream",
          "name": "stdout",
          "text": [
            "Epoch 52, Loss: 0.3268, Train Acc: 1.0000, Val Acc: 0.7500, Test Acc: 0.6880\n",
            "Epoch 53, Loss: 0.3160, Train Acc: 1.0000, Val Acc: 0.7467, Test Acc: 0.6930\n",
            "Epoch 54, Loss: 0.3060, Train Acc: 1.0000, Val Acc: 0.7533, Test Acc: 0.6980\n"
          ]
        },
        {
          "output_type": "stream",
          "name": "stderr",
          "text": [
            "\r  6%|▌         | 55/1000 [00:04<01:15, 12.56it/s]"
          ]
        },
        {
          "output_type": "stream",
          "name": "stdout",
          "text": [
            "Epoch 55, Loss: 0.2968, Train Acc: 1.0000, Val Acc: 0.7533, Test Acc: 0.7030\n",
            "Epoch 56, Loss: 0.2883, Train Acc: 1.0000, Val Acc: 0.7533, Test Acc: 0.7070\n"
          ]
        },
        {
          "output_type": "stream",
          "name": "stderr",
          "text": [
            "\r  6%|▌         | 57/1000 [00:04<01:23, 11.25it/s]"
          ]
        },
        {
          "output_type": "stream",
          "name": "stdout",
          "text": [
            "Epoch 57, Loss: 0.2806, Train Acc: 1.0000, Val Acc: 0.7500, Test Acc: 0.7080\n",
            "Epoch 58, Loss: 0.2734, Train Acc: 1.0000, Val Acc: 0.7500, Test Acc: 0.7100\n"
          ]
        },
        {
          "output_type": "stream",
          "name": "stderr",
          "text": [
            "\r  6%|▌         | 59/1000 [00:04<01:31, 10.32it/s]"
          ]
        },
        {
          "output_type": "stream",
          "name": "stdout",
          "text": [
            "Epoch 59, Loss: 0.2667, Train Acc: 1.0000, Val Acc: 0.7500, Test Acc: 0.7070\n",
            "Epoch 60, Loss: 0.2605, Train Acc: 1.0000, Val Acc: 0.7533, Test Acc: 0.7080\n"
          ]
        },
        {
          "output_type": "stream",
          "name": "stderr",
          "text": [
            "\r  6%|▌         | 61/1000 [00:04<01:36,  9.75it/s]"
          ]
        },
        {
          "output_type": "stream",
          "name": "stdout",
          "text": [
            "Epoch 61, Loss: 0.2547, Train Acc: 1.0000, Val Acc: 0.7533, Test Acc: 0.7090\n",
            "Epoch 62, Loss: 0.2492, Train Acc: 1.0000, Val Acc: 0.7533, Test Acc: 0.7100\n"
          ]
        },
        {
          "output_type": "stream",
          "name": "stderr",
          "text": [
            "  6%|▋         | 64/1000 [00:05<01:41,  9.18it/s]"
          ]
        },
        {
          "output_type": "stream",
          "name": "stdout",
          "text": [
            "Epoch 63, Loss: 0.2441, Train Acc: 1.0000, Val Acc: 0.7500, Test Acc: 0.7120\n",
            "Epoch 64, Loss: 0.2392, Train Acc: 1.0000, Val Acc: 0.7500, Test Acc: 0.7150\n"
          ]
        },
        {
          "output_type": "stream",
          "name": "stderr",
          "text": [
            "  7%|▋         | 66/1000 [00:05<01:44,  8.94it/s]"
          ]
        },
        {
          "output_type": "stream",
          "name": "stdout",
          "text": [
            "Epoch 65, Loss: 0.2345, Train Acc: 1.0000, Val Acc: 0.7500, Test Acc: 0.7140\n",
            "Epoch 66, Loss: 0.2300, Train Acc: 1.0000, Val Acc: 0.7500, Test Acc: 0.7150\n"
          ]
        },
        {
          "output_type": "stream",
          "name": "stderr",
          "text": [
            "  7%|▋         | 68/1000 [00:05<01:46,  8.74it/s]"
          ]
        },
        {
          "output_type": "stream",
          "name": "stdout",
          "text": [
            "Epoch 67, Loss: 0.2257, Train Acc: 1.0000, Val Acc: 0.7533, Test Acc: 0.7140\n",
            "Epoch 68, Loss: 0.2216, Train Acc: 1.0000, Val Acc: 0.7533, Test Acc: 0.7120\n"
          ]
        },
        {
          "output_type": "stream",
          "name": "stderr",
          "text": [
            "  7%|▋         | 70/1000 [00:06<01:48,  8.54it/s]"
          ]
        },
        {
          "output_type": "stream",
          "name": "stdout",
          "text": [
            "Epoch 69, Loss: 0.2177, Train Acc: 1.0000, Val Acc: 0.7533, Test Acc: 0.7160\n",
            "Epoch 70, Loss: 0.2139, Train Acc: 1.0000, Val Acc: 0.7500, Test Acc: 0.7170\n"
          ]
        },
        {
          "output_type": "stream",
          "name": "stderr",
          "text": [
            "  7%|▋         | 72/1000 [00:06<01:52,  8.23it/s]"
          ]
        },
        {
          "output_type": "stream",
          "name": "stdout",
          "text": [
            "Epoch 71, Loss: 0.2104, Train Acc: 1.0000, Val Acc: 0.7467, Test Acc: 0.7190\n",
            "Epoch 72, Loss: 0.2070, Train Acc: 1.0000, Val Acc: 0.7467, Test Acc: 0.7190\n"
          ]
        },
        {
          "output_type": "stream",
          "name": "stderr",
          "text": [
            "  7%|▋         | 74/1000 [00:06<01:49,  8.43it/s]"
          ]
        },
        {
          "output_type": "stream",
          "name": "stdout",
          "text": [
            "Epoch 73, Loss: 0.2037, Train Acc: 1.0000, Val Acc: 0.7467, Test Acc: 0.7190\n",
            "Epoch 74, Loss: 0.2006, Train Acc: 1.0000, Val Acc: 0.7467, Test Acc: 0.7180\n"
          ]
        },
        {
          "output_type": "stream",
          "name": "stderr",
          "text": [
            "  8%|▊         | 76/1000 [00:06<01:48,  8.50it/s]"
          ]
        },
        {
          "output_type": "stream",
          "name": "stdout",
          "text": [
            "Epoch 75, Loss: 0.1977, Train Acc: 1.0000, Val Acc: 0.7500, Test Acc: 0.7180\n",
            "Epoch 76, Loss: 0.1948, Train Acc: 1.0000, Val Acc: 0.7533, Test Acc: 0.7190\n"
          ]
        },
        {
          "output_type": "stream",
          "name": "stderr",
          "text": [
            "  8%|▊         | 78/1000 [00:06<01:47,  8.56it/s]"
          ]
        },
        {
          "output_type": "stream",
          "name": "stdout",
          "text": [
            "Epoch 77, Loss: 0.1921, Train Acc: 1.0000, Val Acc: 0.7533, Test Acc: 0.7190\n",
            "Epoch 78, Loss: 0.1894, Train Acc: 1.0000, Val Acc: 0.7533, Test Acc: 0.7200\n"
          ]
        },
        {
          "output_type": "stream",
          "name": "stderr",
          "text": [
            "  8%|▊         | 80/1000 [00:07<01:44,  8.80it/s]"
          ]
        },
        {
          "output_type": "stream",
          "name": "stdout",
          "text": [
            "Epoch 79, Loss: 0.1869, Train Acc: 1.0000, Val Acc: 0.7500, Test Acc: 0.7200\n",
            "Epoch 80, Loss: 0.1844, Train Acc: 1.0000, Val Acc: 0.7500, Test Acc: 0.7200\n",
            "Epoch 81, Loss: 0.1821, Train Acc: 1.0000, Val Acc: 0.7500, Test Acc: 0.7190\n"
          ]
        },
        {
          "output_type": "stream",
          "name": "stderr",
          "text": [
            "  8%|▊         | 84/1000 [00:07<01:21, 11.28it/s]"
          ]
        },
        {
          "output_type": "stream",
          "name": "stdout",
          "text": [
            "Epoch 82, Loss: 0.1798, Train Acc: 1.0000, Val Acc: 0.7500, Test Acc: 0.7190\n",
            "Epoch 83, Loss: 0.1776, Train Acc: 1.0000, Val Acc: 0.7500, Test Acc: 0.7200\n",
            "Epoch 84, Loss: 0.1755, Train Acc: 1.0000, Val Acc: 0.7500, Test Acc: 0.7200\n"
          ]
        },
        {
          "output_type": "stream",
          "name": "stderr",
          "text": [
            "\r  9%|▊         | 86/1000 [00:07<01:16, 11.97it/s]"
          ]
        },
        {
          "output_type": "stream",
          "name": "stdout",
          "text": [
            "Epoch 85, Loss: 0.1734, Train Acc: 1.0000, Val Acc: 0.7500, Test Acc: 0.7200\n",
            "Epoch 86, Loss: 0.1714, Train Acc: 1.0000, Val Acc: 0.7533, Test Acc: 0.7200\n",
            "Epoch 87, Loss: 0.1695, Train Acc: 1.0000, Val Acc: 0.7533, Test Acc: 0.7200\n"
          ]
        },
        {
          "output_type": "stream",
          "name": "stderr",
          "text": [
            "  9%|▉         | 90/1000 [00:07<01:11, 12.78it/s]"
          ]
        },
        {
          "output_type": "stream",
          "name": "stdout",
          "text": [
            "Epoch 88, Loss: 0.1677, Train Acc: 1.0000, Val Acc: 0.7533, Test Acc: 0.7210\n",
            "Epoch 89, Loss: 0.1659, Train Acc: 1.0000, Val Acc: 0.7567, Test Acc: 0.7210\n",
            "Epoch 90, Loss: 0.1641, Train Acc: 1.0000, Val Acc: 0.7567, Test Acc: 0.7220\n"
          ]
        },
        {
          "output_type": "stream",
          "name": "stderr",
          "text": [
            "\r  9%|▉         | 92/1000 [00:08<01:10, 12.79it/s]"
          ]
        },
        {
          "output_type": "stream",
          "name": "stdout",
          "text": [
            "Epoch 91, Loss: 0.1624, Train Acc: 1.0000, Val Acc: 0.7533, Test Acc: 0.7220\n",
            "Epoch 92, Loss: 0.1608, Train Acc: 1.0000, Val Acc: 0.7533, Test Acc: 0.7220\n",
            "Epoch 93, Loss: 0.1592, Train Acc: 1.0000, Val Acc: 0.7533, Test Acc: 0.7220\n"
          ]
        },
        {
          "output_type": "stream",
          "name": "stderr",
          "text": [
            " 10%|▉         | 96/1000 [00:08<01:10, 12.80it/s]"
          ]
        },
        {
          "output_type": "stream",
          "name": "stdout",
          "text": [
            "Epoch 94, Loss: 0.1576, Train Acc: 1.0000, Val Acc: 0.7533, Test Acc: 0.7240\n",
            "Epoch 95, Loss: 0.1562, Train Acc: 1.0000, Val Acc: 0.7533, Test Acc: 0.7240\n",
            "Epoch 96, Loss: 0.1547, Train Acc: 1.0000, Val Acc: 0.7533, Test Acc: 0.7240\n"
          ]
        },
        {
          "output_type": "stream",
          "name": "stderr",
          "text": [
            "\r 10%|▉         | 98/1000 [00:08<01:09, 13.03it/s]"
          ]
        },
        {
          "output_type": "stream",
          "name": "stdout",
          "text": [
            "Epoch 97, Loss: 0.1533, Train Acc: 1.0000, Val Acc: 0.7533, Test Acc: 0.7250\n",
            "Epoch 98, Loss: 0.1519, Train Acc: 1.0000, Val Acc: 0.7533, Test Acc: 0.7260\n",
            "Epoch 99, Loss: 0.1506, Train Acc: 1.0000, Val Acc: 0.7533, Test Acc: 0.7260\n"
          ]
        },
        {
          "output_type": "stream",
          "name": "stderr",
          "text": [
            " 10%|█         | 102/1000 [00:08<01:07, 13.23it/s]"
          ]
        },
        {
          "output_type": "stream",
          "name": "stdout",
          "text": [
            "Epoch 100, Loss: 0.1493, Train Acc: 1.0000, Val Acc: 0.7567, Test Acc: 0.7270\n",
            "Epoch 101, Loss: 0.1480, Train Acc: 1.0000, Val Acc: 0.7567, Test Acc: 0.7270\n",
            "Epoch 102, Loss: 0.1468, Train Acc: 1.0000, Val Acc: 0.7567, Test Acc: 0.7270\n"
          ]
        },
        {
          "output_type": "stream",
          "name": "stderr",
          "text": [
            "\r 10%|█         | 104/1000 [00:09<01:08, 13.17it/s]"
          ]
        },
        {
          "output_type": "stream",
          "name": "stdout",
          "text": [
            "Epoch 103, Loss: 0.1456, Train Acc: 1.0000, Val Acc: 0.7567, Test Acc: 0.7280\n",
            "Epoch 104, Loss: 0.1444, Train Acc: 1.0000, Val Acc: 0.7533, Test Acc: 0.7290\n",
            "Epoch 105, Loss: 0.1433, Train Acc: 1.0000, Val Acc: 0.7533, Test Acc: 0.7300\n"
          ]
        },
        {
          "output_type": "stream",
          "name": "stderr",
          "text": [
            " 11%|█         | 108/1000 [00:09<01:09, 12.89it/s]"
          ]
        },
        {
          "output_type": "stream",
          "name": "stdout",
          "text": [
            "Epoch 106, Loss: 0.1422, Train Acc: 1.0000, Val Acc: 0.7533, Test Acc: 0.7300\n",
            "Epoch 107, Loss: 0.1411, Train Acc: 1.0000, Val Acc: 0.7533, Test Acc: 0.7310\n",
            "Epoch 108, Loss: 0.1400, Train Acc: 1.0000, Val Acc: 0.7533, Test Acc: 0.7310\n"
          ]
        },
        {
          "output_type": "stream",
          "name": "stderr",
          "text": [
            "\r 11%|█         | 110/1000 [00:09<01:07, 13.11it/s]"
          ]
        },
        {
          "output_type": "stream",
          "name": "stdout",
          "text": [
            "Epoch 109, Loss: 0.1390, Train Acc: 1.0000, Val Acc: 0.7567, Test Acc: 0.7310\n",
            "Epoch 110, Loss: 0.1380, Train Acc: 1.0000, Val Acc: 0.7567, Test Acc: 0.7310\n",
            "Epoch 111, Loss: 0.1370, Train Acc: 1.0000, Val Acc: 0.7567, Test Acc: 0.7310\n"
          ]
        },
        {
          "output_type": "stream",
          "name": "stderr",
          "text": [
            " 11%|█▏        | 114/1000 [00:09<01:06, 13.29it/s]"
          ]
        },
        {
          "output_type": "stream",
          "name": "stdout",
          "text": [
            "Epoch 112, Loss: 0.1360, Train Acc: 1.0000, Val Acc: 0.7567, Test Acc: 0.7310\n",
            "Epoch 113, Loss: 0.1351, Train Acc: 1.0000, Val Acc: 0.7567, Test Acc: 0.7310\n",
            "Epoch 114, Loss: 0.1341, Train Acc: 1.0000, Val Acc: 0.7567, Test Acc: 0.7320\n"
          ]
        },
        {
          "output_type": "stream",
          "name": "stderr",
          "text": [
            "\r 12%|█▏        | 116/1000 [00:09<01:07, 13.15it/s]"
          ]
        },
        {
          "output_type": "stream",
          "name": "stdout",
          "text": [
            "Epoch 115, Loss: 0.1332, Train Acc: 1.0000, Val Acc: 0.7567, Test Acc: 0.7340\n",
            "Epoch 116, Loss: 0.1324, Train Acc: 1.0000, Val Acc: 0.7567, Test Acc: 0.7340\n",
            "Epoch 117, Loss: 0.1315, Train Acc: 1.0000, Val Acc: 0.7567, Test Acc: 0.7340\n"
          ]
        },
        {
          "output_type": "stream",
          "name": "stderr",
          "text": [
            " 12%|█▏        | 120/1000 [00:10<01:06, 13.24it/s]"
          ]
        },
        {
          "output_type": "stream",
          "name": "stdout",
          "text": [
            "Epoch 118, Loss: 0.1306, Train Acc: 1.0000, Val Acc: 0.7567, Test Acc: 0.7340\n",
            "Epoch 119, Loss: 0.1298, Train Acc: 1.0000, Val Acc: 0.7567, Test Acc: 0.7340\n",
            "Epoch 120, Loss: 0.1290, Train Acc: 1.0000, Val Acc: 0.7567, Test Acc: 0.7330\n"
          ]
        },
        {
          "output_type": "stream",
          "name": "stderr",
          "text": [
            "\r 12%|█▏        | 122/1000 [00:10<01:08, 12.82it/s]"
          ]
        },
        {
          "output_type": "stream",
          "name": "stdout",
          "text": [
            "Epoch 121, Loss: 0.1282, Train Acc: 1.0000, Val Acc: 0.7567, Test Acc: 0.7330\n",
            "Epoch 122, Loss: 0.1274, Train Acc: 1.0000, Val Acc: 0.7567, Test Acc: 0.7330\n",
            "Epoch 123, Loss: 0.1267, Train Acc: 1.0000, Val Acc: 0.7567, Test Acc: 0.7330\n"
          ]
        },
        {
          "output_type": "stream",
          "name": "stderr",
          "text": [
            " 13%|█▎        | 126/1000 [00:10<01:06, 13.06it/s]"
          ]
        },
        {
          "output_type": "stream",
          "name": "stdout",
          "text": [
            "Epoch 124, Loss: 0.1259, Train Acc: 1.0000, Val Acc: 0.7567, Test Acc: 0.7330\n",
            "Epoch 125, Loss: 0.1252, Train Acc: 1.0000, Val Acc: 0.7567, Test Acc: 0.7340\n",
            "Epoch 126, Loss: 0.1245, Train Acc: 1.0000, Val Acc: 0.7567, Test Acc: 0.7330\n"
          ]
        },
        {
          "output_type": "stream",
          "name": "stderr",
          "text": [
            "\r 13%|█▎        | 128/1000 [00:10<01:07, 12.97it/s]"
          ]
        },
        {
          "output_type": "stream",
          "name": "stdout",
          "text": [
            "Epoch 127, Loss: 0.1238, Train Acc: 1.0000, Val Acc: 0.7567, Test Acc: 0.7330\n",
            "Epoch 128, Loss: 0.1231, Train Acc: 1.0000, Val Acc: 0.7567, Test Acc: 0.7330\n",
            "Epoch 129, Loss: 0.1224, Train Acc: 1.0000, Val Acc: 0.7567, Test Acc: 0.7330\n"
          ]
        },
        {
          "output_type": "stream",
          "name": "stderr",
          "text": [
            " 13%|█▎        | 132/1000 [00:11<01:06, 13.13it/s]"
          ]
        },
        {
          "output_type": "stream",
          "name": "stdout",
          "text": [
            "Epoch 130, Loss: 0.1217, Train Acc: 1.0000, Val Acc: 0.7567, Test Acc: 0.7320\n",
            "Epoch 131, Loss: 0.1211, Train Acc: 1.0000, Val Acc: 0.7567, Test Acc: 0.7310\n",
            "Epoch 132, Loss: 0.1204, Train Acc: 1.0000, Val Acc: 0.7567, Test Acc: 0.7310\n"
          ]
        },
        {
          "output_type": "stream",
          "name": "stderr",
          "text": [
            "\r 13%|█▎        | 134/1000 [00:11<01:05, 13.18it/s]"
          ]
        },
        {
          "output_type": "stream",
          "name": "stdout",
          "text": [
            "Epoch 133, Loss: 0.1198, Train Acc: 1.0000, Val Acc: 0.7567, Test Acc: 0.7310\n",
            "Epoch 134, Loss: 0.1192, Train Acc: 1.0000, Val Acc: 0.7567, Test Acc: 0.7300\n",
            "Epoch 135, Loss: 0.1186, Train Acc: 1.0000, Val Acc: 0.7567, Test Acc: 0.7310\n"
          ]
        },
        {
          "output_type": "stream",
          "name": "stderr",
          "text": [
            " 14%|█▍        | 138/1000 [00:11<01:05, 13.15it/s]"
          ]
        },
        {
          "output_type": "stream",
          "name": "stdout",
          "text": [
            "Epoch 136, Loss: 0.1180, Train Acc: 1.0000, Val Acc: 0.7600, Test Acc: 0.7310\n",
            "Epoch 137, Loss: 0.1174, Train Acc: 1.0000, Val Acc: 0.7600, Test Acc: 0.7310\n",
            "Epoch 138, Loss: 0.1168, Train Acc: 1.0000, Val Acc: 0.7600, Test Acc: 0.7320\n"
          ]
        },
        {
          "output_type": "stream",
          "name": "stderr",
          "text": [
            "\r 14%|█▍        | 140/1000 [00:11<01:06, 12.98it/s]"
          ]
        },
        {
          "output_type": "stream",
          "name": "stdout",
          "text": [
            "Epoch 139, Loss: 0.1162, Train Acc: 1.0000, Val Acc: 0.7600, Test Acc: 0.7310\n",
            "Epoch 140, Loss: 0.1157, Train Acc: 1.0000, Val Acc: 0.7600, Test Acc: 0.7310\n",
            "Epoch 141, Loss: 0.1151, Train Acc: 1.0000, Val Acc: 0.7600, Test Acc: 0.7310\n"
          ]
        },
        {
          "output_type": "stream",
          "name": "stderr",
          "text": [
            " 14%|█▍        | 144/1000 [00:12<01:04, 13.19it/s]"
          ]
        },
        {
          "output_type": "stream",
          "name": "stdout",
          "text": [
            "Epoch 142, Loss: 0.1146, Train Acc: 1.0000, Val Acc: 0.7600, Test Acc: 0.7310\n",
            "Epoch 143, Loss: 0.1141, Train Acc: 1.0000, Val Acc: 0.7600, Test Acc: 0.7310\n",
            "Epoch 144, Loss: 0.1135, Train Acc: 1.0000, Val Acc: 0.7600, Test Acc: 0.7310\n"
          ]
        },
        {
          "output_type": "stream",
          "name": "stderr",
          "text": [
            "\r 15%|█▍        | 146/1000 [00:12<01:04, 13.32it/s]"
          ]
        },
        {
          "output_type": "stream",
          "name": "stdout",
          "text": [
            "Epoch 145, Loss: 0.1130, Train Acc: 1.0000, Val Acc: 0.7600, Test Acc: 0.7310\n",
            "Epoch 146, Loss: 0.1125, Train Acc: 1.0000, Val Acc: 0.7600, Test Acc: 0.7310\n",
            "Epoch 147, Loss: 0.1120, Train Acc: 1.0000, Val Acc: 0.7600, Test Acc: 0.7310\n"
          ]
        },
        {
          "output_type": "stream",
          "name": "stderr",
          "text": [
            " 15%|█▌        | 150/1000 [00:12<01:05, 13.05it/s]"
          ]
        },
        {
          "output_type": "stream",
          "name": "stdout",
          "text": [
            "Epoch 148, Loss: 0.1115, Train Acc: 1.0000, Val Acc: 0.7600, Test Acc: 0.7300\n",
            "Epoch 149, Loss: 0.1111, Train Acc: 1.0000, Val Acc: 0.7600, Test Acc: 0.7300\n",
            "Epoch 150, Loss: 0.1106, Train Acc: 1.0000, Val Acc: 0.7600, Test Acc: 0.7300\n"
          ]
        },
        {
          "output_type": "stream",
          "name": "stderr",
          "text": [
            "\r 15%|█▌        | 152/1000 [00:12<01:04, 13.16it/s]"
          ]
        },
        {
          "output_type": "stream",
          "name": "stdout",
          "text": [
            "Epoch 151, Loss: 0.1101, Train Acc: 1.0000, Val Acc: 0.7600, Test Acc: 0.7300\n",
            "Epoch 152, Loss: 0.1097, Train Acc: 1.0000, Val Acc: 0.7600, Test Acc: 0.7300\n",
            "Epoch 153, Loss: 0.1092, Train Acc: 1.0000, Val Acc: 0.7600, Test Acc: 0.7300\n"
          ]
        },
        {
          "output_type": "stream",
          "name": "stderr",
          "text": [
            " 16%|█▌        | 156/1000 [00:13<01:04, 13.01it/s]"
          ]
        },
        {
          "output_type": "stream",
          "name": "stdout",
          "text": [
            "Epoch 154, Loss: 0.1088, Train Acc: 1.0000, Val Acc: 0.7600, Test Acc: 0.7300\n",
            "Epoch 155, Loss: 0.1083, Train Acc: 1.0000, Val Acc: 0.7600, Test Acc: 0.7300\n",
            "Epoch 156, Loss: 0.1079, Train Acc: 1.0000, Val Acc: 0.7600, Test Acc: 0.7300\n"
          ]
        },
        {
          "output_type": "stream",
          "name": "stderr",
          "text": [
            "\r 16%|█▌        | 158/1000 [00:13<01:04, 13.01it/s]"
          ]
        },
        {
          "output_type": "stream",
          "name": "stdout",
          "text": [
            "Epoch 157, Loss: 0.1075, Train Acc: 1.0000, Val Acc: 0.7600, Test Acc: 0.7300\n",
            "Epoch 158, Loss: 0.1071, Train Acc: 1.0000, Val Acc: 0.7600, Test Acc: 0.7300\n",
            "Epoch 159, Loss: 0.1067, Train Acc: 1.0000, Val Acc: 0.7600, Test Acc: 0.7300\n"
          ]
        },
        {
          "output_type": "stream",
          "name": "stderr",
          "text": [
            " 16%|█▌        | 162/1000 [00:13<01:04, 13.09it/s]"
          ]
        },
        {
          "output_type": "stream",
          "name": "stdout",
          "text": [
            "Epoch 160, Loss: 0.1063, Train Acc: 1.0000, Val Acc: 0.7600, Test Acc: 0.7300\n",
            "Epoch 161, Loss: 0.1059, Train Acc: 1.0000, Val Acc: 0.7600, Test Acc: 0.7300\n",
            "Epoch 162, Loss: 0.1055, Train Acc: 1.0000, Val Acc: 0.7600, Test Acc: 0.7300\n"
          ]
        },
        {
          "output_type": "stream",
          "name": "stderr",
          "text": [
            "\r 16%|█▋        | 164/1000 [00:13<01:04, 13.02it/s]"
          ]
        },
        {
          "output_type": "stream",
          "name": "stdout",
          "text": [
            "Epoch 163, Loss: 0.1051, Train Acc: 1.0000, Val Acc: 0.7600, Test Acc: 0.7300\n",
            "Epoch 164, Loss: 0.1047, Train Acc: 1.0000, Val Acc: 0.7600, Test Acc: 0.7290\n",
            "Epoch 165, Loss: 0.1043, Train Acc: 1.0000, Val Acc: 0.7600, Test Acc: 0.7300\n"
          ]
        },
        {
          "output_type": "stream",
          "name": "stderr",
          "text": [
            " 17%|█▋        | 168/1000 [00:13<01:03, 13.04it/s]"
          ]
        },
        {
          "output_type": "stream",
          "name": "stdout",
          "text": [
            "Epoch 166, Loss: 0.1040, Train Acc: 1.0000, Val Acc: 0.7633, Test Acc: 0.7300\n",
            "Epoch 167, Loss: 0.1036, Train Acc: 1.0000, Val Acc: 0.7633, Test Acc: 0.7300\n",
            "Epoch 168, Loss: 0.1032, Train Acc: 1.0000, Val Acc: 0.7633, Test Acc: 0.7300\n"
          ]
        },
        {
          "output_type": "stream",
          "name": "stderr",
          "text": [
            "\r 17%|█▋        | 170/1000 [00:14<01:03, 13.04it/s]"
          ]
        },
        {
          "output_type": "stream",
          "name": "stdout",
          "text": [
            "Epoch 169, Loss: 0.1029, Train Acc: 1.0000, Val Acc: 0.7633, Test Acc: 0.7300\n",
            "Epoch 170, Loss: 0.1025, Train Acc: 1.0000, Val Acc: 0.7633, Test Acc: 0.7300\n",
            "Epoch 171, Loss: 0.1022, Train Acc: 1.0000, Val Acc: 0.7633, Test Acc: 0.7290\n"
          ]
        },
        {
          "output_type": "stream",
          "name": "stderr",
          "text": [
            " 17%|█▋        | 174/1000 [00:14<01:02, 13.15it/s]"
          ]
        },
        {
          "output_type": "stream",
          "name": "stdout",
          "text": [
            "Epoch 172, Loss: 0.1019, Train Acc: 1.0000, Val Acc: 0.7633, Test Acc: 0.7290\n",
            "Epoch 173, Loss: 0.1015, Train Acc: 1.0000, Val Acc: 0.7633, Test Acc: 0.7280\n",
            "Epoch 174, Loss: 0.1012, Train Acc: 1.0000, Val Acc: 0.7633, Test Acc: 0.7280\n"
          ]
        },
        {
          "output_type": "stream",
          "name": "stderr",
          "text": [
            "\r 18%|█▊        | 176/1000 [00:14<01:04, 12.85it/s]"
          ]
        },
        {
          "output_type": "stream",
          "name": "stdout",
          "text": [
            "Epoch 175, Loss: 0.1009, Train Acc: 1.0000, Val Acc: 0.7633, Test Acc: 0.7280\n",
            "Epoch 176, Loss: 0.1005, Train Acc: 1.0000, Val Acc: 0.7600, Test Acc: 0.7280\n",
            "Epoch 177, Loss: 0.1002, Train Acc: 1.0000, Val Acc: 0.7600, Test Acc: 0.7280\n"
          ]
        },
        {
          "output_type": "stream",
          "name": "stderr",
          "text": [
            " 18%|█▊        | 180/1000 [00:14<01:04, 12.75it/s]"
          ]
        },
        {
          "output_type": "stream",
          "name": "stdout",
          "text": [
            "Epoch 178, Loss: 0.0999, Train Acc: 1.0000, Val Acc: 0.7600, Test Acc: 0.7280\n",
            "Epoch 179, Loss: 0.0996, Train Acc: 1.0000, Val Acc: 0.7600, Test Acc: 0.7280\n",
            "Epoch 180, Loss: 0.0993, Train Acc: 1.0000, Val Acc: 0.7600, Test Acc: 0.7280\n"
          ]
        },
        {
          "output_type": "stream",
          "name": "stderr",
          "text": [
            "\r 18%|█▊        | 182/1000 [00:15<01:03, 12.95it/s]"
          ]
        },
        {
          "output_type": "stream",
          "name": "stdout",
          "text": [
            "Epoch 181, Loss: 0.0990, Train Acc: 1.0000, Val Acc: 0.7600, Test Acc: 0.7280\n",
            "Epoch 182, Loss: 0.0987, Train Acc: 1.0000, Val Acc: 0.7600, Test Acc: 0.7280\n",
            "Epoch 183, Loss: 0.0984, Train Acc: 1.0000, Val Acc: 0.7600, Test Acc: 0.7280\n"
          ]
        },
        {
          "output_type": "stream",
          "name": "stderr",
          "text": [
            " 19%|█▊        | 186/1000 [00:15<01:02, 13.08it/s]"
          ]
        },
        {
          "output_type": "stream",
          "name": "stdout",
          "text": [
            "Epoch 184, Loss: 0.0981, Train Acc: 1.0000, Val Acc: 0.7600, Test Acc: 0.7280\n",
            "Epoch 185, Loss: 0.0978, Train Acc: 1.0000, Val Acc: 0.7600, Test Acc: 0.7280\n",
            "Epoch 186, Loss: 0.0976, Train Acc: 1.0000, Val Acc: 0.7600, Test Acc: 0.7290\n"
          ]
        },
        {
          "output_type": "stream",
          "name": "stderr",
          "text": [
            "\r 19%|█▉        | 188/1000 [00:15<01:02, 13.08it/s]"
          ]
        },
        {
          "output_type": "stream",
          "name": "stdout",
          "text": [
            "Epoch 187, Loss: 0.0973, Train Acc: 1.0000, Val Acc: 0.7600, Test Acc: 0.7290\n",
            "Epoch 188, Loss: 0.0970, Train Acc: 1.0000, Val Acc: 0.7600, Test Acc: 0.7290\n",
            "Epoch 189, Loss: 0.0967, Train Acc: 1.0000, Val Acc: 0.7600, Test Acc: 0.7290\n"
          ]
        },
        {
          "output_type": "stream",
          "name": "stderr",
          "text": [
            " 19%|█▉        | 192/1000 [00:15<01:02, 12.95it/s]"
          ]
        },
        {
          "output_type": "stream",
          "name": "stdout",
          "text": [
            "Epoch 190, Loss: 0.0965, Train Acc: 1.0000, Val Acc: 0.7600, Test Acc: 0.7290\n",
            "Epoch 191, Loss: 0.0962, Train Acc: 1.0000, Val Acc: 0.7633, Test Acc: 0.7290\n",
            "Epoch 192, Loss: 0.0959, Train Acc: 1.0000, Val Acc: 0.7633, Test Acc: 0.7290\n"
          ]
        },
        {
          "output_type": "stream",
          "name": "stderr",
          "text": [
            "\r 19%|█▉        | 194/1000 [00:15<01:02, 12.89it/s]"
          ]
        },
        {
          "output_type": "stream",
          "name": "stdout",
          "text": [
            "Epoch 193, Loss: 0.0957, Train Acc: 1.0000, Val Acc: 0.7633, Test Acc: 0.7290\n",
            "Epoch 194, Loss: 0.0954, Train Acc: 1.0000, Val Acc: 0.7633, Test Acc: 0.7290\n",
            "Epoch 195, Loss: 0.0952, Train Acc: 1.0000, Val Acc: 0.7633, Test Acc: 0.7290\n"
          ]
        },
        {
          "output_type": "stream",
          "name": "stderr",
          "text": [
            " 20%|█▉        | 198/1000 [00:16<01:01, 13.10it/s]"
          ]
        },
        {
          "output_type": "stream",
          "name": "stdout",
          "text": [
            "Epoch 196, Loss: 0.0949, Train Acc: 1.0000, Val Acc: 0.7633, Test Acc: 0.7290\n",
            "Epoch 197, Loss: 0.0947, Train Acc: 1.0000, Val Acc: 0.7633, Test Acc: 0.7290\n",
            "Epoch 198, Loss: 0.0945, Train Acc: 1.0000, Val Acc: 0.7633, Test Acc: 0.7290\n"
          ]
        },
        {
          "output_type": "stream",
          "name": "stderr",
          "text": [
            "\r 20%|██        | 200/1000 [00:16<01:00, 13.12it/s]"
          ]
        },
        {
          "output_type": "stream",
          "name": "stdout",
          "text": [
            "Epoch 199, Loss: 0.0942, Train Acc: 1.0000, Val Acc: 0.7633, Test Acc: 0.7290\n",
            "Epoch 200, Loss: 0.0940, Train Acc: 1.0000, Val Acc: 0.7633, Test Acc: 0.7290\n",
            "Epoch 201, Loss: 0.0938, Train Acc: 1.0000, Val Acc: 0.7633, Test Acc: 0.7290\n"
          ]
        },
        {
          "output_type": "stream",
          "name": "stderr",
          "text": [
            " 20%|██        | 204/1000 [00:16<01:01, 12.88it/s]"
          ]
        },
        {
          "output_type": "stream",
          "name": "stdout",
          "text": [
            "Epoch 202, Loss: 0.0935, Train Acc: 1.0000, Val Acc: 0.7633, Test Acc: 0.7290\n",
            "Epoch 203, Loss: 0.0933, Train Acc: 1.0000, Val Acc: 0.7633, Test Acc: 0.7290\n",
            "Epoch 204, Loss: 0.0931, Train Acc: 1.0000, Val Acc: 0.7633, Test Acc: 0.7290\n"
          ]
        },
        {
          "output_type": "stream",
          "name": "stderr",
          "text": [
            "\r 21%|██        | 206/1000 [00:16<01:01, 12.85it/s]"
          ]
        },
        {
          "output_type": "stream",
          "name": "stdout",
          "text": [
            "Epoch 205, Loss: 0.0928, Train Acc: 1.0000, Val Acc: 0.7633, Test Acc: 0.7290\n",
            "Epoch 206, Loss: 0.0926, Train Acc: 1.0000, Val Acc: 0.7633, Test Acc: 0.7290\n",
            "Epoch 207, Loss: 0.0924, Train Acc: 1.0000, Val Acc: 0.7633, Test Acc: 0.7290\n"
          ]
        },
        {
          "output_type": "stream",
          "name": "stderr",
          "text": [
            " 21%|██        | 210/1000 [00:17<01:01, 12.93it/s]"
          ]
        },
        {
          "output_type": "stream",
          "name": "stdout",
          "text": [
            "Epoch 208, Loss: 0.0922, Train Acc: 1.0000, Val Acc: 0.7633, Test Acc: 0.7290\n",
            "Epoch 209, Loss: 0.0920, Train Acc: 1.0000, Val Acc: 0.7633, Test Acc: 0.7290\n",
            "Epoch 210, Loss: 0.0918, Train Acc: 1.0000, Val Acc: 0.7633, Test Acc: 0.7290\n"
          ]
        },
        {
          "output_type": "stream",
          "name": "stderr",
          "text": [
            "\r 21%|██        | 212/1000 [00:17<01:08, 11.49it/s]"
          ]
        },
        {
          "output_type": "stream",
          "name": "stdout",
          "text": [
            "Epoch 211, Loss: 0.0916, Train Acc: 1.0000, Val Acc: 0.7633, Test Acc: 0.7290\n",
            "Epoch 212, Loss: 0.0914, Train Acc: 1.0000, Val Acc: 0.7633, Test Acc: 0.7290\n"
          ]
        },
        {
          "output_type": "stream",
          "name": "stderr",
          "text": [
            "\r 21%|██▏       | 214/1000 [00:17<01:15, 10.38it/s]"
          ]
        },
        {
          "output_type": "stream",
          "name": "stdout",
          "text": [
            "Epoch 213, Loss: 0.0912, Train Acc: 1.0000, Val Acc: 0.7633, Test Acc: 0.7290\n",
            "Epoch 214, Loss: 0.0910, Train Acc: 1.0000, Val Acc: 0.7633, Test Acc: 0.7290\n"
          ]
        },
        {
          "output_type": "stream",
          "name": "stderr",
          "text": [
            "\r 22%|██▏       | 216/1000 [00:17<01:19,  9.81it/s]"
          ]
        },
        {
          "output_type": "stream",
          "name": "stdout",
          "text": [
            "Epoch 215, Loss: 0.0908, Train Acc: 1.0000, Val Acc: 0.7667, Test Acc: 0.7290\n",
            "Epoch 216, Loss: 0.0906, Train Acc: 1.0000, Val Acc: 0.7667, Test Acc: 0.7290\n"
          ]
        },
        {
          "output_type": "stream",
          "name": "stderr",
          "text": [
            "\r 22%|██▏       | 218/1000 [00:18<01:22,  9.50it/s]"
          ]
        },
        {
          "output_type": "stream",
          "name": "stdout",
          "text": [
            "Epoch 217, Loss: 0.0904, Train Acc: 1.0000, Val Acc: 0.7667, Test Acc: 0.7290\n",
            "Epoch 218, Loss: 0.0902, Train Acc: 1.0000, Val Acc: 0.7667, Test Acc: 0.7290\n"
          ]
        },
        {
          "output_type": "stream",
          "name": "stderr",
          "text": [
            " 22%|██▏       | 220/1000 [00:18<01:26,  8.97it/s]"
          ]
        },
        {
          "output_type": "stream",
          "name": "stdout",
          "text": [
            "Epoch 219, Loss: 0.0900, Train Acc: 1.0000, Val Acc: 0.7667, Test Acc: 0.7290\n",
            "Epoch 220, Loss: 0.0898, Train Acc: 1.0000, Val Acc: 0.7667, Test Acc: 0.7290\n"
          ]
        },
        {
          "output_type": "stream",
          "name": "stderr",
          "text": [
            " 22%|██▏       | 222/1000 [00:18<01:30,  8.63it/s]"
          ]
        },
        {
          "output_type": "stream",
          "name": "stdout",
          "text": [
            "Epoch 221, Loss: 0.0897, Train Acc: 1.0000, Val Acc: 0.7667, Test Acc: 0.7290\n",
            "Epoch 222, Loss: 0.0895, Train Acc: 1.0000, Val Acc: 0.7667, Test Acc: 0.7290\n"
          ]
        },
        {
          "output_type": "stream",
          "name": "stderr",
          "text": [
            " 22%|██▏       | 224/1000 [00:18<01:32,  8.35it/s]"
          ]
        },
        {
          "output_type": "stream",
          "name": "stdout",
          "text": [
            "Epoch 223, Loss: 0.0893, Train Acc: 1.0000, Val Acc: 0.7667, Test Acc: 0.7290\n",
            "Epoch 224, Loss: 0.0891, Train Acc: 1.0000, Val Acc: 0.7667, Test Acc: 0.7290\n"
          ]
        },
        {
          "output_type": "stream",
          "name": "stderr",
          "text": [
            " 23%|██▎       | 226/1000 [00:19<01:32,  8.40it/s]"
          ]
        },
        {
          "output_type": "stream",
          "name": "stdout",
          "text": [
            "Epoch 225, Loss: 0.0890, Train Acc: 1.0000, Val Acc: 0.7667, Test Acc: 0.7290\n",
            "Epoch 226, Loss: 0.0888, Train Acc: 1.0000, Val Acc: 0.7667, Test Acc: 0.7280\n"
          ]
        },
        {
          "output_type": "stream",
          "name": "stderr",
          "text": [
            " 23%|██▎       | 228/1000 [00:19<01:30,  8.50it/s]"
          ]
        },
        {
          "output_type": "stream",
          "name": "stdout",
          "text": [
            "Epoch 227, Loss: 0.0886, Train Acc: 1.0000, Val Acc: 0.7667, Test Acc: 0.7300\n",
            "Epoch 228, Loss: 0.0884, Train Acc: 1.0000, Val Acc: 0.7667, Test Acc: 0.7300\n"
          ]
        },
        {
          "output_type": "stream",
          "name": "stderr",
          "text": [
            " 23%|██▎       | 230/1000 [00:19<01:32,  8.36it/s]"
          ]
        },
        {
          "output_type": "stream",
          "name": "stdout",
          "text": [
            "Epoch 229, Loss: 0.0883, Train Acc: 1.0000, Val Acc: 0.7667, Test Acc: 0.7300\n",
            "Epoch 230, Loss: 0.0881, Train Acc: 1.0000, Val Acc: 0.7667, Test Acc: 0.7300\n"
          ]
        },
        {
          "output_type": "stream",
          "name": "stderr",
          "text": [
            " 23%|██▎       | 232/1000 [00:19<01:32,  8.33it/s]"
          ]
        },
        {
          "output_type": "stream",
          "name": "stdout",
          "text": [
            "Epoch 231, Loss: 0.0879, Train Acc: 1.0000, Val Acc: 0.7667, Test Acc: 0.7290\n",
            "Epoch 232, Loss: 0.0878, Train Acc: 1.0000, Val Acc: 0.7667, Test Acc: 0.7290\n"
          ]
        },
        {
          "output_type": "stream",
          "name": "stderr",
          "text": [
            " 23%|██▎       | 234/1000 [00:20<01:32,  8.26it/s]"
          ]
        },
        {
          "output_type": "stream",
          "name": "stdout",
          "text": [
            "Epoch 233, Loss: 0.0876, Train Acc: 1.0000, Val Acc: 0.7667, Test Acc: 0.7290\n",
            "Epoch 234, Loss: 0.0875, Train Acc: 1.0000, Val Acc: 0.7667, Test Acc: 0.7290\n"
          ]
        },
        {
          "output_type": "stream",
          "name": "stderr",
          "text": [
            " 24%|██▎       | 237/1000 [00:20<01:14, 10.31it/s]"
          ]
        },
        {
          "output_type": "stream",
          "name": "stdout",
          "text": [
            "Epoch 235, Loss: 0.0873, Train Acc: 1.0000, Val Acc: 0.7667, Test Acc: 0.7290\n",
            "Epoch 236, Loss: 0.0872, Train Acc: 1.0000, Val Acc: 0.7667, Test Acc: 0.7290\n",
            "Epoch 237, Loss: 0.0870, Train Acc: 1.0000, Val Acc: 0.7667, Test Acc: 0.7290\n"
          ]
        },
        {
          "output_type": "stream",
          "name": "stderr",
          "text": [
            "\r 24%|██▍       | 239/1000 [00:20<01:07, 11.32it/s]"
          ]
        },
        {
          "output_type": "stream",
          "name": "stdout",
          "text": [
            "Epoch 238, Loss: 0.0869, Train Acc: 1.0000, Val Acc: 0.7667, Test Acc: 0.7300\n",
            "Epoch 239, Loss: 0.0867, Train Acc: 1.0000, Val Acc: 0.7667, Test Acc: 0.7290\n",
            "Epoch 240, Loss: 0.0866, Train Acc: 1.0000, Val Acc: 0.7667, Test Acc: 0.7300\n"
          ]
        },
        {
          "output_type": "stream",
          "name": "stderr",
          "text": [
            " 24%|██▍       | 243/1000 [00:20<01:00, 12.50it/s]"
          ]
        },
        {
          "output_type": "stream",
          "name": "stdout",
          "text": [
            "Epoch 241, Loss: 0.0864, Train Acc: 1.0000, Val Acc: 0.7667, Test Acc: 0.7300\n",
            "Epoch 242, Loss: 0.0863, Train Acc: 1.0000, Val Acc: 0.7667, Test Acc: 0.7300\n",
            "Epoch 243, Loss: 0.0861, Train Acc: 1.0000, Val Acc: 0.7667, Test Acc: 0.7300\n"
          ]
        },
        {
          "output_type": "stream",
          "name": "stderr",
          "text": [
            "\r 24%|██▍       | 245/1000 [00:20<01:01, 12.29it/s]"
          ]
        },
        {
          "output_type": "stream",
          "name": "stdout",
          "text": [
            "Epoch 244, Loss: 0.0860, Train Acc: 1.0000, Val Acc: 0.7667, Test Acc: 0.7300\n",
            "Epoch 245, Loss: 0.0859, Train Acc: 1.0000, Val Acc: 0.7667, Test Acc: 0.7300\n",
            "Epoch 246, Loss: 0.0857, Train Acc: 1.0000, Val Acc: 0.7667, Test Acc: 0.7300\n"
          ]
        },
        {
          "output_type": "stream",
          "name": "stderr",
          "text": [
            " 25%|██▍       | 249/1000 [00:21<00:58, 12.76it/s]"
          ]
        },
        {
          "output_type": "stream",
          "name": "stdout",
          "text": [
            "Epoch 247, Loss: 0.0856, Train Acc: 1.0000, Val Acc: 0.7667, Test Acc: 0.7300\n",
            "Epoch 248, Loss: 0.0854, Train Acc: 1.0000, Val Acc: 0.7667, Test Acc: 0.7300\n",
            "Epoch 249, Loss: 0.0853, Train Acc: 1.0000, Val Acc: 0.7667, Test Acc: 0.7300\n"
          ]
        },
        {
          "output_type": "stream",
          "name": "stderr",
          "text": [
            "\r 25%|██▌       | 251/1000 [00:21<00:57, 12.92it/s]"
          ]
        },
        {
          "output_type": "stream",
          "name": "stdout",
          "text": [
            "Epoch 250, Loss: 0.0852, Train Acc: 1.0000, Val Acc: 0.7667, Test Acc: 0.7300\n",
            "Epoch 251, Loss: 0.0851, Train Acc: 1.0000, Val Acc: 0.7667, Test Acc: 0.7300\n",
            "Epoch 252, Loss: 0.0849, Train Acc: 1.0000, Val Acc: 0.7667, Test Acc: 0.7300\n"
          ]
        },
        {
          "output_type": "stream",
          "name": "stderr",
          "text": [
            " 26%|██▌       | 255/1000 [00:21<00:56, 13.19it/s]"
          ]
        },
        {
          "output_type": "stream",
          "name": "stdout",
          "text": [
            "Epoch 253, Loss: 0.0848, Train Acc: 1.0000, Val Acc: 0.7667, Test Acc: 0.7310\n",
            "Epoch 254, Loss: 0.0847, Train Acc: 1.0000, Val Acc: 0.7667, Test Acc: 0.7310\n",
            "Epoch 255, Loss: 0.0846, Train Acc: 1.0000, Val Acc: 0.7667, Test Acc: 0.7300\n"
          ]
        },
        {
          "output_type": "stream",
          "name": "stderr",
          "text": [
            "\r 26%|██▌       | 257/1000 [00:21<00:56, 13.19it/s]"
          ]
        },
        {
          "output_type": "stream",
          "name": "stdout",
          "text": [
            "Epoch 256, Loss: 0.0844, Train Acc: 1.0000, Val Acc: 0.7667, Test Acc: 0.7310\n",
            "Epoch 257, Loss: 0.0843, Train Acc: 1.0000, Val Acc: 0.7667, Test Acc: 0.7310\n",
            "Epoch 258, Loss: 0.0842, Train Acc: 1.0000, Val Acc: 0.7667, Test Acc: 0.7310\n"
          ]
        },
        {
          "output_type": "stream",
          "name": "stderr",
          "text": [
            " 26%|██▌       | 261/1000 [00:22<00:57, 12.86it/s]"
          ]
        },
        {
          "output_type": "stream",
          "name": "stdout",
          "text": [
            "Epoch 259, Loss: 0.0841, Train Acc: 1.0000, Val Acc: 0.7667, Test Acc: 0.7320\n",
            "Epoch 260, Loss: 0.0840, Train Acc: 1.0000, Val Acc: 0.7667, Test Acc: 0.7320\n",
            "Epoch 261, Loss: 0.0838, Train Acc: 1.0000, Val Acc: 0.7667, Test Acc: 0.7320\n"
          ]
        },
        {
          "output_type": "stream",
          "name": "stderr",
          "text": [
            "\r 26%|██▋       | 263/1000 [00:22<00:56, 13.01it/s]"
          ]
        },
        {
          "output_type": "stream",
          "name": "stdout",
          "text": [
            "Epoch 262, Loss: 0.0837, Train Acc: 1.0000, Val Acc: 0.7667, Test Acc: 0.7320\n",
            "Epoch 263, Loss: 0.0836, Train Acc: 1.0000, Val Acc: 0.7667, Test Acc: 0.7320\n",
            "Epoch 264, Loss: 0.0835, Train Acc: 1.0000, Val Acc: 0.7667, Test Acc: 0.7320\n"
          ]
        },
        {
          "output_type": "stream",
          "name": "stderr",
          "text": [
            " 27%|██▋       | 267/1000 [00:22<00:55, 13.27it/s]"
          ]
        },
        {
          "output_type": "stream",
          "name": "stdout",
          "text": [
            "Epoch 265, Loss: 0.0834, Train Acc: 1.0000, Val Acc: 0.7667, Test Acc: 0.7310\n",
            "Epoch 266, Loss: 0.0833, Train Acc: 1.0000, Val Acc: 0.7667, Test Acc: 0.7320\n",
            "Epoch 267, Loss: 0.0832, Train Acc: 1.0000, Val Acc: 0.7667, Test Acc: 0.7330\n"
          ]
        },
        {
          "output_type": "stream",
          "name": "stderr",
          "text": [
            "\r 27%|██▋       | 269/1000 [00:22<00:55, 13.25it/s]"
          ]
        },
        {
          "output_type": "stream",
          "name": "stdout",
          "text": [
            "Epoch 268, Loss: 0.0831, Train Acc: 1.0000, Val Acc: 0.7667, Test Acc: 0.7330\n",
            "Epoch 269, Loss: 0.0829, Train Acc: 1.0000, Val Acc: 0.7667, Test Acc: 0.7330\n",
            "Epoch 270, Loss: 0.0828, Train Acc: 1.0000, Val Acc: 0.7667, Test Acc: 0.7330\n"
          ]
        },
        {
          "output_type": "stream",
          "name": "stderr",
          "text": [
            " 27%|██▋       | 273/1000 [00:23<00:56, 12.76it/s]"
          ]
        },
        {
          "output_type": "stream",
          "name": "stdout",
          "text": [
            "Epoch 271, Loss: 0.0827, Train Acc: 1.0000, Val Acc: 0.7667, Test Acc: 0.7330\n",
            "Epoch 272, Loss: 0.0826, Train Acc: 1.0000, Val Acc: 0.7667, Test Acc: 0.7330\n",
            "Epoch 273, Loss: 0.0825, Train Acc: 1.0000, Val Acc: 0.7667, Test Acc: 0.7330\n"
          ]
        },
        {
          "output_type": "stream",
          "name": "stderr",
          "text": [
            "\r 28%|██▊       | 275/1000 [00:23<00:56, 12.81it/s]"
          ]
        },
        {
          "output_type": "stream",
          "name": "stdout",
          "text": [
            "Epoch 274, Loss: 0.0824, Train Acc: 1.0000, Val Acc: 0.7667, Test Acc: 0.7330\n",
            "Epoch 275, Loss: 0.0823, Train Acc: 1.0000, Val Acc: 0.7667, Test Acc: 0.7330\n",
            "Epoch 276, Loss: 0.0822, Train Acc: 1.0000, Val Acc: 0.7667, Test Acc: 0.7330\n"
          ]
        },
        {
          "output_type": "stream",
          "name": "stderr",
          "text": [
            " 28%|██▊       | 279/1000 [00:23<00:55, 12.99it/s]"
          ]
        },
        {
          "output_type": "stream",
          "name": "stdout",
          "text": [
            "Epoch 277, Loss: 0.0821, Train Acc: 1.0000, Val Acc: 0.7667, Test Acc: 0.7330\n",
            "Epoch 278, Loss: 0.0820, Train Acc: 1.0000, Val Acc: 0.7667, Test Acc: 0.7330\n",
            "Epoch 279, Loss: 0.0819, Train Acc: 1.0000, Val Acc: 0.7667, Test Acc: 0.7330\n"
          ]
        },
        {
          "output_type": "stream",
          "name": "stderr",
          "text": [
            "\r 28%|██▊       | 281/1000 [00:23<00:54, 13.09it/s]"
          ]
        },
        {
          "output_type": "stream",
          "name": "stdout",
          "text": [
            "Epoch 280, Loss: 0.0818, Train Acc: 1.0000, Val Acc: 0.7667, Test Acc: 0.7330\n",
            "Epoch 281, Loss: 0.0818, Train Acc: 1.0000, Val Acc: 0.7667, Test Acc: 0.7330\n",
            "Epoch 282, Loss: 0.0817, Train Acc: 1.0000, Val Acc: 0.7667, Test Acc: 0.7330\n"
          ]
        },
        {
          "output_type": "stream",
          "name": "stderr",
          "text": [
            " 28%|██▊       | 285/1000 [00:23<00:54, 13.17it/s]"
          ]
        },
        {
          "output_type": "stream",
          "name": "stdout",
          "text": [
            "Epoch 283, Loss: 0.0816, Train Acc: 1.0000, Val Acc: 0.7667, Test Acc: 0.7330\n",
            "Epoch 284, Loss: 0.0815, Train Acc: 1.0000, Val Acc: 0.7667, Test Acc: 0.7330\n",
            "Epoch 285, Loss: 0.0814, Train Acc: 1.0000, Val Acc: 0.7667, Test Acc: 0.7330\n"
          ]
        },
        {
          "output_type": "stream",
          "name": "stderr",
          "text": [
            "\r 29%|██▊       | 287/1000 [00:24<00:55, 12.77it/s]"
          ]
        },
        {
          "output_type": "stream",
          "name": "stdout",
          "text": [
            "Epoch 286, Loss: 0.0813, Train Acc: 1.0000, Val Acc: 0.7667, Test Acc: 0.7330\n",
            "Epoch 287, Loss: 0.0812, Train Acc: 1.0000, Val Acc: 0.7667, Test Acc: 0.7330\n",
            "Epoch 288, Loss: 0.0811, Train Acc: 1.0000, Val Acc: 0.7667, Test Acc: 0.7330\n"
          ]
        },
        {
          "output_type": "stream",
          "name": "stderr",
          "text": [
            " 29%|██▉       | 291/1000 [00:24<00:54, 13.08it/s]"
          ]
        },
        {
          "output_type": "stream",
          "name": "stdout",
          "text": [
            "Epoch 289, Loss: 0.0810, Train Acc: 1.0000, Val Acc: 0.7667, Test Acc: 0.7330\n",
            "Epoch 290, Loss: 0.0809, Train Acc: 1.0000, Val Acc: 0.7667, Test Acc: 0.7330\n",
            "Epoch 291, Loss: 0.0809, Train Acc: 1.0000, Val Acc: 0.7667, Test Acc: 0.7330\n"
          ]
        },
        {
          "output_type": "stream",
          "name": "stderr",
          "text": [
            "\r 29%|██▉       | 293/1000 [00:24<00:54, 13.03it/s]"
          ]
        },
        {
          "output_type": "stream",
          "name": "stdout",
          "text": [
            "Epoch 292, Loss: 0.0808, Train Acc: 1.0000, Val Acc: 0.7667, Test Acc: 0.7330\n",
            "Epoch 293, Loss: 0.0807, Train Acc: 1.0000, Val Acc: 0.7667, Test Acc: 0.7330\n",
            "Epoch 294, Loss: 0.0806, Train Acc: 1.0000, Val Acc: 0.7667, Test Acc: 0.7330\n"
          ]
        },
        {
          "output_type": "stream",
          "name": "stderr",
          "text": [
            " 30%|██▉       | 297/1000 [00:24<00:54, 13.02it/s]"
          ]
        },
        {
          "output_type": "stream",
          "name": "stdout",
          "text": [
            "Epoch 295, Loss: 0.0805, Train Acc: 1.0000, Val Acc: 0.7667, Test Acc: 0.7330\n",
            "Epoch 296, Loss: 0.0805, Train Acc: 1.0000, Val Acc: 0.7667, Test Acc: 0.7330\n",
            "Epoch 297, Loss: 0.0804, Train Acc: 1.0000, Val Acc: 0.7667, Test Acc: 0.7330\n"
          ]
        },
        {
          "output_type": "stream",
          "name": "stderr",
          "text": [
            "\r 30%|██▉       | 299/1000 [00:25<00:54, 12.95it/s]"
          ]
        },
        {
          "output_type": "stream",
          "name": "stdout",
          "text": [
            "Epoch 298, Loss: 0.0803, Train Acc: 1.0000, Val Acc: 0.7667, Test Acc: 0.7330\n",
            "Epoch 299, Loss: 0.0802, Train Acc: 1.0000, Val Acc: 0.7667, Test Acc: 0.7330\n",
            "Epoch 300, Loss: 0.0801, Train Acc: 1.0000, Val Acc: 0.7667, Test Acc: 0.7330\n"
          ]
        },
        {
          "output_type": "stream",
          "name": "stderr",
          "text": [
            " 30%|███       | 303/1000 [00:25<00:53, 13.01it/s]"
          ]
        },
        {
          "output_type": "stream",
          "name": "stdout",
          "text": [
            "Epoch 301, Loss: 0.0801, Train Acc: 1.0000, Val Acc: 0.7667, Test Acc: 0.7330\n",
            "Epoch 302, Loss: 0.0800, Train Acc: 1.0000, Val Acc: 0.7667, Test Acc: 0.7330\n",
            "Epoch 303, Loss: 0.0799, Train Acc: 1.0000, Val Acc: 0.7667, Test Acc: 0.7330\n"
          ]
        },
        {
          "output_type": "stream",
          "name": "stderr",
          "text": [
            "\r 30%|███       | 305/1000 [00:25<00:53, 13.07it/s]"
          ]
        },
        {
          "output_type": "stream",
          "name": "stdout",
          "text": [
            "Epoch 304, Loss: 0.0798, Train Acc: 1.0000, Val Acc: 0.7667, Test Acc: 0.7330\n",
            "Epoch 305, Loss: 0.0798, Train Acc: 1.0000, Val Acc: 0.7667, Test Acc: 0.7330\n",
            "Epoch 306, Loss: 0.0797, Train Acc: 1.0000, Val Acc: 0.7667, Test Acc: 0.7330\n"
          ]
        },
        {
          "output_type": "stream",
          "name": "stderr",
          "text": [
            " 31%|███       | 309/1000 [00:25<00:52, 13.18it/s]"
          ]
        },
        {
          "output_type": "stream",
          "name": "stdout",
          "text": [
            "Epoch 307, Loss: 0.0796, Train Acc: 1.0000, Val Acc: 0.7667, Test Acc: 0.7330\n",
            "Epoch 308, Loss: 0.0795, Train Acc: 1.0000, Val Acc: 0.7667, Test Acc: 0.7330\n",
            "Epoch 309, Loss: 0.0795, Train Acc: 1.0000, Val Acc: 0.7667, Test Acc: 0.7330\n"
          ]
        },
        {
          "output_type": "stream",
          "name": "stderr",
          "text": [
            "\r 31%|███       | 311/1000 [00:25<00:52, 13.01it/s]"
          ]
        },
        {
          "output_type": "stream",
          "name": "stdout",
          "text": [
            "Epoch 310, Loss: 0.0794, Train Acc: 1.0000, Val Acc: 0.7667, Test Acc: 0.7330\n",
            "Epoch 311, Loss: 0.0793, Train Acc: 1.0000, Val Acc: 0.7667, Test Acc: 0.7330\n",
            "Epoch 312, Loss: 0.0793, Train Acc: 1.0000, Val Acc: 0.7667, Test Acc: 0.7330\n"
          ]
        },
        {
          "output_type": "stream",
          "name": "stderr",
          "text": [
            " 31%|███▏      | 314/1000 [00:26<00:57, 11.95it/s]"
          ]
        },
        {
          "output_type": "stream",
          "name": "stdout",
          "text": [
            "Epoch 313, Loss: 0.0792, Train Acc: 1.0000, Val Acc: 0.7667, Test Acc: 0.7330\n",
            "Epoch 314, Loss: 0.0791, Train Acc: 1.0000, Val Acc: 0.7667, Test Acc: 0.7330\n",
            "Early stopping at epoch 315\n",
            "Best Validation Accuracy: 0.7667\n",
            "Test Accuracy at Best Validation: 0.7290\n"
          ]
        },
        {
          "output_type": "stream",
          "name": "stderr",
          "text": [
            "\n"
          ]
        }
      ]
    },
    {
      "cell_type": "code",
      "source": [],
      "metadata": {
        "id": "Yh3tpW9lwa84"
      },
      "execution_count": 21,
      "outputs": []
    },
    {
      "cell_type": "code",
      "source": [
        "def num_params(model):\n",
        "    return sum(p.numel() for p in model.parameters() if p.requires_grad)\n",
        "\n",
        "print('Number of parameters GCN: ', num_params(gcn))"
      ],
      "metadata": {
        "colab": {
          "base_uri": "https://localhost:8080/"
        },
        "id": "MlhfajCywa_e",
        "outputId": "cbbcfab4-a87f-46fd-b799-1e1ad54e5156"
      },
      "execution_count": 22,
      "outputs": [
        {
          "output_type": "stream",
          "name": "stdout",
          "text": [
            "Number of parameters GCN:  72057\n"
          ]
        }
      ]
    },
    {
      "cell_type": "code",
      "source": [
        "# prompt: add some visulaization of the losses, accuracies\n",
        "\n",
        "import matplotlib.pyplot as plt\n",
        "\n",
        "# Plot the loss\n",
        "plt.figure(figsize=(10, 6))\n",
        "plt.plot(losses)\n",
        "plt.title('Training Loss over Epochs')\n",
        "plt.xlabel('Epoch')\n",
        "plt.ylabel('Loss')\n",
        "plt.grid(True)\n",
        "plt.show()\n",
        "\n",
        "# Plot the accuracies\n",
        "plt.figure(figsize=(10, 6))\n",
        "plt.plot(train_accuracies, label='Train Accuracy')\n",
        "plt.plot(val_accuracies, label='Validation Accuracy')\n",
        "plt.plot(test_accuracies, label='Test Accuracy')\n",
        "plt.title('Accuracies over Epochs')\n",
        "plt.xlabel('Epoch')\n",
        "plt.ylabel('Accuracy')\n",
        "plt.legend()\n",
        "plt.grid(True)\n",
        "plt.show()\n"
      ],
      "metadata": {
        "colab": {
          "base_uri": "https://localhost:8080/",
          "height": 1000
        },
        "id": "wqvuRyzV3SqZ",
        "outputId": "d5cdf619-a2c5-4b4f-820e-89b00e532dcb"
      },
      "execution_count": 55,
      "outputs": [
        {
          "output_type": "display_data",
          "data": {
            "text/plain": [
              "<Figure size 1000x600 with 1 Axes>"
            ],
            "image/png": "[encoded data removed]"
          },
          "metadata": {}
        },
        {
          "output_type": "display_data",
          "data": {
            "text/plain": [
              "<Figure size 1000x600 with 1 Axes>"
            ],
            "image/png": "[encoded data removed]"
          },
          "metadata": {}
        }
      ]
    },
    {
      "cell_type": "code",
      "source": [
        "# prompt: show some correct classification on the test data\n",
        "\n",
        "gcn.eval()\n",
        "output = gcn(features, adj)\n",
        "test_output = output[idx_test]\n",
        "test_labels = labels[idx_test]\n",
        "\n",
        "predicted_labels = test_output.max(1)[1].type_as(test_labels)\n",
        "\n",
        "correctly_classified_indices = (predicted_labels == test_labels).nonzero(as_tuple=True)[0]\n",
        "incorrectly_classified_indices = (predicted_labels != test_labels).nonzero(as_tuple=True)[0]\n",
        "\n",
        "print(\"Examples of correct classifications on the test data:\")\n",
        "for i in correctly_classified_indices[:10]: # Display up to 10 examples\n",
        "    node_index_in_test_set = i.item()\n",
        "    actual_node_index = idx_test[node_index_in_test_set].item()\n",
        "\n",
        "    predicted_class_index = predicted_labels[i].item()\n",
        "    actual_class_index = test_labels[i].item()\n",
        "\n",
        "    predicted_class_name = classes[predicted_class_index]\n",
        "    actual_class_name = classes[actual_class_index]\n",
        "\n",
        "    print(f\"Node Index (in original dataset): {actual_node_index}, Predicted Class: {predicted_class_name}, Actual Class: {actual_class_name}\")\n"
      ],
      "metadata": {
        "colab": {
          "base_uri": "https://localhost:8080/"
        },
        "id": "PrzOHnP-3qXu",
        "outputId": "08e7ab2c-fbfa-4069-e5f6-009382aec502"
      },
      "execution_count": 26,
      "outputs": [
        {
          "output_type": "stream",
          "name": "stdout",
          "text": [
            "Examples of correct classifications on the test data:\n",
            "Node Index (in original dataset): 500, Predicted Class: Reinforcement_Learning, Actual Class: Reinforcement_Learning\n",
            "Node Index (in original dataset): 501, Predicted Class: Case_Based, Actual Class: Case_Based\n",
            "Node Index (in original dataset): 502, Predicted Class: Reinforcement_Learning, Actual Class: Reinforcement_Learning\n",
            "Node Index (in original dataset): 503, Predicted Class: Case_Based, Actual Class: Case_Based\n",
            "Node Index (in original dataset): 504, Predicted Class: Case_Based, Actual Class: Case_Based\n",
            "Node Index (in original dataset): 505, Predicted Class: Case_Based, Actual Class: Case_Based\n",
            "Node Index (in original dataset): 507, Predicted Class: Rule_Learning, Actual Class: Rule_Learning\n",
            "Node Index (in original dataset): 508, Predicted Class: Rule_Learning, Actual Class: Rule_Learning\n",
            "Node Index (in original dataset): 512, Predicted Class: Case_Based, Actual Class: Case_Based\n",
            "Node Index (in original dataset): 513, Predicted Class: Genetic_Algorithms, Actual Class: Genetic_Algorithms\n"
          ]
        }
      ]
    },
    {
      "cell_type": "code",
      "source": [
        "\n",
        "print(\"\\nExamples of incorrect classifications on the test data:\")\n",
        "for i in incorrectly_classified_indices[:10]: # Display up to 10 examples\n",
        "    node_index_in_test_set = i.item()\n",
        "    actual_node_index = idx_test[node_index_in_test_set].item()\n",
        "\n",
        "    predicted_class_index = predicted_labels[i].item()\n",
        "    actual_class_index = test_labels[i].item()\n",
        "\n",
        "    predicted_class_name = classes[predicted_class_index]\n",
        "    actual_class_name = classes[actual_class_index]\n",
        "\n",
        "    print(f\"Node Index (in original dataset): {actual_node_index}, Predicted Class: {predicted_class_name}, Actual Class: {actual_class_name}\")\n",
        "\n"
      ],
      "metadata": {
        "colab": {
          "base_uri": "https://localhost:8080/"
        },
        "id": "EzuqgRA1Cdgp",
        "outputId": "6b91a1ab-b851-4213-d59a-4070c6cdcf79"
      },
      "execution_count": 27,
      "outputs": [
        {
          "output_type": "stream",
          "name": "stdout",
          "text": [
            "\n",
            "Examples of incorrect classifications on the test data:\n",
            "Node Index (in original dataset): 506, Predicted Class: Rule_Learning, Actual Class: Reinforcement_Learning\n",
            "Node Index (in original dataset): 509, Predicted Class: Rule_Learning, Actual Class: Probabilistic_Methods\n",
            "Node Index (in original dataset): 510, Predicted Class: Case_Based, Actual Class: Genetic_Algorithms\n",
            "Node Index (in original dataset): 511, Predicted Class: Case_Based, Actual Class: Genetic_Algorithms\n",
            "Node Index (in original dataset): 518, Predicted Class: Genetic_Algorithms, Actual Class: Rule_Learning\n",
            "Node Index (in original dataset): 520, Predicted Class: Rule_Learning, Actual Class: Case_Based\n",
            "Node Index (in original dataset): 522, Predicted Class: Genetic_Algorithms, Actual Class: Rule_Learning\n",
            "Node Index (in original dataset): 523, Predicted Class: Reinforcement_Learning, Actual Class: Theory\n",
            "Node Index (in original dataset): 524, Predicted Class: Rule_Learning, Actual Class: Case_Based\n",
            "Node Index (in original dataset): 525, Predicted Class: Genetic_Algorithms, Actual Class: Rule_Learning\n"
          ]
        }
      ]
    },
    {
      "cell_type": "code",
      "source": [
        "# Visualization of classification results\n",
        "correct_count = len(correctly_classified_indices)\n",
        "incorrect_count = len(incorrectly_classified_indices)\n",
        "total_test_samples = len(test_labels)\n",
        "\n",
        "print(f\"\\nTotal test samples: {total_test_samples}\")\n",
        "print(f\"Correctly classified: {correct_count}\")\n",
        "print(f\"Incorrectly classified: {incorrect_count}\")"
      ],
      "metadata": {
        "colab": {
          "base_uri": "https://localhost:8080/"
        },
        "id": "R1QKo3RjCooD",
        "outputId": "b06da64f-ea9e-43a9-98a0-80627570e3be"
      },
      "execution_count": 28,
      "outputs": [
        {
          "output_type": "stream",
          "name": "stdout",
          "text": [
            "\n",
            "Total test samples: 1000\n",
            "Correctly classified: 834\n",
            "Incorrectly classified: 166\n"
          ]
        }
      ]
    },
    {
      "cell_type": "markdown",
      "source": [
        "To do: How does GCN behave when increasing the hidden feature dimensionality or the number of layers? Does increasing the number of layers help at all?"
      ],
      "metadata": {
        "id": "25RYS8cuKhHp"
      }
    },
    {
      "cell_type": "code",
      "source": [],
      "metadata": {
        "id": "cxDJzWnDDKlz"
      },
      "execution_count": null,
      "outputs": []
    },
    {
      "cell_type": "markdown",
      "source": [
        "#GraphSage"
      ],
      "metadata": {
        "id": "g3Q0yHG5DSST"
      }
    },
    {
      "cell_type": "code",
      "source": [
        "def gcn_accuracy(model):\n",
        "    \"\"\"\n",
        "    Perfom a forward pass `y_pred = model(x)` and computes the accuracy\n",
        "    between `y_pred` and `y_true`.\n",
        "\n",
        "    It is particuarly tricky to perform batching in GCN.\n",
        "    As you can see, here the forward pass is performed on the whole graph\n",
        "    \"\"\"\n",
        "    model.eval()\n",
        "    y_pred = model(features, adj)\n",
        "    output= y_pred[idx_test]\n",
        "    # Rename the sliced labels to a local variable name\n",
        "    local_labels = labels[idx_test]\n",
        "    preds= output.max(1)[1].type_as(local_labels) # Use the local variable here\n",
        "    correct = preds.eq(local_labels).double()    # Use the local variable here\n",
        "    correct=correct.sum()\n",
        "    acc = correct / len(local_labels)           # Use the local variable here\n",
        "    print(f\"Accuracy: {acc:.5}\")\n",
        "    return acc"
      ],
      "metadata": {
        "id": "p3Z-upAhwaxw"
      },
      "execution_count": 32,
      "outputs": []
    }
  ]
}