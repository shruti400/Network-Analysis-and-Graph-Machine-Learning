{
  "nbformat": 4,
  "nbformat_minor": 0,
  "metadata": {
    "colab": {
      "provenance": []
    },
    "kernelspec": {
      "name": "python3",
      "display_name": "Python 3"
    },
    "language_info": {
      "name": "python"
    }
  },
  "cells": [
    {
      "cell_type": "code",
      "execution_count": null,
      "metadata": {
        "colab": {
          "base_uri": "https://localhost:8080/"
        },
        "id": "FzRhdAecNcK6",
        "outputId": "1f219078-b54e-41ec-cd9f-eef4048871a5"
      },
      "outputs": [
        {
          "output_type": "stream",
          "name": "stdout",
          "text": [
            "Collecting leidenalg\n",
            "  Downloading leidenalg-0.10.2-cp38-abi3-manylinux_2_17_x86_64.manylinux2014_x86_64.whl.metadata (10 kB)\n",
            "Collecting python-igraph\n",
            "  Downloading python_igraph-0.11.8-py3-none-any.whl.metadata (2.8 kB)\n",
            "Collecting igraph<0.12,>=0.10.0 (from leidenalg)\n",
            "  Downloading igraph-0.11.8-cp39-abi3-manylinux_2_17_x86_64.manylinux2014_x86_64.whl.metadata (3.8 kB)\n",
            "Collecting texttable>=1.6.2 (from igraph<0.12,>=0.10.0->leidenalg)\n",
            "  Downloading texttable-1.7.0-py2.py3-none-any.whl.metadata (9.8 kB)\n",
            "Downloading leidenalg-0.10.2-cp38-abi3-manylinux_2_17_x86_64.manylinux2014_x86_64.whl (2.0 MB)\n",
            "\u001b[2K   \u001b[90m━━━━━━━━━━━━━━━━━━━━━━━━━━━━━━━━━━━━━━━━\u001b[0m \u001b[32m2.0/2.0 MB\u001b[0m \u001b[31m19.1 MB/s\u001b[0m eta \u001b[36m0:00:00\u001b[0m\n",
            "\u001b[?25hDownloading python_igraph-0.11.8-py3-none-any.whl (9.1 kB)\n",
            "Downloading igraph-0.11.8-cp39-abi3-manylinux_2_17_x86_64.manylinux2014_x86_64.whl (3.1 MB)\n",
            "\u001b[2K   \u001b[90m━━━━━━━━━━━━━━━━━━━━━━━━━━━━━━━━━━━━━━━━\u001b[0m \u001b[32m3.1/3.1 MB\u001b[0m \u001b[31m87.0 MB/s\u001b[0m eta \u001b[36m0:00:00\u001b[0m\n",
            "\u001b[?25hDownloading texttable-1.7.0-py2.py3-none-any.whl (10 kB)\n",
            "Installing collected packages: texttable, igraph, python-igraph, leidenalg\n",
            "Successfully installed igraph-0.11.8 leidenalg-0.10.2 python-igraph-0.11.8 texttable-1.7.0\n"
          ]
        }
      ],
      "source": [
        "import matplotlib.pyplot as plt\n",
        "import matplotlib.patches as mpatches\n",
        "import plotly.express as px\n",
        "import pandas as pd\n",
        "import numpy as np\n",
        "import math\n",
        "\n",
        "!pip install leidenalg python-igraph\n",
        "\n",
        "# graph related library\n",
        "import networkx as nx\n",
        "import leidenalg\n",
        "import igraph as ig\n",
        "import community as community_louvain\n",
        "import networkx.algorithms.community as nx_comm"
      ]
    },
    {
      "cell_type": "code",
      "source": [
        "cora = pd.read_csv('cora.cites',\n",
        "                   sep='\\t', header=None,\n",
        "                   names=['node1', 'node2'])\n",
        "\n",
        "# Create graph from edge list\n",
        "cora_network = nx.Graph(cora.values.tolist())\n"
      ],
      "metadata": {
        "id": "Q_ERelHzOI2V"
      },
      "execution_count": null,
      "outputs": []
    },
    {
      "cell_type": "code",
      "source": [
        "# calculate the 2-node, 3-node graphlets.  and use them as node features\n",
        "\n",
        "import pandas as pd\n",
        "# Function to calculate 2-node and 3-node graphlet counts as node features\n",
        "def graphlet_features(graph):\n",
        "  features = {}\n",
        "\n",
        "  # 2-node graphlets (Edges)\n",
        "  for node in graph.nodes():\n",
        "    features[node] = {'edges': graph.degree[node]} # Degree is the number of edges connected to the node\n",
        "\n",
        "  # 3-node graphlets\n",
        "  # Triangles (Cycles of length 3)\n",
        "  triangles = nx.triangles(graph)\n",
        "  for node, count in triangles.items():\n",
        "      features[node]['triangles'] = count\n",
        "\n",
        "  # Paths of length 2 (Two edges connected at the node)\n",
        "  for node in graph.nodes():\n",
        "      paths_len_2 = 0\n",
        "      for neighbor1 in graph.neighbors(node):\n",
        "          for neighbor2 in graph.neighbors(node):\n",
        "              if neighbor1 != neighbor2 and not graph.has_edge(neighbor1, neighbor2):\n",
        "                  paths_len_2 += 1\n",
        "      # Divide by 2 because each path is counted twice (once for each endpoint)\n",
        "      features[node]['paths_len_2'] = paths_len_2 // 2\n",
        "\n",
        "  return features\n",
        "\n",
        "# Calculate graphlet features for the cora_network\n",
        "cora_graphlet_features = graphlet_features(cora_network)\n",
        "\n",
        "# Convert the features to a DataFrame for easier handling\n",
        "cora_graphlet_features_df = pd.DataFrame.from_dict(cora_graphlet_features, orient='index')\n",
        "\n",
        "# Print the first few rows of the features DataFrame\n",
        "print(cora_graphlet_features_df.head())\n",
        "\n",
        "# Example of how you can use these features (e.g., adding them to the node attributes in the graph)\n",
        "for node, feats in cora_graphlet_features.items():\n",
        "    cora_network.nodes[node].update(feats)\n",
        "\n",
        "# You can now access these features from the graph's nodes\n",
        "# print(cora_network.nodes[0])\n"
      ],
      "metadata": {
        "colab": {
          "base_uri": "https://localhost:8080/"
        },
        "id": "usySZ4RpOOdT",
        "outputId": "8389c4f5-73de-4af5-feb3-ff0038e57e99"
      },
      "execution_count": null,
      "outputs": [
        {
          "output_type": "stream",
          "name": "stdout",
          "text": [
            "         edges  triangles  paths_len_2\n",
            "35         168        160        13868\n",
            "1033         5          1            9\n",
            "103482       6          2           13\n",
            "103515      11          9           46\n",
            "1050679      4          1            5\n"
          ]
        }
      ]
    },
    {
      "cell_type": "markdown",
      "source": [
        "Use the ORCA algorithm to count higher-degree graphlets efficiently\n",
        "https://github.com/thocevar/orca"
      ],
      "metadata": {
        "id": "GUv9kG_2EJ8m"
      }
    }
  ]
}